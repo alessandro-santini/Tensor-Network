{
 "cells": [
  {
   "cell_type": "code",
   "execution_count": 1,
   "id": "6a9a0047",
   "metadata": {},
   "outputs": [
    {
     "name": "stdout",
     "output_type": "stream",
     "text": [
      "0 0\n",
      "[[1. 0.]\n",
      " [0. 1.]]\n",
      "0 1\n",
      "[[0. 0.]\n",
      " [0. 0.]]\n",
      "0 2\n",
      "[[0. 0.]\n",
      " [0. 0.]]\n",
      "0 3\n",
      "[[0. 0.]\n",
      " [0. 0.]]\n",
      "0 4\n",
      "[[0. 0.]\n",
      " [0. 0.]]\n",
      "0 5\n",
      "[[0. 0.]\n",
      " [0. 0.]]\n",
      "1 0\n",
      "[[ 1.  0.]\n",
      " [ 0. -1.]]\n",
      "1 1\n",
      "[[0. 0.]\n",
      " [0. 0.]]\n",
      "1 2\n",
      "[[0. 0.]\n",
      " [0. 0.]]\n",
      "1 3\n",
      "[[0. 0.]\n",
      " [0. 0.]]\n",
      "1 4\n",
      "[[0. 0.]\n",
      " [0. 0.]]\n",
      "1 5\n",
      "[[0. 0.]\n",
      " [0. 0.]]\n",
      "2 0\n",
      "[[0. 0.]\n",
      " [0. 0.]]\n",
      "2 1\n",
      "[[1. 0.]\n",
      " [0. 1.]]\n",
      "2 2\n",
      "[[0. 0.]\n",
      " [0. 0.]]\n",
      "2 3\n",
      "[[0. 0.]\n",
      " [0. 0.]]\n",
      "2 4\n",
      "[[0. 0.]\n",
      " [0. 0.]]\n",
      "2 5\n",
      "[[0. 0.]\n",
      " [0. 0.]]\n",
      "3 0\n",
      "[[0. 0.]\n",
      " [0. 0.]]\n",
      "3 1\n",
      "[[0. 0.]\n",
      " [0. 0.]]\n",
      "3 2\n",
      "[[1. 0.]\n",
      " [0. 1.]]\n",
      "3 3\n",
      "[[0. 0.]\n",
      " [0. 0.]]\n",
      "3 4\n",
      "[[0. 0.]\n",
      " [0. 0.]]\n",
      "3 5\n",
      "[[0. 0.]\n",
      " [0. 0.]]\n",
      "4 0\n",
      "[[0. 0.]\n",
      " [0. 0.]]\n",
      "4 1\n",
      "[[0. 0.]\n",
      " [0. 0.]]\n",
      "4 2\n",
      "[[0. 0.]\n",
      " [0. 0.]]\n",
      "4 3\n",
      "[[1. 0.]\n",
      " [0. 1.]]\n",
      "4 4\n",
      "[[0. 0.]\n",
      " [0. 0.]]\n",
      "4 5\n",
      "[[0. 0.]\n",
      " [0. 0.]]\n",
      "5 0\n",
      "[[ 0. -1.]\n",
      " [-1.  0.]]\n",
      "5 1\n",
      "[[-0.5 -0. ]\n",
      " [-0.   0.5]]\n",
      "5 2\n",
      "[[0. 0.]\n",
      " [0. 0.]]\n",
      "5 3\n",
      "[[0. 0.]\n",
      " [0. 0.]]\n",
      "5 4\n",
      "[[-0.5 -0. ]\n",
      " [-0.   0.5]]\n",
      "5 5\n",
      "[[1. 0.]\n",
      " [0. 1.]]\n"
     ]
    }
   ],
   "source": [
    "import dmrg2 as dmrg\n",
    "import SpinSystems_2d as SS2d\n",
    "import numpy as np"
   ]
  },
  {
   "cell_type": "code",
   "execution_count": 2,
   "id": "dfaf9ef8",
   "metadata": {},
   "outputs": [],
   "source": [
    "Lx = 5\n",
    "Ly = 5\n",
    "\n",
    "L = Lx*Ly"
   ]
  },
  {
   "cell_type": "code",
   "execution_count": null,
   "id": "1ce6bea6",
   "metadata": {},
   "outputs": [
    {
     "name": "stdout",
     "output_type": "stream",
     "text": [
      "-3.0\n"
     ]
    },
    {
     "name": "stderr",
     "output_type": "stream",
     "text": [
      "C:\\Users\\asant\\Documents\\GitHub\\Tensor-Network\\LanczosRoutines.py:38: RuntimeWarning: beta[0] ~= 0 encountered during Lanczos iteration.\n",
      "  warnings.warn(\n"
     ]
    },
    {
     "name": "stdout",
     "output_type": "stream",
     "text": [
      "-2.9047619047619047\n",
      "-2.8095238095238093\n",
      "-2.7142857142857144\n",
      "-2.619047619047619\n",
      "-2.5238095238095237\n",
      "-2.428571428571429\n",
      "-2.3333333333333335\n",
      "-2.238095238095238\n",
      "-2.142857142857143\n",
      "-2.0476190476190474\n",
      "-1.9523809523809526\n",
      "-1.8571428571428572\n",
      "-1.7619047619047619\n",
      "-1.6666666666666667\n",
      "-1.5714285714285716\n"
     ]
    }
   ],
   "source": [
    "h_space = np.linspace(-3,3,64)\n",
    "e = []\n",
    "for h in h_space:\n",
    "    print(h)\n",
    "    H = SS2d.IsingMPO_2D(Lx,Ly,h,1)\n",
    "\n",
    "    engine = dmrg.DMRG2(H)\n",
    "    engine.initialize(16)\n",
    "\n",
    "    for i in range(10):\n",
    "        engine.dmrg_step(1e-9)\n",
    "    e.append(engine.E/L)"
   ]
  },
  {
   "cell_type": "code",
   "execution_count": null,
   "id": "5cd4b506",
   "metadata": {},
   "outputs": [],
   "source": [
    "import matplotlib.pyplot as plt\n",
    "\n",
    "plt.plot(engine.MPS.compute_EntEntropy())"
   ]
  },
  {
   "cell_type": "code",
   "execution_count": null,
   "id": "886c13d1",
   "metadata": {},
   "outputs": [],
   "source": [
    "import MPO_class as MPO\n",
    "mz = [0 for x in range(Lx*Ly)]\n",
    "for i in range(len(mz)):\n",
    "    mz[i] = MPO.getLocalMzMPO(len(mz),i)"
   ]
  },
  {
   "cell_type": "code",
   "execution_count": null,
   "id": "acdf8e46",
   "metadata": {},
   "outputs": [],
   "source": [
    "sz_meas = [0 for x in range(len(mz))]\n",
    "\n",
    "for i in range(len(sz_meas)):\n",
    "    sz_meas[i] = mz[i].contractMPOMPS(engine.MPS)\n"
   ]
  },
  {
   "cell_type": "code",
   "execution_count": null,
   "id": "26539d79",
   "metadata": {},
   "outputs": [],
   "source": [
    "engine.MPS"
   ]
  },
  {
   "cell_type": "code",
   "execution_count": null,
   "id": "ab4d1f4a",
   "metadata": {
    "scrolled": true
   },
   "outputs": [],
   "source": [
    "Lx*Ly"
   ]
  },
  {
   "cell_type": "code",
   "execution_count": null,
   "id": "2a8fae2b",
   "metadata": {},
   "outputs": [],
   "source": [
    "plt.plot(h_space,e)\n",
    "plt.plot(h_space,-np.abs(h_space))"
   ]
  },
  {
   "cell_type": "code",
   "execution_count": null,
   "id": "4784d7be",
   "metadata": {},
   "outputs": [],
   "source": [
    "plt.plot(h_space[1:],np.diff(e)/np.diff(h_space))"
   ]
  }
 ],
 "metadata": {
  "kernelspec": {
   "display_name": "Python 3",
   "language": "python",
   "name": "python3"
  },
  "language_info": {
   "codemirror_mode": {
    "name": "ipython",
    "version": 3
   },
   "file_extension": ".py",
   "mimetype": "text/x-python",
   "name": "python",
   "nbconvert_exporter": "python",
   "pygments_lexer": "ipython3",
   "version": "3.8.8"
  }
 },
 "nbformat": 4,
 "nbformat_minor": 5
}
