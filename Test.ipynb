{
 "cells": [
  {
   "cell_type": "code",
   "execution_count": 2,
   "id": "b4dc69fe",
   "metadata": {},
   "outputs": [],
   "source": [
    "import MPO_class as MPO\n",
    "import MPS_class as MPS\n",
    "import SpinSystems_1d as SS1d\n",
    "import dmrg1 as dmrg\n",
    "import thermal_tdvp2 as ttdvp\n",
    "from MixedMPS_class import mix_compute_corr\n",
    "import SpinSystems_2d as SS2d\n",
    "\n",
    "import numpy as np\n",
    "import matplotlib.pyplot as plt\n",
    "import seaborn as sns\n",
    "from ncon import ncon\n",
    "\n",
    "from compute_connected_correlation_function import compute_corr"
   ]
  },
  {
   "cell_type": "code",
   "execution_count": 4,
   "id": "c196eb83",
   "metadata": {
    "scrolled": false
   },
   "outputs": [
    {
     "name": "stdout",
     "output_type": "stream",
     "text": [
      "h 0.1 "
     ]
    },
    {
     "ename": "KeyboardInterrupt",
     "evalue": "",
     "output_type": "error",
     "traceback": [
      "\u001b[1;31m---------------------------------------------------------------------------\u001b[0m",
      "\u001b[1;31mKeyboardInterrupt\u001b[0m                         Traceback (most recent call last)",
      "\u001b[1;32m<ipython-input-4-e0eef46d9a78>\u001b[0m in \u001b[0;36m<module>\u001b[1;34m\u001b[0m\n\u001b[0;32m     23\u001b[0m         \u001b[1;32melse\u001b[0m\u001b[1;33m:\u001b[0m\u001b[1;33m\u001b[0m\u001b[1;33m\u001b[0m\u001b[0m\n\u001b[0;32m     24\u001b[0m             \u001b[0mengine\u001b[0m\u001b[1;33m.\u001b[0m\u001b[0mtruncate_info\u001b[0m \u001b[1;33m=\u001b[0m \u001b[1;32mTrue\u001b[0m\u001b[1;33m\u001b[0m\u001b[1;33m\u001b[0m\u001b[0m\n\u001b[1;32m---> 25\u001b[1;33m         \u001b[0mengine\u001b[0m\u001b[1;33m.\u001b[0m\u001b[0mbeta_step\u001b[0m\u001b[1;33m(\u001b[0m\u001b[0mdbeta\u001b[0m\u001b[1;33m,\u001b[0m\u001b[1;36m1e-11\u001b[0m\u001b[1;33m)\u001b[0m\u001b[1;33m\u001b[0m\u001b[1;33m\u001b[0m\u001b[0m\n\u001b[0m\u001b[0;32m     26\u001b[0m         \u001b[0mE\u001b[0m\u001b[1;33m.\u001b[0m\u001b[0mappend\u001b[0m\u001b[1;33m(\u001b[0m\u001b[0mengine\u001b[0m\u001b[1;33m.\u001b[0m\u001b[0mMPS\u001b[0m\u001b[1;33m.\u001b[0m\u001b[0mcontractMPOmixMPS\u001b[0m\u001b[1;33m(\u001b[0m\u001b[0mH\u001b[0m\u001b[1;33m)\u001b[0m\u001b[1;33m)\u001b[0m\u001b[1;33m\u001b[0m\u001b[1;33m\u001b[0m\u001b[0m\n\u001b[0;32m     27\u001b[0m         \u001b[0mbeta\u001b[0m \u001b[1;33m+=\u001b[0m \u001b[0mdbeta\u001b[0m\u001b[1;33m\u001b[0m\u001b[1;33m\u001b[0m\u001b[0m\n",
      "\u001b[1;32m~\\Documents\\GitHub\\Tensor-Network\\thermal_tdvp2.py\u001b[0m in \u001b[0;36mbeta_step\u001b[1;34m(self, delta, etrunc, krydim)\u001b[0m\n\u001b[0;32m    146\u001b[0m         \u001b[0mself\u001b[0m\u001b[1;33m.\u001b[0m\u001b[0metrunc\u001b[0m \u001b[1;33m=\u001b[0m \u001b[0metrunc\u001b[0m\u001b[1;33m\u001b[0m\u001b[1;33m\u001b[0m\u001b[0m\n\u001b[0;32m    147\u001b[0m         \u001b[0mself\u001b[0m\u001b[1;33m.\u001b[0m\u001b[0mright_sweep\u001b[0m\u001b[1;33m(\u001b[0m\u001b[1;33m-\u001b[0m\u001b[1;36m1j\u001b[0m\u001b[1;33m*\u001b[0m\u001b[0mdelta\u001b[0m\u001b[1;33m,\u001b[0m\u001b[0mkrydim\u001b[0m\u001b[1;33m)\u001b[0m\u001b[1;33m\u001b[0m\u001b[1;33m\u001b[0m\u001b[0m\n\u001b[1;32m--> 148\u001b[1;33m         \u001b[0mself\u001b[0m\u001b[1;33m.\u001b[0m\u001b[0mleft_sweep\u001b[0m\u001b[1;33m(\u001b[0m\u001b[1;33m-\u001b[0m\u001b[1;36m1j\u001b[0m\u001b[1;33m*\u001b[0m\u001b[0mdelta\u001b[0m\u001b[1;33m,\u001b[0m\u001b[0mkrydim\u001b[0m\u001b[1;33m)\u001b[0m\u001b[1;33m\u001b[0m\u001b[1;33m\u001b[0m\u001b[0m\n\u001b[0m",
      "\u001b[1;32m~\\Documents\\GitHub\\Tensor-Network\\thermal_tdvp2.py\u001b[0m in \u001b[0;36mleft_sweep\u001b[1;34m(self, delta, krydim)\u001b[0m\n\u001b[0;32m    108\u001b[0m             \u001b[0mshpMj\u001b[0m \u001b[1;33m=\u001b[0m \u001b[0mself\u001b[0m\u001b[1;33m.\u001b[0m\u001b[0mMPS\u001b[0m\u001b[1;33m.\u001b[0m\u001b[0mM\u001b[0m\u001b[1;33m[\u001b[0m\u001b[0mi\u001b[0m\u001b[1;33m]\u001b[0m\u001b[1;33m.\u001b[0m\u001b[0mshape\u001b[0m\u001b[1;33m\u001b[0m\u001b[1;33m\u001b[0m\u001b[0m\n\u001b[0;32m    109\u001b[0m \u001b[1;33m\u001b[0m\u001b[0m\n\u001b[1;32m--> 110\u001b[1;33m             \u001b[0mpsi\u001b[0m \u001b[1;33m=\u001b[0m \u001b[0mlocal_exponentiation\u001b[0m\u001b[1;33m(\u001b[0m\u001b[1;34m'H2'\u001b[0m\u001b[1;33m,\u001b[0m\u001b[0mM\u001b[0m\u001b[1;33m,\u001b[0m \u001b[0mself\u001b[0m\u001b[1;33m.\u001b[0m\u001b[0mLT\u001b[0m\u001b[1;33m[\u001b[0m\u001b[0mi\u001b[0m\u001b[1;33m-\u001b[0m\u001b[1;36m2\u001b[0m\u001b[1;33m]\u001b[0m\u001b[1;33m,\u001b[0m \u001b[0mself\u001b[0m\u001b[1;33m.\u001b[0m\u001b[0mW12\u001b[0m\u001b[1;33m[\u001b[0m\u001b[0mi\u001b[0m\u001b[1;33m-\u001b[0m\u001b[1;36m1\u001b[0m\u001b[1;33m]\u001b[0m\u001b[1;33m,\u001b[0m \u001b[0mself\u001b[0m\u001b[1;33m.\u001b[0m\u001b[0mRT\u001b[0m\u001b[1;33m[\u001b[0m\u001b[0mi\u001b[0m\u001b[1;33m+\u001b[0m\u001b[1;36m1\u001b[0m\u001b[1;33m]\u001b[0m\u001b[1;33m,\u001b[0m\u001b[1;33m-\u001b[0m\u001b[0mdelta\u001b[0m\u001b[1;33m,\u001b[0m\u001b[0mkrydim\u001b[0m\u001b[1;33m)\u001b[0m\u001b[1;33m\u001b[0m\u001b[1;33m\u001b[0m\u001b[0m\n\u001b[0m\u001b[0;32m    111\u001b[0m             \u001b[0mM\u001b[0m \u001b[1;33m=\u001b[0m \u001b[0mpsi\u001b[0m\u001b[1;33m.\u001b[0m\u001b[0mreshape\u001b[0m\u001b[1;33m(\u001b[0m\u001b[0mshpMi\u001b[0m\u001b[1;33m[\u001b[0m\u001b[1;36m0\u001b[0m\u001b[1;33m]\u001b[0m\u001b[1;33m*\u001b[0m\u001b[0mshpMi\u001b[0m\u001b[1;33m[\u001b[0m\u001b[1;36m1\u001b[0m\u001b[1;33m]\u001b[0m\u001b[1;33m*\u001b[0m\u001b[0mshpMi\u001b[0m\u001b[1;33m[\u001b[0m\u001b[1;36m2\u001b[0m\u001b[1;33m]\u001b[0m\u001b[1;33m,\u001b[0m\u001b[0mshpMj\u001b[0m\u001b[1;33m[\u001b[0m\u001b[1;36m1\u001b[0m\u001b[1;33m]\u001b[0m\u001b[1;33m*\u001b[0m\u001b[0mshpMj\u001b[0m\u001b[1;33m[\u001b[0m\u001b[1;36m2\u001b[0m\u001b[1;33m]\u001b[0m\u001b[1;33m*\u001b[0m\u001b[0mshpMj\u001b[0m\u001b[1;33m[\u001b[0m\u001b[1;36m3\u001b[0m\u001b[1;33m]\u001b[0m\u001b[1;33m)\u001b[0m\u001b[1;33m\u001b[0m\u001b[1;33m\u001b[0m\u001b[0m\n\u001b[0;32m    112\u001b[0m \u001b[1;33m\u001b[0m\u001b[0m\n",
      "\u001b[1;32m~\\Documents\\GitHub\\Tensor-Network\\thermal_tdvp2.py\u001b[0m in \u001b[0;36mlocal_exponentiation\u001b[1;34m(method, M, L, H, R, delta, maxit)\u001b[0m\n\u001b[0;32m     24\u001b[0m     \u001b[1;32mif\u001b[0m \u001b[0mmethod\u001b[0m \u001b[1;33m==\u001b[0m \u001b[1;34m'H1'\u001b[0m\u001b[1;33m:\u001b[0m\u001b[1;33m\u001b[0m\u001b[1;33m\u001b[0m\u001b[0m\n\u001b[0;32m     25\u001b[0m             \u001b[0mAfunc\u001b[0m \u001b[1;33m=\u001b[0m \u001b[1;32mlambda\u001b[0m \u001b[0mx\u001b[0m\u001b[1;33m:\u001b[0m \u001b[0mapply_Heff1\u001b[0m\u001b[1;33m(\u001b[0m\u001b[0mL\u001b[0m\u001b[1;33m,\u001b[0m \u001b[0mH\u001b[0m\u001b[1;33m,\u001b[0m \u001b[0mR\u001b[0m\u001b[1;33m,\u001b[0m \u001b[0mx\u001b[0m\u001b[1;33m.\u001b[0m\u001b[0mreshape\u001b[0m\u001b[1;33m(\u001b[0m\u001b[0mM\u001b[0m\u001b[1;33m.\u001b[0m\u001b[0mshape\u001b[0m\u001b[1;33m)\u001b[0m\u001b[1;33m)\u001b[0m\u001b[1;33m.\u001b[0m\u001b[0mravel\u001b[0m\u001b[1;33m(\u001b[0m\u001b[1;33m)\u001b[0m\u001b[1;33m\u001b[0m\u001b[1;33m\u001b[0m\u001b[0m\n\u001b[1;32m---> 26\u001b[1;33m     \u001b[0mv\u001b[0m \u001b[1;33m=\u001b[0m \u001b[0mexpm_krylov_lanczos\u001b[0m\u001b[1;33m(\u001b[0m\u001b[0mAfunc\u001b[0m\u001b[1;33m,\u001b[0m \u001b[0mM\u001b[0m\u001b[1;33m.\u001b[0m\u001b[0mravel\u001b[0m\u001b[1;33m(\u001b[0m\u001b[1;33m)\u001b[0m\u001b[1;33m,\u001b[0m \u001b[1;36m1j\u001b[0m\u001b[1;33m*\u001b[0m\u001b[0mdelta\u001b[0m\u001b[1;33m/\u001b[0m\u001b[1;36m2\u001b[0m\u001b[1;33m,\u001b[0m \u001b[0mmaxit\u001b[0m\u001b[1;33m)\u001b[0m\u001b[1;33m\u001b[0m\u001b[1;33m\u001b[0m\u001b[0m\n\u001b[0m\u001b[0;32m     27\u001b[0m     \u001b[1;32mreturn\u001b[0m \u001b[0mv\u001b[0m\u001b[1;33m/\u001b[0m\u001b[0mLA\u001b[0m\u001b[1;33m.\u001b[0m\u001b[0mnorm\u001b[0m\u001b[1;33m(\u001b[0m\u001b[0mv\u001b[0m\u001b[1;33m)\u001b[0m\u001b[1;33m\u001b[0m\u001b[1;33m\u001b[0m\u001b[0m\n\u001b[0;32m     28\u001b[0m \u001b[1;33m\u001b[0m\u001b[0m\n",
      "\u001b[1;32m~\\Documents\\GitHub\\Tensor-Network\\LanczosRoutines.py\u001b[0m in \u001b[0;36mexpm_krylov_lanczos\u001b[1;34m(Afunc, v, dt, numiter, ortho_info)\u001b[0m\n\u001b[0;32m     69\u001b[0m     \"\"\"\n\u001b[0;32m     70\u001b[0m \u001b[1;33m\u001b[0m\u001b[0m\n\u001b[1;32m---> 71\u001b[1;33m     \u001b[0malpha\u001b[0m\u001b[1;33m,\u001b[0m \u001b[0mbeta\u001b[0m\u001b[1;33m,\u001b[0m \u001b[0mV\u001b[0m \u001b[1;33m=\u001b[0m \u001b[0mlanczos_iteration\u001b[0m\u001b[1;33m(\u001b[0m\u001b[0mAfunc\u001b[0m\u001b[1;33m,\u001b[0m \u001b[0mv\u001b[0m\u001b[1;33m,\u001b[0m \u001b[0mnumiter\u001b[0m\u001b[1;33m,\u001b[0m \u001b[0mortho_info\u001b[0m\u001b[1;33m=\u001b[0m\u001b[0mortho_info\u001b[0m\u001b[1;33m)\u001b[0m\u001b[1;33m\u001b[0m\u001b[1;33m\u001b[0m\u001b[0m\n\u001b[0m\u001b[0;32m     72\u001b[0m \u001b[1;33m\u001b[0m\u001b[0m\n\u001b[0;32m     73\u001b[0m     \u001b[1;31m# diagonalize Hessenberg matrix\u001b[0m\u001b[1;33m\u001b[0m\u001b[1;33m\u001b[0m\u001b[1;33m\u001b[0m\u001b[0m\n",
      "\u001b[1;32m~\\Documents\\GitHub\\Tensor-Network\\LanczosRoutines.py\u001b[0m in \u001b[0;36mlanczos_iteration\u001b[1;34m(Afunc, vstart, numiter, ortho_info)\u001b[0m\n\u001b[0;32m     52\u001b[0m \u001b[1;33m\u001b[0m\u001b[0m\n\u001b[0;32m     53\u001b[0m     \u001b[0mj\u001b[0m \u001b[1;33m=\u001b[0m \u001b[0mnumiter\u001b[0m\u001b[1;33m-\u001b[0m\u001b[1;36m1\u001b[0m\u001b[1;33m\u001b[0m\u001b[1;33m\u001b[0m\u001b[0m\n\u001b[1;32m---> 54\u001b[1;33m     \u001b[0mw\u001b[0m \u001b[1;33m=\u001b[0m \u001b[0mAfunc\u001b[0m\u001b[1;33m(\u001b[0m\u001b[0mV\u001b[0m\u001b[1;33m[\u001b[0m\u001b[0mj\u001b[0m\u001b[1;33m]\u001b[0m\u001b[1;33m)\u001b[0m\u001b[1;33m\u001b[0m\u001b[1;33m\u001b[0m\u001b[0m\n\u001b[0m\u001b[0;32m     55\u001b[0m     \u001b[0malpha\u001b[0m\u001b[1;33m[\u001b[0m\u001b[0mj\u001b[0m\u001b[1;33m]\u001b[0m \u001b[1;33m=\u001b[0m \u001b[0mnp\u001b[0m\u001b[1;33m.\u001b[0m\u001b[0mvdot\u001b[0m\u001b[1;33m(\u001b[0m\u001b[0mw\u001b[0m\u001b[1;33m,\u001b[0m \u001b[0mV\u001b[0m\u001b[1;33m[\u001b[0m\u001b[0mj\u001b[0m\u001b[1;33m]\u001b[0m\u001b[1;33m)\u001b[0m\u001b[1;33m.\u001b[0m\u001b[0mreal\u001b[0m\u001b[1;33m\u001b[0m\u001b[1;33m\u001b[0m\u001b[0m\n\u001b[0;32m     56\u001b[0m \u001b[1;33m\u001b[0m\u001b[0m\n",
      "\u001b[1;32m~\\Documents\\GitHub\\Tensor-Network\\thermal_tdvp2.py\u001b[0m in \u001b[0;36m<lambda>\u001b[1;34m(x)\u001b[0m\n\u001b[0;32m     21\u001b[0m \u001b[1;32mdef\u001b[0m \u001b[0mlocal_exponentiation\u001b[0m\u001b[1;33m(\u001b[0m\u001b[0mmethod\u001b[0m\u001b[1;33m,\u001b[0m\u001b[0mM\u001b[0m\u001b[1;33m,\u001b[0m\u001b[0mL\u001b[0m\u001b[1;33m,\u001b[0m\u001b[0mH\u001b[0m\u001b[1;33m,\u001b[0m\u001b[0mR\u001b[0m\u001b[1;33m,\u001b[0m\u001b[0mdelta\u001b[0m\u001b[1;33m,\u001b[0m\u001b[0mmaxit\u001b[0m\u001b[1;33m=\u001b[0m\u001b[1;36m10\u001b[0m\u001b[1;33m)\u001b[0m\u001b[1;33m:\u001b[0m\u001b[1;33m\u001b[0m\u001b[1;33m\u001b[0m\u001b[0m\n\u001b[0;32m     22\u001b[0m     \u001b[1;32mif\u001b[0m \u001b[0mmethod\u001b[0m \u001b[1;33m==\u001b[0m \u001b[1;34m'H2'\u001b[0m\u001b[1;33m:\u001b[0m\u001b[1;33m\u001b[0m\u001b[1;33m\u001b[0m\u001b[0m\n\u001b[1;32m---> 23\u001b[1;33m             \u001b[0mAfunc\u001b[0m \u001b[1;33m=\u001b[0m \u001b[1;32mlambda\u001b[0m \u001b[0mx\u001b[0m\u001b[1;33m:\u001b[0m \u001b[0mapply_Heff2\u001b[0m\u001b[1;33m(\u001b[0m\u001b[0mL\u001b[0m\u001b[1;33m,\u001b[0m \u001b[0mH\u001b[0m\u001b[1;33m,\u001b[0m \u001b[0mR\u001b[0m\u001b[1;33m,\u001b[0m \u001b[0mx\u001b[0m\u001b[1;33m.\u001b[0m\u001b[0mreshape\u001b[0m\u001b[1;33m(\u001b[0m\u001b[0mM\u001b[0m\u001b[1;33m.\u001b[0m\u001b[0mshape\u001b[0m\u001b[1;33m)\u001b[0m\u001b[1;33m)\u001b[0m\u001b[1;33m.\u001b[0m\u001b[0mravel\u001b[0m\u001b[1;33m(\u001b[0m\u001b[1;33m)\u001b[0m\u001b[1;33m\u001b[0m\u001b[1;33m\u001b[0m\u001b[0m\n\u001b[0m\u001b[0;32m     24\u001b[0m     \u001b[1;32mif\u001b[0m \u001b[0mmethod\u001b[0m \u001b[1;33m==\u001b[0m \u001b[1;34m'H1'\u001b[0m\u001b[1;33m:\u001b[0m\u001b[1;33m\u001b[0m\u001b[1;33m\u001b[0m\u001b[0m\n\u001b[0;32m     25\u001b[0m             \u001b[0mAfunc\u001b[0m \u001b[1;33m=\u001b[0m \u001b[1;32mlambda\u001b[0m \u001b[0mx\u001b[0m\u001b[1;33m:\u001b[0m \u001b[0mapply_Heff1\u001b[0m\u001b[1;33m(\u001b[0m\u001b[0mL\u001b[0m\u001b[1;33m,\u001b[0m \u001b[0mH\u001b[0m\u001b[1;33m,\u001b[0m \u001b[0mR\u001b[0m\u001b[1;33m,\u001b[0m \u001b[0mx\u001b[0m\u001b[1;33m.\u001b[0m\u001b[0mreshape\u001b[0m\u001b[1;33m(\u001b[0m\u001b[0mM\u001b[0m\u001b[1;33m.\u001b[0m\u001b[0mshape\u001b[0m\u001b[1;33m)\u001b[0m\u001b[1;33m)\u001b[0m\u001b[1;33m.\u001b[0m\u001b[0mravel\u001b[0m\u001b[1;33m(\u001b[0m\u001b[1;33m)\u001b[0m\u001b[1;33m\u001b[0m\u001b[1;33m\u001b[0m\u001b[0m\n",
      "\u001b[1;32m~\\Documents\\GitHub\\Tensor-Network\\thermal_tdvp2.py\u001b[0m in \u001b[0;36mapply_Heff2\u001b[1;34m(L, H, R, M)\u001b[0m\n\u001b[0;32m     15\u001b[0m \u001b[1;31m##         +--M--+\u001b[0m\u001b[1;33m\u001b[0m\u001b[1;33m\u001b[0m\u001b[1;33m\u001b[0m\u001b[0m\n\u001b[0;32m     16\u001b[0m \u001b[1;32mdef\u001b[0m \u001b[0mapply_Heff2\u001b[0m\u001b[1;33m(\u001b[0m\u001b[0mL\u001b[0m\u001b[1;33m,\u001b[0m\u001b[0mH\u001b[0m\u001b[1;33m,\u001b[0m\u001b[0mR\u001b[0m\u001b[1;33m,\u001b[0m\u001b[0mM\u001b[0m\u001b[1;33m)\u001b[0m\u001b[1;33m:\u001b[0m\u001b[1;33m\u001b[0m\u001b[1;33m\u001b[0m\u001b[0m\n\u001b[1;32m---> 17\u001b[1;33m     \u001b[1;32mreturn\u001b[0m \u001b[0mncon\u001b[0m\u001b[1;33m(\u001b[0m\u001b[1;33m[\u001b[0m\u001b[0mL\u001b[0m\u001b[1;33m,\u001b[0m \u001b[0mH\u001b[0m\u001b[1;33m,\u001b[0m \u001b[0mR\u001b[0m\u001b[1;33m,\u001b[0m\u001b[0mM\u001b[0m\u001b[1;33m]\u001b[0m\u001b[1;33m,\u001b[0m \u001b[1;33m[\u001b[0m\u001b[1;33m[\u001b[0m\u001b[1;36m1\u001b[0m\u001b[1;33m,\u001b[0m\u001b[1;36m2\u001b[0m\u001b[1;33m,\u001b[0m\u001b[1;33m-\u001b[0m\u001b[1;36m1\u001b[0m\u001b[1;33m]\u001b[0m\u001b[1;33m,\u001b[0m\u001b[1;33m[\u001b[0m\u001b[1;36m2\u001b[0m\u001b[1;33m,\u001b[0m\u001b[1;36m6\u001b[0m\u001b[1;33m,\u001b[0m\u001b[1;36m3\u001b[0m\u001b[1;33m,\u001b[0m\u001b[1;36m4\u001b[0m\u001b[1;33m,\u001b[0m\u001b[1;33m-\u001b[0m\u001b[1;36m2\u001b[0m\u001b[1;33m,\u001b[0m\u001b[1;33m-\u001b[0m\u001b[1;36m4\u001b[0m\u001b[1;33m]\u001b[0m\u001b[1;33m,\u001b[0m\u001b[1;33m[\u001b[0m\u001b[1;36m5\u001b[0m\u001b[1;33m,\u001b[0m\u001b[1;36m6\u001b[0m\u001b[1;33m,\u001b[0m\u001b[1;33m-\u001b[0m\u001b[1;36m6\u001b[0m\u001b[1;33m]\u001b[0m\u001b[1;33m,\u001b[0m\u001b[1;33m[\u001b[0m\u001b[1;36m1\u001b[0m\u001b[1;33m,\u001b[0m\u001b[1;36m3\u001b[0m\u001b[1;33m,\u001b[0m\u001b[1;33m-\u001b[0m\u001b[1;36m3\u001b[0m\u001b[1;33m,\u001b[0m\u001b[1;36m4\u001b[0m\u001b[1;33m,\u001b[0m\u001b[1;33m-\u001b[0m\u001b[1;36m5\u001b[0m\u001b[1;33m,\u001b[0m\u001b[1;36m5\u001b[0m\u001b[1;33m]\u001b[0m\u001b[1;33m]\u001b[0m\u001b[1;33m)\u001b[0m\u001b[1;33m\u001b[0m\u001b[1;33m\u001b[0m\u001b[0m\n\u001b[0m\u001b[0;32m     18\u001b[0m \u001b[1;32mdef\u001b[0m \u001b[0mapply_Heff1\u001b[0m\u001b[1;33m(\u001b[0m\u001b[0mL\u001b[0m\u001b[1;33m,\u001b[0m\u001b[0mH\u001b[0m\u001b[1;33m,\u001b[0m\u001b[0mR\u001b[0m\u001b[1;33m,\u001b[0m\u001b[0mM\u001b[0m\u001b[1;33m)\u001b[0m\u001b[1;33m:\u001b[0m\u001b[1;33m\u001b[0m\u001b[1;33m\u001b[0m\u001b[0m\n\u001b[0;32m     19\u001b[0m     \u001b[1;32mreturn\u001b[0m \u001b[0mncon\u001b[0m\u001b[1;33m(\u001b[0m\u001b[1;33m[\u001b[0m\u001b[0mL\u001b[0m\u001b[1;33m,\u001b[0m\u001b[0mH\u001b[0m\u001b[1;33m,\u001b[0m\u001b[0mR\u001b[0m\u001b[1;33m,\u001b[0m\u001b[0mM\u001b[0m\u001b[1;33m]\u001b[0m\u001b[1;33m,\u001b[0m\u001b[1;33m[\u001b[0m\u001b[1;33m[\u001b[0m\u001b[1;36m1\u001b[0m\u001b[1;33m,\u001b[0m\u001b[1;36m2\u001b[0m\u001b[1;33m,\u001b[0m\u001b[1;33m-\u001b[0m\u001b[1;36m1\u001b[0m\u001b[1;33m]\u001b[0m\u001b[1;33m,\u001b[0m\u001b[1;33m[\u001b[0m\u001b[1;36m2\u001b[0m\u001b[1;33m,\u001b[0m\u001b[1;36m5\u001b[0m\u001b[1;33m,\u001b[0m\u001b[1;36m3\u001b[0m\u001b[1;33m,\u001b[0m\u001b[1;33m-\u001b[0m\u001b[1;36m2\u001b[0m\u001b[1;33m]\u001b[0m\u001b[1;33m,\u001b[0m\u001b[1;33m[\u001b[0m\u001b[1;36m4\u001b[0m\u001b[1;33m,\u001b[0m\u001b[1;36m5\u001b[0m\u001b[1;33m,\u001b[0m\u001b[1;33m-\u001b[0m\u001b[1;36m4\u001b[0m\u001b[1;33m]\u001b[0m\u001b[1;33m,\u001b[0m\u001b[1;33m[\u001b[0m\u001b[1;36m1\u001b[0m\u001b[1;33m,\u001b[0m\u001b[1;36m3\u001b[0m\u001b[1;33m,\u001b[0m\u001b[1;33m-\u001b[0m\u001b[1;36m3\u001b[0m\u001b[1;33m,\u001b[0m\u001b[1;36m4\u001b[0m\u001b[1;33m]\u001b[0m\u001b[1;33m]\u001b[0m\u001b[1;33m)\u001b[0m\u001b[1;33m\u001b[0m\u001b[1;33m\u001b[0m\u001b[0m\n",
      "\u001b[1;32mC:\\ProgramData\\Anaconda3\\lib\\site-packages\\ncon\\ncon.py\u001b[0m in \u001b[0;36mncon\u001b[1;34m(L, v, order, forder, check_indices)\u001b[0m\n\u001b[0;32m     78\u001b[0m             \u001b[1;31m# the end of L, otherwise the order would get messed.\u001b[0m\u001b[1;33m\u001b[0m\u001b[1;33m\u001b[0m\u001b[1;33m\u001b[0m\u001b[0m\n\u001b[0;32m     79\u001b[0m             \u001b[1;32mdel\u001b[0m \u001b[0mL\u001b[0m\u001b[1;33m[\u001b[0m\u001b[0mi\u001b[0m\u001b[1;33m]\u001b[0m\u001b[1;33m\u001b[0m\u001b[1;33m\u001b[0m\u001b[0m\n\u001b[1;32m---> 80\u001b[1;33m             \u001b[1;32mdel\u001b[0m \u001b[0mv\u001b[0m\u001b[1;33m[\u001b[0m\u001b[0mi\u001b[0m\u001b[1;33m]\u001b[0m\u001b[1;33m\u001b[0m\u001b[1;33m\u001b[0m\u001b[0m\n\u001b[0m\u001b[0;32m     81\u001b[0m         \u001b[0morder\u001b[0m \u001b[1;33m=\u001b[0m \u001b[0mrenew_order\u001b[0m\u001b[1;33m(\u001b[0m\u001b[0morder\u001b[0m\u001b[1;33m,\u001b[0m \u001b[0micon\u001b[0m\u001b[1;33m)\u001b[0m  \u001b[1;31m# Update order\u001b[0m\u001b[1;33m\u001b[0m\u001b[1;33m\u001b[0m\u001b[0m\n\u001b[0;32m     82\u001b[0m \u001b[1;33m\u001b[0m\u001b[0m\n",
      "\u001b[1;31mKeyboardInterrupt\u001b[0m: "
     ]
    }
   ],
   "source": [
    "h_space = [.1,.2]#np.arange(0.01,0.4,0.005)\n",
    "L = 8\n",
    "N = 2**L\n",
    "J = 0.1\n",
    "dbeta = 1e-3*5\n",
    "sigma_z = np.array([[1,0],[0,-1]])\n",
    "\n",
    "G = []; op1 = []; op2 = []\n",
    "T = [];\n",
    "for h in h_space:   \n",
    "    print('h',h,end=' ')\n",
    "    beta = 0.\n",
    "    H = SS2d.IsingMPO_2D_diagonal_MPS(L,h=h,J=J)\n",
    "    engine = ttdvp.thermalTDVP2(H)\n",
    "    engine.initialize()\n",
    "    E = []\n",
    "    E.append(engine.MPS.contractMPOmixMPS(H))\n",
    "    engine.chi_MAX = 128\n",
    "    while(E[-1]+2*L*J*(L-1)>0):\n",
    "        #print('diff:',E[-1]+2*L*J*(L-1))\n",
    "        if beta<3*dbeta:\n",
    "            engine.truncate_info = False\n",
    "        else:\n",
    "            engine.truncate_info = True\n",
    "        engine.beta_step(dbeta,1e-11)\n",
    "        E.append(engine.MPS.contractMPOmixMPS(H))\n",
    "        beta += dbeta\n",
    "    corr_stuff = mix_compute_corr(engine.MPS,sigma_z)\n",
    "\n",
    "    G.append(corr_stuff[0])\n",
    "    op1.append(corr_stuff[1][0])\n",
    "    op2.append(corr_stuff[1][1])\n",
    "    T.append(1/beta)\n",
    "    print('T',1/beta)\n"
   ]
  },
  {
   "cell_type": "code",
   "execution_count": 9,
   "id": "74588cf2",
   "metadata": {},
   "outputs": [
    {
     "name": "stdout",
     "output_type": "stream",
     "text": [
      "(1, 2, 2, 3)\n",
      "(3, 2, 2, 5)\n",
      "(5, 2, 2, 6)\n",
      "(6, 2, 2, 9)\n",
      "(9, 2, 2, 9)\n",
      "(9, 2, 2, 10)\n",
      "(10, 2, 2, 17)\n",
      "(17, 2, 2, 18)\n",
      "(18, 2, 2, 23)\n",
      "(23, 2, 2, 29)\n",
      "(29, 2, 2, 37)\n",
      "(37, 2, 2, 38)\n",
      "(38, 2, 2, 41)\n",
      "(41, 2, 2, 46)\n",
      "(46, 2, 2, 48)\n",
      "(48, 2, 2, 53)\n",
      "(53, 2, 2, 54)\n",
      "(54, 2, 2, 55)\n",
      "(55, 2, 2, 56)\n",
      "(56, 2, 2, 56)\n",
      "(56, 2, 2, 56)\n",
      "(56, 2, 2, 81)\n",
      "(81, 2, 2, 82)\n",
      "(82, 2, 2, 84)\n",
      "(84, 2, 2, 87)\n",
      "(87, 2, 2, 88)\n",
      "(88, 2, 2, 88)\n",
      "(88, 2, 2, 87)\n",
      "(87, 2, 2, 118)\n",
      "(118, 2, 2, 117)\n",
      "(117, 2, 2, 119)\n",
      "(119, 2, 2, 117)\n",
      "(117, 2, 2, 119)\n",
      "(119, 2, 2, 118)\n",
      "(118, 2, 2, 119)\n",
      "(119, 2, 2, 84)\n",
      "(84, 2, 2, 84)\n",
      "(84, 2, 2, 86)\n",
      "(86, 2, 2, 86)\n",
      "(86, 2, 2, 83)\n",
      "(83, 2, 2, 80)\n",
      "(80, 2, 2, 78)\n",
      "(78, 2, 2, 52)\n",
      "(52, 2, 2, 51)\n",
      "(51, 2, 2, 52)\n",
      "(52, 2, 2, 50)\n",
      "(50, 2, 2, 49)\n",
      "(49, 2, 2, 49)\n",
      "(49, 2, 2, 30)\n",
      "(30, 2, 2, 30)\n",
      "(30, 2, 2, 30)\n",
      "(30, 2, 2, 30)\n",
      "(30, 2, 2, 30)\n",
      "(30, 2, 2, 22)\n",
      "(22, 2, 2, 20)\n",
      "(20, 2, 2, 20)\n",
      "(20, 2, 2, 18)\n",
      "(18, 2, 2, 16)\n",
      "(16, 2, 2, 14)\n",
      "(14, 2, 2, 15)\n",
      "(15, 2, 2, 10)\n",
      "(10, 2, 2, 6)\n",
      "(6, 2, 2, 3)\n",
      "(3, 2, 2, 1)\n"
     ]
    }
   ],
   "source": [
    "for x in engine.MPS.M:\n",
    "    print(x.shape)"
   ]
  },
  {
   "cell_type": "code",
   "execution_count": 108,
   "id": "edabfd6e",
   "metadata": {},
   "outputs": [
    {
     "name": "stdout",
     "output_type": "stream",
     "text": [
      "(1, 2, 2, 4)\n",
      "(4, 2, 2, 12)\n",
      "(12, 2, 2, 13)\n",
      "(13, 2, 2, 30)\n",
      "(30, 2, 2, 30)\n",
      "(30, 2, 2, 32)\n",
      "(32, 2, 2, 59)\n",
      "(59, 2, 2, 58)\n",
      "(58, 2, 2, 60)\n",
      "(60, 2, 2, 33)\n",
      "(33, 2, 2, 31)\n",
      "(31, 2, 2, 30)\n",
      "(30, 2, 2, 14)\n",
      "(14, 2, 2, 12)\n",
      "(12, 2, 2, 4)\n",
      "(4, 2, 2, 1)\n"
     ]
    }
   ],
   "source": [
    "for x in engine.MPS.M:\n",
    "    print(x.shape)"
   ]
  },
  {
   "cell_type": "code",
   "execution_count": 97,
   "id": "4239ea43",
   "metadata": {},
   "outputs": [
    {
     "data": {
      "text/plain": [
       "78"
      ]
     },
     "execution_count": 97,
     "metadata": {},
     "output_type": "execute_result"
    }
   ],
   "source": [
    "h_space.size"
   ]
  },
  {
   "cell_type": "code",
   "execution_count": 107,
   "id": "97d8a195",
   "metadata": {},
   "outputs": [
    {
     "data": {
      "image/png": "[encoded data removed]",
      "text/plain": [
       "<Figure size 432x288 with 1 Axes>"
      ]
     },
     "metadata": {
      "needs_background": "light"
     },
     "output_type": "display_data"
    }
   ],
   "source": [
    "plt.plot(h_space,[(op2[x]).sum()/(16**2) for x in range(h_space.size)])\n",
    "\n",
    "np.savetxt('4x4_J0.25.dat',np.array([(op2[x]).sum()/(16**2) for x in range(h_space.size)]))\n",
    "np.savetxt('Temperature_4x4_J0.25.dat',T)"
   ]
  },
  {
   "cell_type": "code",
   "execution_count": 109,
   "id": "c6819499",
   "metadata": {},
   "outputs": [
    {
     "data": {
      "text/plain": [
       "[<matplotlib.lines.Line2D at 0x18a1b32e520>]"
      ]
     },
     "execution_count": 109,
     "metadata": {},
     "output_type": "execute_result"
    },
    {
     "data": {
      "image/png": "[encoded data removed]",
      "text/plain": [
       "<Figure size 432x288 with 1 Axes>"
      ]
     },
     "metadata": {
      "needs_background": "light"
     },
     "output_type": "display_data"
    }
   ],
   "source": [
    "plt.plot(T)"
   ]
  },
  {
   "cell_type": "code",
   "execution_count": 208,
   "id": "9922dcf5",
   "metadata": {},
   "outputs": [
    {
     "data": {
      "text/plain": [
       "<matplotlib.image.AxesImage at 0x2686bdfd730>"
      ]
     },
     "execution_count": 208,
     "metadata": {},
     "output_type": "execute_result"
    },
    {
     "data": {
      "image/png": "[encoded data removed]",
      "text/plain": [
       "<Figure size 432x288 with 1 Axes>"
      ]
     },
     "metadata": {
      "needs_background": "light"
     },
     "output_type": "display_data"
    }
   ],
   "source": [
    "plt.imshow(op2[-1,:,:],aspect='auto',origin='lower')"
   ]
  },
  {
   "cell_type": "code",
   "execution_count": 40,
   "id": "cdd652b0",
   "metadata": {},
   "outputs": [
    {
     "data": {
      "text/plain": [
       "<matplotlib.colorbar.Colorbar at 0x268651cc340>"
      ]
     },
     "execution_count": 40,
     "metadata": {},
     "output_type": "execute_result"
    },
    {
     "data": {
      "image/png": "[encoded data removed]",
      "text/plain": [
       "<Figure size 432x288 with 2 Axes>"
      ]
     },
     "metadata": {
      "needs_background": "light"
     },
     "output_type": "display_data"
    }
   ],
   "source": [
    "plt.imshow(op2[:,:].reshape(-1,256),aspect='auto')\n",
    "plt.colorbar()"
   ]
  },
  {
   "cell_type": "code",
   "execution_count": 8,
   "id": "20e9f5cc",
   "metadata": {},
   "outputs": [
    {
     "data": {
      "text/plain": [
       "(1.038197773581648,\n",
       " (array([[ 5.55111512e-16],\n",
       "         [-2.22044605e-16],\n",
       "         [ 5.55111512e-16],\n",
       "         [ 0.00000000e+00],\n",
       "         [ 1.11022302e-16],\n",
       "         [ 6.66133815e-16],\n",
       "         [ 6.66133815e-16],\n",
       "         [ 3.33066907e-16],\n",
       "         [-8.88178420e-16],\n",
       "         [-3.33066907e-16],\n",
       "         [-2.22044605e-16],\n",
       "         [ 1.11022302e-16],\n",
       "         [-1.11022302e-16],\n",
       "         [-4.44089210e-16],\n",
       "         [-5.55111512e-16],\n",
       "         [-3.33066907e-16]]),\n",
       "  array([[ 1.00000000e+00,  1.99920038e-02,  3.99733495e-04,\n",
       "           7.99253888e-06,  1.59808168e-07,  3.19531141e-09,\n",
       "           6.38891935e-11,  1.27744296e-12,  2.55420727e-14,\n",
       "           5.10724884e-16,  1.02179686e-17,  2.06171916e-19,\n",
       "           3.49891739e-21, -2.70499673e-22, -1.99382111e-22,\n",
       "          -3.34808424e-24],\n",
       "         [ 1.99920038e-02,  1.00000000e+00,  1.99920043e-02,\n",
       "           3.99733504e-04,  7.99253905e-06,  1.59808172e-07,\n",
       "           3.19531148e-09,  6.38891806e-11,  1.27744407e-12,\n",
       "           2.55429597e-14,  5.11000143e-16,  1.03021479e-17,\n",
       "           1.77122431e-19, -1.16917508e-20, -9.55403993e-21,\n",
       "          -1.77492978e-22],\n",
       "         [ 3.99733495e-04,  1.99920043e-02,  1.00000000e+00,\n",
       "           1.99920043e-02,  3.99733504e-04,  7.99253905e-06,\n",
       "           1.59808172e-07,  3.19531149e-09,  6.38891941e-11,\n",
       "           1.27744242e-12,  2.55417699e-14,  5.10617083e-16,\n",
       "           1.02375493e-17,  2.19444241e-19,  1.34015495e-20,\n",
       "           2.54551740e-22],\n",
       "         [ 7.99253888e-06,  3.99733504e-04,  1.99920043e-02,\n",
       "           1.00000000e+00,  1.99920043e-02,  3.99733504e-04,\n",
       "           7.99253905e-06,  1.59808172e-07,  3.19531146e-09,\n",
       "           6.38891813e-11,  1.27743887e-12,  2.55406946e-14,\n",
       "           5.11110170e-16,  1.04480634e-17,  3.48301906e-19,\n",
       "           6.74976557e-21],\n",
       "         [ 1.59808168e-07,  7.99253905e-06,  3.99733504e-04,\n",
       "           1.99920043e-02,  1.00000000e+00,  1.99920043e-02,\n",
       "           3.99733504e-04,  7.99253905e-06,  1.59808172e-07,\n",
       "           3.19531149e-09,  6.38892007e-11,  1.27744509e-12,\n",
       "           2.55415201e-14,  5.10392294e-16,  1.00207592e-17,\n",
       "           2.00639176e-19],\n",
       "         [ 3.19531141e-09,  1.59808172e-07,  7.99253905e-06,\n",
       "           3.99733504e-04,  1.99920043e-02,  1.00000000e+00,\n",
       "           1.99920043e-02,  3.99733504e-04,  7.99253905e-06,\n",
       "           1.59808172e-07,  3.19531146e-09,  6.38891897e-11,\n",
       "           1.27744483e-12,  2.55429486e-14,  5.11249251e-16,\n",
       "           1.02214655e-17],\n",
       "         [ 6.38891935e-11,  3.19531148e-09,  1.59808172e-07,\n",
       "           7.99253905e-06,  3.99733504e-04,  1.99920043e-02,\n",
       "           1.00000000e+00,  1.99920043e-02,  3.99733504e-04,\n",
       "           7.99253905e-06,  1.59808172e-07,  3.19531148e-09,\n",
       "           6.38891938e-11,  1.27744266e-12,  2.55416669e-14,\n",
       "           5.10697727e-16],\n",
       "         [ 1.27744296e-12,  6.38891806e-11,  3.19531149e-09,\n",
       "           1.59808172e-07,  7.99253905e-06,  3.99733504e-04,\n",
       "           1.99920043e-02,  1.00000000e+00,  1.99920043e-02,\n",
       "           3.99733504e-04,  7.99253905e-06,  1.59808172e-07,\n",
       "           3.19531148e-09,  6.38891999e-11,  1.27744637e-12,\n",
       "           2.55421122e-14],\n",
       "         [ 2.55420727e-14,  1.27744407e-12,  6.38891941e-11,\n",
       "           3.19531146e-09,  1.59808172e-07,  7.99253905e-06,\n",
       "           3.99733504e-04,  1.99920043e-02,  1.00000000e+00,\n",
       "           1.99920043e-02,  3.99733504e-04,  7.99253905e-06,\n",
       "           1.59808172e-07,  3.19531147e-09,  6.38891924e-11,\n",
       "           1.27744322e-12],\n",
       "         [ 5.10724884e-16,  2.55429597e-14,  1.27744242e-12,\n",
       "           6.38891813e-11,  3.19531149e-09,  1.59808172e-07,\n",
       "           7.99253905e-06,  3.99733504e-04,  1.99920043e-02,\n",
       "           1.00000000e+00,  1.99920043e-02,  3.99733504e-04,\n",
       "           7.99253905e-06,  1.59808172e-07,  3.19531148e-09,\n",
       "           6.38891936e-11],\n",
       "         [ 1.02179686e-17,  5.11000143e-16,  2.55417699e-14,\n",
       "           1.27743887e-12,  6.38892007e-11,  3.19531146e-09,\n",
       "           1.59808172e-07,  7.99253905e-06,  3.99733504e-04,\n",
       "           1.99920043e-02,  1.00000000e+00,  1.99920043e-02,\n",
       "           3.99733504e-04,  7.99253905e-06,  1.59808172e-07,\n",
       "           3.19531141e-09],\n",
       "         [ 2.06171916e-19,  1.03021479e-17,  5.10617083e-16,\n",
       "           2.55406946e-14,  1.27744509e-12,  6.38891897e-11,\n",
       "           3.19531148e-09,  1.59808172e-07,  7.99253905e-06,\n",
       "           3.99733504e-04,  1.99920043e-02,  1.00000000e+00,\n",
       "           1.99920043e-02,  3.99733504e-04,  7.99253905e-06,\n",
       "           1.59808168e-07],\n",
       "         [ 3.49891739e-21,  1.77122431e-19,  1.02375493e-17,\n",
       "           5.11110170e-16,  2.55415201e-14,  1.27744483e-12,\n",
       "           6.38891938e-11,  3.19531148e-09,  1.59808172e-07,\n",
       "           7.99253905e-06,  3.99733504e-04,  1.99920043e-02,\n",
       "           1.00000000e+00,  1.99920043e-02,  3.99733504e-04,\n",
       "           7.99253888e-06],\n",
       "         [-2.70499673e-22, -1.16917508e-20,  2.19444241e-19,\n",
       "           1.04480634e-17,  5.10392294e-16,  2.55429486e-14,\n",
       "           1.27744266e-12,  6.38891999e-11,  3.19531147e-09,\n",
       "           1.59808172e-07,  7.99253905e-06,  3.99733504e-04,\n",
       "           1.99920043e-02,  1.00000000e+00,  1.99920043e-02,\n",
       "           3.99733495e-04],\n",
       "         [-1.99382111e-22, -9.55403993e-21,  1.34015495e-20,\n",
       "           3.48301906e-19,  1.00207592e-17,  5.11249251e-16,\n",
       "           2.55416669e-14,  1.27744637e-12,  6.38891924e-11,\n",
       "           3.19531148e-09,  1.59808172e-07,  7.99253905e-06,\n",
       "           3.99733504e-04,  1.99920043e-02,  1.00000000e+00,\n",
       "           1.99920038e-02],\n",
       "         [-3.34808424e-24, -1.77492978e-22,  2.54551740e-22,\n",
       "           6.74976557e-21,  2.00639176e-19,  1.02214655e-17,\n",
       "           5.10697727e-16,  2.55421122e-14,  1.27744322e-12,\n",
       "           6.38891936e-11,  3.19531141e-09,  1.59808168e-07,\n",
       "           7.99253888e-06,  3.99733495e-04,  1.99920038e-02,\n",
       "           1.00000000e+00]])))"
      ]
     },
     "execution_count": 8,
     "metadata": {},
     "output_type": "execute_result"
    }
   ],
   "source": [
    "corr_stuff[0]"
   ]
  },
  {
   "cell_type": "code",
   "execution_count": 209,
   "id": "13fea6aa",
   "metadata": {
    "scrolled": true
   },
   "outputs": [
    {
     "data": {
      "image/png": "[encoded data removed]",
      "text/plain": [
       "<Figure size 432x288 with 1 Axes>"
      ]
     },
     "metadata": {
      "needs_background": "light"
     },
     "output_type": "display_data"
    }
   ],
   "source": [
    "plt.plot(dbeta*np.arange(len(mx)),np.abs(mx-ncon([engine_GS.MPS.M[0],sigma_x,engine_GS.MPS.M[0]],[[1,2,3],[2,5],[1,5,3]])))\n",
    "plt.yscale('log')"
   ]
  },
  {
   "cell_type": "code",
   "execution_count": 171,
   "id": "6774b0f6",
   "metadata": {},
   "outputs": [],
   "source": [
    "engine_GS = dmrg.DMRG1(H)"
   ]
  },
  {
   "cell_type": "code",
   "execution_count": 172,
   "id": "eead100b",
   "metadata": {},
   "outputs": [],
   "source": [
    "engine_GS.initialize(64)"
   ]
  },
  {
   "cell_type": "code",
   "execution_count": 173,
   "id": "a49c8615",
   "metadata": {},
   "outputs": [
    {
     "name": "stderr",
     "output_type": "stream",
     "text": [
      "C:\\Users\\asant\\Documents\\GitHub\\Tensor-Network\\LanczosRoutines.py:43: RuntimeWarning: beta[3] ~= 0 encountered during Lanczos iteration.\n",
      "  warnings.warn(\n",
      "C:\\Users\\asant\\Documents\\GitHub\\Tensor-Network\\LanczosRoutines.py:43: RuntimeWarning: beta[0] ~= 0 encountered during Lanczos iteration.\n",
      "  warnings.warn(\n"
     ]
    }
   ],
   "source": [
    "for _ in range(10):\n",
    "    engine_GS.dmrg_step()"
   ]
  },
  {
   "cell_type": "code",
   "execution_count": 28,
   "id": "ef60b3b3",
   "metadata": {},
   "outputs": [
    {
     "data": {
      "text/plain": [
       "array(0.84978976+0.j)"
      ]
     },
     "execution_count": 28,
     "metadata": {},
     "output_type": "execute_result"
    }
   ],
   "source": [
    "ncon([engine_GS.MPS.M[0],sigma_x,engine_GS.MPS.M[0]],[[1,2,3],[2,5],[1,5,3]])"
   ]
  },
  {
   "cell_type": "code",
   "execution_count": 13,
   "id": "b1736bb7",
   "metadata": {},
   "outputs": [
    {
     "data": {
      "text/plain": [
       "(2, 2)"
      ]
     },
     "execution_count": 13,
     "metadata": {},
     "output_type": "execute_result"
    }
   ],
   "source": [
    "sigma_z.shape"
   ]
  },
  {
   "cell_type": "code",
   "execution_count": 27,
   "id": "bb06ef2a",
   "metadata": {},
   "outputs": [
    {
     "data": {
      "text/plain": [
       "24"
      ]
     },
     "execution_count": 27,
     "metadata": {},
     "output_type": "execute_result"
    }
   ],
   "source": [
    "2*L*(L-1)"
   ]
  },
  {
   "cell_type": "code",
   "execution_count": 17,
   "id": "9dc579de",
   "metadata": {},
   "outputs": [
    {
     "data": {
      "text/plain": [
       "array([[[[-6.72026324e-01+0.j,  1.50864738e-01+0.j,\n",
       "          -3.02278976e-04+0.j,  4.01305618e-05+0.j]],\n",
       "\n",
       "        [[-6.72026324e-01+0.j, -1.50864738e-01+0.j,\n",
       "           3.02278976e-04+0.j,  4.01305618e-05+0.j]]],\n",
       "\n",
       "\n",
       "       [[[ 1.50865764e-01+0.j, -5.34585430e-02+0.j,\n",
       "          -8.51797981e-04+0.j,  1.78749657e-04+0.j]],\n",
       "\n",
       "        [[-1.50865764e-01+0.j, -5.34585430e-02+0.j,\n",
       "          -8.51797981e-04+0.j, -1.78749657e-04+0.j]]],\n",
       "\n",
       "\n",
       "       [[[ 1.49957575e-05+0.j, -9.64407129e-04+0.j,\n",
       "          -6.60284616e-05+0.j,  1.26651968e-05+0.j]],\n",
       "\n",
       "        [[-1.49957575e-05+0.j, -9.64407129e-04+0.j,\n",
       "          -6.60284616e-05+0.j, -1.26651968e-05+0.j]]],\n",
       "\n",
       "\n",
       "       [[[-5.26069215e-04+0.j,  3.05892720e-04+0.j,\n",
       "           1.20345853e-05+0.j, -2.66202701e-06+0.j]],\n",
       "\n",
       "        [[-5.26069215e-04+0.j, -3.05892720e-04+0.j,\n",
       "          -1.20345853e-05+0.j, -2.66202701e-06+0.j]]]])"
      ]
     },
     "execution_count": 17,
     "metadata": {},
     "output_type": "execute_result"
    }
   ],
   "source": [
    "engine.MPS.M[10]"
   ]
  },
  {
   "cell_type": "code",
   "execution_count": 190,
   "id": "aa0dca97",
   "metadata": {},
   "outputs": [
    {
     "name": "stderr",
     "output_type": "stream",
     "text": [
      "<ipython-input-190-88bf739c51ae>:1: RuntimeWarning: divide by zero encountered in true_divide\n",
      "  plt.plot(1/beta_space[:G.size],[(op2[x] ).sum()/(64**2) for x in range(G.size)])\n",
      "<ipython-input-190-88bf739c51ae>:2: RuntimeWarning: divide by zero encountered in true_divide\n",
      "  plt.plot(1/beta_space[:G.size],np.ones(G.size)*(corr_gs ).sum()/(64**2))\n"
     ]
    },
    {
     "data": {
      "text/plain": [
       "(-5.0, 50.0)"
      ]
     },
     "execution_count": 190,
     "metadata": {},
     "output_type": "execute_result"
    },
    {
     "data": {
      "image/png": "[encoded data removed]",
      "text/plain": [
       "<Figure size 432x288 with 1 Axes>"
      ]
     },
     "metadata": {
      "needs_background": "light"
     },
     "output_type": "display_data"
    }
   ],
   "source": [
    "plt.plot(1/beta_space[:G.size],[(op2[x] ).sum()/(64**2) for x in range(G.size)])\n",
    "plt.plot(1/beta_space[:G.size],np.ones(G.size)*(corr_gs ).sum()/(64**2))\n",
    "\n",
    "plt.xlim([-5,50])\n",
    "\n"
   ]
  },
  {
   "cell_type": "code",
   "execution_count": 192,
   "id": "252df298",
   "metadata": {},
   "outputs": [
    {
     "data": {
      "text/plain": [
       "0.01562499999999999"
      ]
     },
     "execution_count": 192,
     "metadata": {},
     "output_type": "execute_result"
    }
   ],
   "source": [
    "op2[0].sum()/(64**2)"
   ]
  },
  {
   "cell_type": "code",
   "execution_count": 176,
   "id": "8441d82d",
   "metadata": {},
   "outputs": [],
   "source": [
    "import compute_connected_correlation_function\n",
    "stuffs = compute_connected_correlation_function.compute_corr(engine_GS.MPS,sigma_z)"
   ]
  },
  {
   "cell_type": "code",
   "execution_count": 180,
   "id": "9bb0fce0",
   "metadata": {},
   "outputs": [],
   "source": [
    "corr_gs = stuffs[1][1]"
   ]
  },
  {
   "cell_type": "code",
   "execution_count": 186,
   "id": "d54dd4bf",
   "metadata": {},
   "outputs": [
    {
     "data": {
      "text/plain": [
       "<matplotlib.colorbar.Colorbar at 0x268770d7070>"
      ]
     },
     "execution_count": 186,
     "metadata": {},
     "output_type": "execute_result"
    },
    {
     "data": {
      "image/png": "[encoded data removed]",
      "text/plain": [
       "<Figure size 432x288 with 2 Axes>"
      ]
     },
     "metadata": {
      "needs_background": "light"
     },
     "output_type": "display_data"
    }
   ],
   "source": [
    "plt.imshow(corr_gs-(op2[-1] - np.eye(64)))\n",
    "plt.colorbar()"
   ]
  }
 ],
 "metadata": {
  "kernelspec": {
   "display_name": "Python 3",
   "language": "python",
   "name": "python3"
  },
  "language_info": {
   "codemirror_mode": {
    "name": "ipython",
    "version": 3
   },
   "file_extension": ".py",
   "mimetype": "text/x-python",
   "name": "python",
   "nbconvert_exporter": "python",
   "pygments_lexer": "ipython3",
   "version": "3.8.8"
  }
 },
 "nbformat": 4,
 "nbformat_minor": 5
}
