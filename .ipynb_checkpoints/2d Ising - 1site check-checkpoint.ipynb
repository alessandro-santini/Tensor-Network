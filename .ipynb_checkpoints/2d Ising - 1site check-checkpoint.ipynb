{
 "cells": [
  {
   "cell_type": "code",
   "execution_count": 13,
   "id": "428c4c5a",
   "metadata": {},
   "outputs": [],
   "source": [
    "import dmrg1 as dmrg1\n",
    "import SpinSystems_2d as SS2d\n",
    "import numpy as np\n",
    "import matplotlib.pyplot as plt\n",
    "from ncon import ncon\n",
    "import MPO_class as MPO\n",
    "import MPS_class as MPS\n",
    "import seaborn as sns\n",
    "import tdvp as tdvp1\n",
    "\n"
   ]
  },
  {
   "cell_type": "code",
   "execution_count": 14,
   "id": "08a82735",
   "metadata": {},
   "outputs": [],
   "source": [
    "Lx = 7\n",
    "Ly = 7\n",
    "\n",
    "L = Lx*Ly"
   ]
  },
  {
   "cell_type": "code",
   "execution_count": 15,
   "id": "8a9d7c90",
   "metadata": {},
   "outputs": [
    {
     "name": "stdout",
     "output_type": "stream",
     "text": [
      "energy -83.99999999999999 theo -84\n"
     ]
    }
   ],
   "source": [
    "h = 0\n",
    "J = 1.\n",
    "H = SS2d.IsingMPO_2D(Lx,Ly,h,J)\n",
    "\n",
    "engine = dmrg1.DMRG1(H)\n",
    "engine.initialize(64)\n",
    "\n",
    "for i in range(20):\n",
    "    engine.dmrg_step()#1e-12)\n",
    "\n",
    "print('energy', engine.E, 'theo', -(2*Lx*Ly-Lx-Ly))"
   ]
  },
  {
   "cell_type": "code",
   "execution_count": 16,
   "id": "6b6b5041",
   "metadata": {},
   "outputs": [],
   "source": [
    "time_engine = tdvp1.TDVP(engine.MPS,H)\n",
    "\n",
    "def apply_flip(M,epsilon):\n",
    "    theta = np.pi-epsilon\n",
    "    flip = np.eye(2)*np.cos(theta/2) - 1j*np.sin(theta/2)*np.array([[0,1],[1,0]])\n",
    "    for i in range(len(M)):\n",
    "        M[i] = ncon([M[i],flip],[[-1,1,-3],[1,-2]])"
   ]
  },
  {
   "cell_type": "code",
   "execution_count": null,
   "id": "870e775b",
   "metadata": {},
   "outputs": [
    {
     "name": "stdout",
     "output_type": "stream",
     "text": [
      "0  mz:  (-1+0j)\n",
      "1  mz:  (0.9999500004166653+0j)\n",
      "2  mz:  (-0.9998473892003226+0j)\n"
     ]
    }
   ],
   "source": [
    "mz_list = []\n",
    "t_list = []\n",
    "\n",
    "dt = 1.\n",
    "k  = 1\n",
    "t_list.append(0.)\n",
    "\n",
    "time_engine.MPS.M[Lx//2*Ly+Ly//2] = ncon([time_engine.MPS.M[Lx//2*Ly+Ly//2],np.array([[0,1],[1,0]])],[[-1,1,-3],[1,-2]])\n",
    "mz_list.append(MPO.return_LocalMz(time_engine.MPS))#.real.reshape(Lx,Ly))\n",
    "#time_engine.initialize()\n",
    "for j in range(101):\n",
    "    print(j,' mz: ',mz_list[j][14])\n",
    "    time_engine.initialize()\n",
    "\n",
    "    # Evolve the state of t1->t2, t2-t1=0.5\n",
    "    for _ in range(k):\n",
    "        time_engine.time_step(dt/k)#,1e-10)\n",
    "    apply_flip(time_engine.MPS.M, 0.1)\n",
    "    t_list.append((j+1)*dt)\n",
    "    mz_list.append(MPO.return_LocalMz(time_engine.MPS))#.real.reshape(Lx,Ly))\n",
    "    \n",
    "mz_ = np.array(mz_list).reshape(len(mz_list),Lx,Ly)"
   ]
  },
  {
   "cell_type": "code",
   "execution_count": null,
   "id": "d30f0a96",
   "metadata": {},
   "outputs": [],
   "source": [
    "import seaborn as sns\n",
    "\n",
    "plt.rc('text',usetex=True)\n",
    "plt.figure(figsize=(12,10))\n",
    "\n",
    "plt.subplot(221)\n",
    "plt.imshow(np.abs(mz_[:,:,0]),origin='lower',cmap=sns.color_palette('icefire',as_cmap=True),aspect='auto')\n",
    "cb = plt.colorbar()\n",
    "cb.ax.tick_params(labelsize=18)\n",
    "cb.set_label(r\"$|m_z|$\",fontsize=22)\n",
    "plt.ylabel(\"$t$\",fontsize=22)\n",
    "plt.xlabel(\"$j$\",fontsize=22)\n",
    "plt.tick_params(labelsize=18)\n",
    "plt.xticks(np.arange(Lx))\n",
    "\n",
    "plt.subplot(222)\n",
    "plt.imshow(np.abs(mz_[:,:,-1]),origin='lower',cmap=sns.color_palette('icefire',as_cmap=True),aspect='auto')\n",
    "cb = plt.colorbar()\n",
    "cb.ax.tick_params(labelsize=18)\n",
    "cb.set_label(r\"$|m_z|$\",fontsize=22)\n",
    "plt.xticks(np.arange(Lx))\n",
    "\n",
    "plt.ylabel(\"$t$\",fontsize=22)\n",
    "plt.xlabel(\"$j$\",fontsize=22)\n",
    "plt.tick_params(labelsize=18)\n",
    "\n",
    "plt.subplot(223)\n",
    "plt.imshow(np.abs(mz_[:,0,:]),origin='lower',cmap=sns.color_palette('icefire',as_cmap=True),aspect='auto')\n",
    "cb = plt.colorbar()\n",
    "cb.ax.tick_params(labelsize=18)\n",
    "cb.set_label(r\"$|m_z|$\",fontsize=22)\n",
    "plt.ylabel(\"$t$\",fontsize=22)\n",
    "plt.xlabel(\"$j$\",fontsize=22)\n",
    "plt.tick_params(labelsize=18)\n",
    "plt.xticks(np.arange(Lx))\n",
    "\n",
    "plt.subplot(224)\n",
    "plt.imshow(np.abs(mz_[:,-1,:]),origin='lower',cmap=sns.color_palette('icefire',as_cmap=True),aspect='auto')\n",
    "cb = plt.colorbar()\n",
    "cb.ax.tick_params(labelsize=18)\n",
    "cb.set_label(r\"$|m_z|$\",fontsize=22)\n",
    "plt.xticks(np.arange(Lx))\n",
    "\n",
    "plt.clim(min(np.abs(mz_[:,0,:]).flatten()),max(np.abs(mz_[:,0,:]).flatten()))\n",
    "plt.ylabel(\"$t$\",fontsize=22)\n",
    "plt.xlabel(\"$j$\",fontsize=22)\n",
    "plt.tick_params(labelsize=18)\n",
    "\n",
    "plt.tight_layout()\n",
    "\n",
    "plt.savefig(\"pm.png\")"
   ]
  }
 ],
 "metadata": {
  "kernelspec": {
   "display_name": "Python 3",
   "language": "python",
   "name": "python3"
  },
  "language_info": {
   "codemirror_mode": {
    "name": "ipython",
    "version": 3
   },
   "file_extension": ".py",
   "mimetype": "text/x-python",
   "name": "python",
   "nbconvert_exporter": "python",
   "pygments_lexer": "ipython3",
   "version": "3.8.8"
  }
 },
 "nbformat": 4,
 "nbformat_minor": 5
}
