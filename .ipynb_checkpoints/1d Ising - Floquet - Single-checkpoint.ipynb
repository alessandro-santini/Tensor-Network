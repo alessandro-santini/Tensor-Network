{
 "cells": [
  {
   "cell_type": "code",
   "execution_count": 7,
   "id": "1a82fd16",
   "metadata": {},
   "outputs": [],
   "source": [
    "import dmrg2 as dmrg\n",
    "import SpinSystems_1d as SS1d\n",
    "import numpy as np\n",
    "import matplotlib.pyplot as plt\n",
    "from ncon import ncon\n",
    "import MPO_class as MPO\n",
    "import MPS_class as MPS\n",
    "import seaborn as sns\n",
    "import tdvp2 as tdvp\n",
    "import matplotlib as mpl\n",
    "#%matplotlib notebook \n",
    "\n",
    "import h5py\n",
    "\n",
    "def apply_flip(M,epsilon):\n",
    "    theta = np.pi+2*epsilon\n",
    "    flip = np.eye(2)*np.cos(theta/2) - 1j*np.sin(theta/2)*np.array([[0,1],[1,0]])\n",
    "    for i in range(len(M)):\n",
    "        M[i] = ncon([M[i],flip],[[-1,1,-3],[1,-2]])"
   ]
  },
  {
   "cell_type": "code",
   "execution_count": 36,
   "id": "61fd855e",
   "metadata": {},
   "outputs": [
    {
     "name": "stdout",
     "output_type": "stream",
     "text": [
      "j:  0  Mz:  25.0\n"
     ]
    },
    {
     "name": "stderr",
     "output_type": "stream",
     "text": [
      "C:\\Users\\asant\\Documents\\GitHub\\Tensor-Network\\LanczosRoutines.py:38: RuntimeWarning: beta[0] ~= 0 encountered during Lanczos iteration.\n",
      "  warnings.warn(\n"
     ]
    },
    {
     "name": "stdout",
     "output_type": "stream",
     "text": [
      "j:  1  Mz:  13.507557646703503\n"
     ]
    },
    {
     "name": "stderr",
     "output_type": "stream",
     "text": [
      "C:\\Users\\asant\\Documents\\GitHub\\Tensor-Network\\LanczosRoutines.py:38: RuntimeWarning: beta[3] ~= 0 encountered during Lanczos iteration.\n",
      "  warnings.warn(\n",
      "C:\\Users\\asant\\Documents\\GitHub\\Tensor-Network\\LanczosRoutines.py:38: RuntimeWarning: beta[5] ~= 0 encountered during Lanczos iteration.\n",
      "  warnings.warn(\n",
      "C:\\Users\\asant\\Documents\\GitHub\\Tensor-Network\\LanczosRoutines.py:38: RuntimeWarning: beta[2] ~= 0 encountered during Lanczos iteration.\n",
      "  warnings.warn(\n",
      "C:\\Users\\asant\\Documents\\GitHub\\Tensor-Network\\LanczosRoutines.py:38: RuntimeWarning: beta[4] ~= 0 encountered during Lanczos iteration.\n",
      "  warnings.warn(\n",
      "C:\\Users\\asant\\Documents\\GitHub\\Tensor-Network\\LanczosRoutines.py:38: RuntimeWarning: beta[7] ~= 0 encountered during Lanczos iteration.\n",
      "  warnings.warn(\n"
     ]
    },
    {
     "name": "stdout",
     "output_type": "stream",
     "text": [
      "j:  2  Mz:  8.998060759200099\n",
      "j:  3  Mz:  6.799797343501627\n",
      "j:  4  Mz:  5.429445543982729\n",
      "j:  5  Mz:  4.638169162273902\n",
      "j:  6  Mz:  3.9061924898827134\n",
      "j:  7  Mz:  3.5872296266377495\n",
      "j:  8  Mz:  3.31023804727879\n",
      "j:  9  Mz:  3.2410326438533668\n",
      "j:  10  Mz:  3.166749261301636\n",
      "j:  11  Mz:  3.295509604086078\n"
     ]
    },
    {
     "ename": "KeyboardInterrupt",
     "evalue": "",
     "output_type": "error",
     "traceback": [
      "\u001b[1;31m---------------------------------------------------------------------------\u001b[0m",
      "\u001b[1;31mKeyboardInterrupt\u001b[0m                         Traceback (most recent call last)",
      "\u001b[1;32m<ipython-input-36-6f05e11d6d9e>\u001b[0m in \u001b[0;36m<module>\u001b[1;34m\u001b[0m\n\u001b[0;32m     42\u001b[0m     \u001b[1;31m# Evolve the state of t1->t2, t2-t1=0.5\u001b[0m\u001b[1;33m\u001b[0m\u001b[1;33m\u001b[0m\u001b[1;33m\u001b[0m\u001b[0m\n\u001b[0;32m     43\u001b[0m     \u001b[1;32mfor\u001b[0m \u001b[0m_\u001b[0m \u001b[1;32min\u001b[0m \u001b[0mrange\u001b[0m\u001b[1;33m(\u001b[0m\u001b[0mk\u001b[0m\u001b[1;33m)\u001b[0m\u001b[1;33m:\u001b[0m\u001b[1;33m\u001b[0m\u001b[1;33m\u001b[0m\u001b[0m\n\u001b[1;32m---> 44\u001b[1;33m         \u001b[0mtime_engine\u001b[0m\u001b[1;33m.\u001b[0m\u001b[0mtime_step\u001b[0m\u001b[1;33m(\u001b[0m\u001b[0mdt\u001b[0m\u001b[1;33m/\u001b[0m\u001b[0mk\u001b[0m\u001b[1;33m,\u001b[0m\u001b[1;36m1e-10\u001b[0m\u001b[1;33m)\u001b[0m\u001b[1;31m#1e-10)\u001b[0m\u001b[1;33m\u001b[0m\u001b[1;33m\u001b[0m\u001b[0m\n\u001b[0m\u001b[0;32m     45\u001b[0m \u001b[1;33m\u001b[0m\u001b[0m\n\u001b[0;32m     46\u001b[0m     \u001b[0mapply_flip\u001b[0m\u001b[1;33m(\u001b[0m\u001b[0mtime_engine\u001b[0m\u001b[1;33m.\u001b[0m\u001b[0mMPS\u001b[0m\u001b[1;33m.\u001b[0m\u001b[0mM\u001b[0m\u001b[1;33m,\u001b[0m \u001b[1;36m0.5\u001b[0m\u001b[1;33m)\u001b[0m\u001b[1;33m\u001b[0m\u001b[1;33m\u001b[0m\u001b[0m\n",
      "\u001b[1;32m~\\Documents\\GitHub\\Tensor-Network\\tdvp2.py\u001b[0m in \u001b[0;36mtime_step\u001b[1;34m(self, delta, etrunc, krydim)\u001b[0m\n\u001b[0;32m    144\u001b[0m     \u001b[1;32mdef\u001b[0m \u001b[0mtime_step\u001b[0m\u001b[1;33m(\u001b[0m\u001b[0mself\u001b[0m\u001b[1;33m,\u001b[0m \u001b[0mdelta\u001b[0m\u001b[1;33m,\u001b[0m \u001b[0metrunc\u001b[0m\u001b[1;33m,\u001b[0m \u001b[0mkrydim\u001b[0m\u001b[1;33m=\u001b[0m\u001b[1;36m10\u001b[0m\u001b[1;33m)\u001b[0m\u001b[1;33m:\u001b[0m\u001b[1;33m\u001b[0m\u001b[1;33m\u001b[0m\u001b[0m\n\u001b[0;32m    145\u001b[0m         \u001b[0mself\u001b[0m\u001b[1;33m.\u001b[0m\u001b[0metrunc\u001b[0m \u001b[1;33m=\u001b[0m \u001b[0metrunc\u001b[0m\u001b[1;33m\u001b[0m\u001b[1;33m\u001b[0m\u001b[0m\n\u001b[1;32m--> 146\u001b[1;33m         \u001b[0mself\u001b[0m\u001b[1;33m.\u001b[0m\u001b[0mright_sweep\u001b[0m\u001b[1;33m(\u001b[0m\u001b[0mdelta\u001b[0m\u001b[1;33m,\u001b[0m\u001b[0mkrydim\u001b[0m\u001b[1;33m)\u001b[0m\u001b[1;33m\u001b[0m\u001b[1;33m\u001b[0m\u001b[0m\n\u001b[0m\u001b[0;32m    147\u001b[0m         \u001b[0mself\u001b[0m\u001b[1;33m.\u001b[0m\u001b[0mleft_sweep\u001b[0m\u001b[1;33m(\u001b[0m\u001b[0mdelta\u001b[0m\u001b[1;33m,\u001b[0m\u001b[0mkrydim\u001b[0m\u001b[1;33m)\u001b[0m\u001b[1;33m\u001b[0m\u001b[1;33m\u001b[0m\u001b[0m\n",
      "\u001b[1;32m~\\Documents\\GitHub\\Tensor-Network\\tdvp2.py\u001b[0m in \u001b[0;36mright_sweep\u001b[1;34m(self, delta, krydim)\u001b[0m\n\u001b[0;32m     63\u001b[0m             \u001b[0mshpMj\u001b[0m \u001b[1;33m=\u001b[0m \u001b[0mself\u001b[0m\u001b[1;33m.\u001b[0m\u001b[0mMPS\u001b[0m\u001b[1;33m.\u001b[0m\u001b[0mM\u001b[0m\u001b[1;33m[\u001b[0m\u001b[0mi\u001b[0m\u001b[1;33m+\u001b[0m\u001b[1;36m1\u001b[0m\u001b[1;33m]\u001b[0m\u001b[1;33m.\u001b[0m\u001b[0mshape\u001b[0m\u001b[1;33m\u001b[0m\u001b[1;33m\u001b[0m\u001b[0m\n\u001b[0;32m     64\u001b[0m \u001b[1;33m\u001b[0m\u001b[0m\n\u001b[1;32m---> 65\u001b[1;33m             \u001b[0mpsi\u001b[0m \u001b[1;33m=\u001b[0m \u001b[0mlocal_exponentiation\u001b[0m\u001b[1;33m(\u001b[0m\u001b[1;34m'H2'\u001b[0m\u001b[1;33m,\u001b[0m\u001b[0mM\u001b[0m\u001b[1;33m,\u001b[0m \u001b[0mself\u001b[0m\u001b[1;33m.\u001b[0m\u001b[0mLT\u001b[0m\u001b[1;33m[\u001b[0m\u001b[0mi\u001b[0m\u001b[1;33m-\u001b[0m\u001b[1;36m1\u001b[0m\u001b[1;33m]\u001b[0m\u001b[1;33m,\u001b[0m \u001b[0mself\u001b[0m\u001b[1;33m.\u001b[0m\u001b[0mW12\u001b[0m\u001b[1;33m[\u001b[0m\u001b[0mi\u001b[0m\u001b[1;33m]\u001b[0m\u001b[1;33m,\u001b[0m \u001b[0mself\u001b[0m\u001b[1;33m.\u001b[0m\u001b[0mRT\u001b[0m\u001b[1;33m[\u001b[0m\u001b[0mi\u001b[0m\u001b[1;33m+\u001b[0m\u001b[1;36m2\u001b[0m\u001b[1;33m]\u001b[0m\u001b[1;33m,\u001b[0m \u001b[1;33m-\u001b[0m\u001b[0mdelta\u001b[0m\u001b[1;33m,\u001b[0m\u001b[0mkrydim\u001b[0m\u001b[1;33m)\u001b[0m\u001b[1;33m\u001b[0m\u001b[1;33m\u001b[0m\u001b[0m\n\u001b[0m\u001b[0;32m     66\u001b[0m \u001b[1;33m\u001b[0m\u001b[0m\n\u001b[0;32m     67\u001b[0m             \u001b[0mM\u001b[0m \u001b[1;33m=\u001b[0m \u001b[0mpsi\u001b[0m\u001b[1;33m.\u001b[0m\u001b[0mreshape\u001b[0m\u001b[1;33m(\u001b[0m\u001b[0mshpMi\u001b[0m\u001b[1;33m[\u001b[0m\u001b[1;36m0\u001b[0m\u001b[1;33m]\u001b[0m\u001b[1;33m*\u001b[0m\u001b[0mshpMi\u001b[0m\u001b[1;33m[\u001b[0m\u001b[1;36m1\u001b[0m\u001b[1;33m]\u001b[0m\u001b[1;33m,\u001b[0m\u001b[0mshpMj\u001b[0m\u001b[1;33m[\u001b[0m\u001b[1;36m1\u001b[0m\u001b[1;33m]\u001b[0m\u001b[1;33m*\u001b[0m\u001b[0mshpMj\u001b[0m\u001b[1;33m[\u001b[0m\u001b[1;36m2\u001b[0m\u001b[1;33m]\u001b[0m\u001b[1;33m)\u001b[0m\u001b[1;33m\u001b[0m\u001b[1;33m\u001b[0m\u001b[0m\n",
      "\u001b[1;32m~\\Documents\\GitHub\\Tensor-Network\\tdvp2.py\u001b[0m in \u001b[0;36mlocal_exponentiation\u001b[1;34m(method, M, L, H, R, delta, maxit)\u001b[0m\n\u001b[0;32m     24\u001b[0m     \u001b[1;32mif\u001b[0m \u001b[0mmethod\u001b[0m \u001b[1;33m==\u001b[0m \u001b[1;34m'H1'\u001b[0m\u001b[1;33m:\u001b[0m\u001b[1;33m\u001b[0m\u001b[1;33m\u001b[0m\u001b[0m\n\u001b[0;32m     25\u001b[0m             \u001b[0mAfunc\u001b[0m \u001b[1;33m=\u001b[0m \u001b[1;32mlambda\u001b[0m \u001b[0mx\u001b[0m\u001b[1;33m:\u001b[0m \u001b[0mapply_Heff1\u001b[0m\u001b[1;33m(\u001b[0m\u001b[0mL\u001b[0m\u001b[1;33m,\u001b[0m \u001b[0mH\u001b[0m\u001b[1;33m,\u001b[0m \u001b[0mR\u001b[0m\u001b[1;33m,\u001b[0m \u001b[0mx\u001b[0m\u001b[1;33m.\u001b[0m\u001b[0mreshape\u001b[0m\u001b[1;33m(\u001b[0m\u001b[0mM\u001b[0m\u001b[1;33m.\u001b[0m\u001b[0mshape\u001b[0m\u001b[1;33m)\u001b[0m\u001b[1;33m)\u001b[0m\u001b[1;33m.\u001b[0m\u001b[0mravel\u001b[0m\u001b[1;33m(\u001b[0m\u001b[1;33m)\u001b[0m\u001b[1;33m\u001b[0m\u001b[1;33m\u001b[0m\u001b[0m\n\u001b[1;32m---> 26\u001b[1;33m     \u001b[0mv\u001b[0m \u001b[1;33m=\u001b[0m \u001b[0mexpm_krylov_lanczos\u001b[0m\u001b[1;33m(\u001b[0m\u001b[0mAfunc\u001b[0m\u001b[1;33m,\u001b[0m \u001b[0mM\u001b[0m\u001b[1;33m.\u001b[0m\u001b[0mravel\u001b[0m\u001b[1;33m(\u001b[0m\u001b[1;33m)\u001b[0m\u001b[1;33m,\u001b[0m \u001b[1;36m1j\u001b[0m\u001b[1;33m*\u001b[0m\u001b[0mdelta\u001b[0m\u001b[1;33m/\u001b[0m\u001b[1;36m2\u001b[0m\u001b[1;33m,\u001b[0m \u001b[0mmaxit\u001b[0m\u001b[1;33m)\u001b[0m\u001b[1;33m\u001b[0m\u001b[1;33m\u001b[0m\u001b[0m\n\u001b[0m\u001b[0;32m     27\u001b[0m     \u001b[1;32mreturn\u001b[0m \u001b[0mv\u001b[0m\u001b[1;33m/\u001b[0m\u001b[0mLA\u001b[0m\u001b[1;33m.\u001b[0m\u001b[0mnorm\u001b[0m\u001b[1;33m(\u001b[0m\u001b[0mv\u001b[0m\u001b[1;33m)\u001b[0m\u001b[1;33m\u001b[0m\u001b[1;33m\u001b[0m\u001b[0m\n\u001b[0;32m     28\u001b[0m \u001b[1;33m\u001b[0m\u001b[0m\n",
      "\u001b[1;32m~\\Documents\\GitHub\\Tensor-Network\\LanczosRoutines.py\u001b[0m in \u001b[0;36mexpm_krylov_lanczos\u001b[1;34m(Afunc, v, dt, numiter)\u001b[0m\n\u001b[0;32m     62\u001b[0m     \"\"\"\n\u001b[0;32m     63\u001b[0m \u001b[1;33m\u001b[0m\u001b[0m\n\u001b[1;32m---> 64\u001b[1;33m     \u001b[0malpha\u001b[0m\u001b[1;33m,\u001b[0m \u001b[0mbeta\u001b[0m\u001b[1;33m,\u001b[0m \u001b[0mV\u001b[0m \u001b[1;33m=\u001b[0m \u001b[0mlanczos_iteration\u001b[0m\u001b[1;33m(\u001b[0m\u001b[0mAfunc\u001b[0m\u001b[1;33m,\u001b[0m \u001b[0mv\u001b[0m\u001b[1;33m,\u001b[0m \u001b[0mnumiter\u001b[0m\u001b[1;33m)\u001b[0m\u001b[1;33m\u001b[0m\u001b[1;33m\u001b[0m\u001b[0m\n\u001b[0m\u001b[0;32m     65\u001b[0m \u001b[1;33m\u001b[0m\u001b[0m\n\u001b[0;32m     66\u001b[0m     \u001b[1;31m# diagonalize Hessenberg matrix\u001b[0m\u001b[1;33m\u001b[0m\u001b[1;33m\u001b[0m\u001b[1;33m\u001b[0m\u001b[0m\n",
      "\u001b[1;32m~\\Documents\\GitHub\\Tensor-Network\\LanczosRoutines.py\u001b[0m in \u001b[0;36mlanczos_iteration\u001b[1;34m(Afunc, vstart, numiter)\u001b[0m\n\u001b[0;32m     30\u001b[0m \u001b[1;33m\u001b[0m\u001b[0m\n\u001b[0;32m     31\u001b[0m     \u001b[1;32mfor\u001b[0m \u001b[0mj\u001b[0m \u001b[1;32min\u001b[0m \u001b[0mrange\u001b[0m\u001b[1;33m(\u001b[0m\u001b[0mnumiter\u001b[0m\u001b[1;33m-\u001b[0m\u001b[1;36m1\u001b[0m\u001b[1;33m)\u001b[0m\u001b[1;33m:\u001b[0m\u001b[1;33m\u001b[0m\u001b[1;33m\u001b[0m\u001b[0m\n\u001b[1;32m---> 32\u001b[1;33m         \u001b[0mw\u001b[0m \u001b[1;33m=\u001b[0m \u001b[0mAfunc\u001b[0m\u001b[1;33m(\u001b[0m\u001b[0mV\u001b[0m\u001b[1;33m[\u001b[0m\u001b[0mj\u001b[0m\u001b[1;33m]\u001b[0m\u001b[1;33m)\u001b[0m\u001b[1;33m\u001b[0m\u001b[1;33m\u001b[0m\u001b[0m\n\u001b[0m\u001b[0;32m     33\u001b[0m         \u001b[0malpha\u001b[0m\u001b[1;33m[\u001b[0m\u001b[0mj\u001b[0m\u001b[1;33m]\u001b[0m \u001b[1;33m=\u001b[0m \u001b[0mnp\u001b[0m\u001b[1;33m.\u001b[0m\u001b[0mvdot\u001b[0m\u001b[1;33m(\u001b[0m\u001b[0mw\u001b[0m\u001b[1;33m,\u001b[0m \u001b[0mV\u001b[0m\u001b[1;33m[\u001b[0m\u001b[0mj\u001b[0m\u001b[1;33m]\u001b[0m\u001b[1;33m)\u001b[0m\u001b[1;33m.\u001b[0m\u001b[0mreal\u001b[0m\u001b[1;33m\u001b[0m\u001b[1;33m\u001b[0m\u001b[0m\n\u001b[0;32m     34\u001b[0m         \u001b[0mw\u001b[0m \u001b[1;33m-=\u001b[0m \u001b[0malpha\u001b[0m\u001b[1;33m[\u001b[0m\u001b[0mj\u001b[0m\u001b[1;33m]\u001b[0m\u001b[1;33m*\u001b[0m\u001b[0mV\u001b[0m\u001b[1;33m[\u001b[0m\u001b[0mj\u001b[0m\u001b[1;33m]\u001b[0m \u001b[1;33m+\u001b[0m \u001b[1;33m(\u001b[0m\u001b[0mbeta\u001b[0m\u001b[1;33m[\u001b[0m\u001b[0mj\u001b[0m\u001b[1;33m-\u001b[0m\u001b[1;36m1\u001b[0m\u001b[1;33m]\u001b[0m\u001b[1;33m*\u001b[0m\u001b[0mV\u001b[0m\u001b[1;33m[\u001b[0m\u001b[0mj\u001b[0m\u001b[1;33m-\u001b[0m\u001b[1;36m1\u001b[0m\u001b[1;33m]\u001b[0m \u001b[1;32mif\u001b[0m \u001b[0mj\u001b[0m \u001b[1;33m>\u001b[0m \u001b[1;36m0\u001b[0m \u001b[1;32melse\u001b[0m \u001b[1;36m0\u001b[0m\u001b[1;33m)\u001b[0m\u001b[1;33m\u001b[0m\u001b[1;33m\u001b[0m\u001b[0m\n",
      "\u001b[1;32m~\\Documents\\GitHub\\Tensor-Network\\tdvp2.py\u001b[0m in \u001b[0;36m<lambda>\u001b[1;34m(x)\u001b[0m\n\u001b[0;32m     21\u001b[0m \u001b[1;32mdef\u001b[0m \u001b[0mlocal_exponentiation\u001b[0m\u001b[1;33m(\u001b[0m\u001b[0mmethod\u001b[0m\u001b[1;33m,\u001b[0m\u001b[0mM\u001b[0m\u001b[1;33m,\u001b[0m\u001b[0mL\u001b[0m\u001b[1;33m,\u001b[0m\u001b[0mH\u001b[0m\u001b[1;33m,\u001b[0m\u001b[0mR\u001b[0m\u001b[1;33m,\u001b[0m\u001b[0mdelta\u001b[0m\u001b[1;33m,\u001b[0m\u001b[0mmaxit\u001b[0m\u001b[1;33m=\u001b[0m\u001b[1;36m10\u001b[0m\u001b[1;33m)\u001b[0m\u001b[1;33m:\u001b[0m\u001b[1;33m\u001b[0m\u001b[1;33m\u001b[0m\u001b[0m\n\u001b[0;32m     22\u001b[0m     \u001b[1;32mif\u001b[0m \u001b[0mmethod\u001b[0m \u001b[1;33m==\u001b[0m \u001b[1;34m'H2'\u001b[0m\u001b[1;33m:\u001b[0m\u001b[1;33m\u001b[0m\u001b[1;33m\u001b[0m\u001b[0m\n\u001b[1;32m---> 23\u001b[1;33m             \u001b[0mAfunc\u001b[0m \u001b[1;33m=\u001b[0m \u001b[1;32mlambda\u001b[0m \u001b[0mx\u001b[0m\u001b[1;33m:\u001b[0m \u001b[0mapply_Heff2\u001b[0m\u001b[1;33m(\u001b[0m\u001b[0mL\u001b[0m\u001b[1;33m,\u001b[0m \u001b[0mH\u001b[0m\u001b[1;33m,\u001b[0m \u001b[0mR\u001b[0m\u001b[1;33m,\u001b[0m \u001b[0mx\u001b[0m\u001b[1;33m.\u001b[0m\u001b[0mreshape\u001b[0m\u001b[1;33m(\u001b[0m\u001b[0mM\u001b[0m\u001b[1;33m.\u001b[0m\u001b[0mshape\u001b[0m\u001b[1;33m)\u001b[0m\u001b[1;33m)\u001b[0m\u001b[1;33m.\u001b[0m\u001b[0mravel\u001b[0m\u001b[1;33m(\u001b[0m\u001b[1;33m)\u001b[0m\u001b[1;33m\u001b[0m\u001b[1;33m\u001b[0m\u001b[0m\n\u001b[0m\u001b[0;32m     24\u001b[0m     \u001b[1;32mif\u001b[0m \u001b[0mmethod\u001b[0m \u001b[1;33m==\u001b[0m \u001b[1;34m'H1'\u001b[0m\u001b[1;33m:\u001b[0m\u001b[1;33m\u001b[0m\u001b[1;33m\u001b[0m\u001b[0m\n\u001b[0;32m     25\u001b[0m             \u001b[0mAfunc\u001b[0m \u001b[1;33m=\u001b[0m \u001b[1;32mlambda\u001b[0m \u001b[0mx\u001b[0m\u001b[1;33m:\u001b[0m \u001b[0mapply_Heff1\u001b[0m\u001b[1;33m(\u001b[0m\u001b[0mL\u001b[0m\u001b[1;33m,\u001b[0m \u001b[0mH\u001b[0m\u001b[1;33m,\u001b[0m \u001b[0mR\u001b[0m\u001b[1;33m,\u001b[0m \u001b[0mx\u001b[0m\u001b[1;33m.\u001b[0m\u001b[0mreshape\u001b[0m\u001b[1;33m(\u001b[0m\u001b[0mM\u001b[0m\u001b[1;33m.\u001b[0m\u001b[0mshape\u001b[0m\u001b[1;33m)\u001b[0m\u001b[1;33m)\u001b[0m\u001b[1;33m.\u001b[0m\u001b[0mravel\u001b[0m\u001b[1;33m(\u001b[0m\u001b[1;33m)\u001b[0m\u001b[1;33m\u001b[0m\u001b[1;33m\u001b[0m\u001b[0m\n",
      "\u001b[1;32m~\\Documents\\GitHub\\Tensor-Network\\tdvp2.py\u001b[0m in \u001b[0;36mapply_Heff2\u001b[1;34m(L, H, R, M)\u001b[0m\n\u001b[0;32m     15\u001b[0m \u001b[1;31m##         +--M--+\u001b[0m\u001b[1;33m\u001b[0m\u001b[1;33m\u001b[0m\u001b[1;33m\u001b[0m\u001b[0m\n\u001b[0;32m     16\u001b[0m \u001b[1;32mdef\u001b[0m \u001b[0mapply_Heff2\u001b[0m\u001b[1;33m(\u001b[0m\u001b[0mL\u001b[0m\u001b[1;33m,\u001b[0m\u001b[0mH\u001b[0m\u001b[1;33m,\u001b[0m\u001b[0mR\u001b[0m\u001b[1;33m,\u001b[0m\u001b[0mM\u001b[0m\u001b[1;33m)\u001b[0m\u001b[1;33m:\u001b[0m\u001b[1;33m\u001b[0m\u001b[1;33m\u001b[0m\u001b[0m\n\u001b[1;32m---> 17\u001b[1;33m     \u001b[1;32mreturn\u001b[0m \u001b[0mncon\u001b[0m\u001b[1;33m(\u001b[0m\u001b[1;33m[\u001b[0m\u001b[0mL\u001b[0m\u001b[1;33m,\u001b[0m \u001b[0mH\u001b[0m\u001b[1;33m,\u001b[0m \u001b[0mR\u001b[0m\u001b[1;33m,\u001b[0m\u001b[0mM\u001b[0m\u001b[1;33m]\u001b[0m\u001b[1;33m,\u001b[0m \u001b[1;33m[\u001b[0m\u001b[1;33m[\u001b[0m\u001b[1;36m1\u001b[0m\u001b[1;33m,\u001b[0m\u001b[1;36m2\u001b[0m\u001b[1;33m,\u001b[0m\u001b[1;33m-\u001b[0m\u001b[1;36m1\u001b[0m\u001b[1;33m]\u001b[0m\u001b[1;33m,\u001b[0m\u001b[1;33m[\u001b[0m\u001b[1;36m2\u001b[0m\u001b[1;33m,\u001b[0m\u001b[1;36m6\u001b[0m\u001b[1;33m,\u001b[0m\u001b[1;36m3\u001b[0m\u001b[1;33m,\u001b[0m\u001b[1;36m4\u001b[0m\u001b[1;33m,\u001b[0m\u001b[1;33m-\u001b[0m\u001b[1;36m2\u001b[0m\u001b[1;33m,\u001b[0m\u001b[1;33m-\u001b[0m\u001b[1;36m3\u001b[0m\u001b[1;33m]\u001b[0m\u001b[1;33m,\u001b[0m\u001b[1;33m[\u001b[0m\u001b[1;36m5\u001b[0m\u001b[1;33m,\u001b[0m\u001b[1;36m6\u001b[0m\u001b[1;33m,\u001b[0m\u001b[1;33m-\u001b[0m\u001b[1;36m4\u001b[0m\u001b[1;33m]\u001b[0m\u001b[1;33m,\u001b[0m\u001b[1;33m[\u001b[0m\u001b[1;36m1\u001b[0m\u001b[1;33m,\u001b[0m\u001b[1;36m3\u001b[0m\u001b[1;33m,\u001b[0m\u001b[1;36m4\u001b[0m\u001b[1;33m,\u001b[0m\u001b[1;36m5\u001b[0m\u001b[1;33m]\u001b[0m\u001b[1;33m]\u001b[0m\u001b[1;33m)\u001b[0m\u001b[1;33m\u001b[0m\u001b[1;33m\u001b[0m\u001b[0m\n\u001b[0m\u001b[0;32m     18\u001b[0m \u001b[1;32mdef\u001b[0m \u001b[0mapply_Heff1\u001b[0m\u001b[1;33m(\u001b[0m\u001b[0mL\u001b[0m\u001b[1;33m,\u001b[0m\u001b[0mH\u001b[0m\u001b[1;33m,\u001b[0m\u001b[0mR\u001b[0m\u001b[1;33m,\u001b[0m\u001b[0mM\u001b[0m\u001b[1;33m)\u001b[0m\u001b[1;33m:\u001b[0m\u001b[1;33m\u001b[0m\u001b[1;33m\u001b[0m\u001b[0m\n\u001b[0;32m     19\u001b[0m     \u001b[1;32mreturn\u001b[0m \u001b[0mncon\u001b[0m\u001b[1;33m(\u001b[0m\u001b[1;33m[\u001b[0m\u001b[0mL\u001b[0m\u001b[1;33m,\u001b[0m\u001b[0mH\u001b[0m\u001b[1;33m,\u001b[0m\u001b[0mR\u001b[0m\u001b[1;33m,\u001b[0m\u001b[0mM\u001b[0m\u001b[1;33m]\u001b[0m\u001b[1;33m,\u001b[0m\u001b[1;33m[\u001b[0m\u001b[1;33m[\u001b[0m\u001b[1;36m1\u001b[0m\u001b[1;33m,\u001b[0m\u001b[1;36m2\u001b[0m\u001b[1;33m,\u001b[0m\u001b[1;33m-\u001b[0m\u001b[1;36m1\u001b[0m\u001b[1;33m]\u001b[0m\u001b[1;33m,\u001b[0m\u001b[1;33m[\u001b[0m\u001b[1;36m2\u001b[0m\u001b[1;33m,\u001b[0m\u001b[1;36m5\u001b[0m\u001b[1;33m,\u001b[0m\u001b[1;36m3\u001b[0m\u001b[1;33m,\u001b[0m\u001b[1;33m-\u001b[0m\u001b[1;36m2\u001b[0m\u001b[1;33m]\u001b[0m\u001b[1;33m,\u001b[0m\u001b[1;33m[\u001b[0m\u001b[1;36m4\u001b[0m\u001b[1;33m,\u001b[0m\u001b[1;36m5\u001b[0m\u001b[1;33m,\u001b[0m\u001b[1;33m-\u001b[0m\u001b[1;36m3\u001b[0m\u001b[1;33m]\u001b[0m\u001b[1;33m,\u001b[0m\u001b[1;33m[\u001b[0m\u001b[1;36m1\u001b[0m\u001b[1;33m,\u001b[0m\u001b[1;36m3\u001b[0m\u001b[1;33m,\u001b[0m\u001b[1;36m4\u001b[0m\u001b[1;33m]\u001b[0m\u001b[1;33m]\u001b[0m\u001b[1;33m)\u001b[0m\u001b[1;33m\u001b[0m\u001b[1;33m\u001b[0m\u001b[0m\n",
      "\u001b[1;32mC:\\ProgramData\\Anaconda3\\lib\\site-packages\\ncon\\ncon.py\u001b[0m in \u001b[0;36mncon\u001b[1;34m(L, v, order, forder, check_indices)\u001b[0m\n\u001b[0;32m     70\u001b[0m         \u001b[1;32melse\u001b[0m\u001b[1;33m:\u001b[0m\u001b[1;33m\u001b[0m\u001b[1;33m\u001b[0m\u001b[0m\n\u001b[0;32m     71\u001b[0m             \u001b[1;31m# Contraction of 2 tensors\u001b[0m\u001b[1;33m\u001b[0m\u001b[1;33m\u001b[0m\u001b[1;33m\u001b[0m\u001b[0m\n\u001b[1;32m---> 72\u001b[1;33m             \u001b[0mnew_A\u001b[0m \u001b[1;33m=\u001b[0m \u001b[0mcon\u001b[0m\u001b[1;33m(\u001b[0m\u001b[0mL\u001b[0m\u001b[1;33m[\u001b[0m\u001b[0mtcon\u001b[0m\u001b[1;33m[\u001b[0m\u001b[1;36m0\u001b[0m\u001b[1;33m]\u001b[0m\u001b[1;33m]\u001b[0m\u001b[1;33m,\u001b[0m \u001b[0mL\u001b[0m\u001b[1;33m[\u001b[0m\u001b[0mtcon\u001b[0m\u001b[1;33m[\u001b[0m\u001b[1;36m1\u001b[0m\u001b[1;33m]\u001b[0m\u001b[1;33m]\u001b[0m\u001b[1;33m,\u001b[0m \u001b[1;33m(\u001b[0m\u001b[0mpos1\u001b[0m\u001b[1;33m,\u001b[0m \u001b[0mpos2\u001b[0m\u001b[1;33m)\u001b[0m\u001b[1;33m)\u001b[0m\u001b[1;33m\u001b[0m\u001b[1;33m\u001b[0m\u001b[0m\n\u001b[0m\u001b[0;32m     73\u001b[0m         \u001b[0mL\u001b[0m\u001b[1;33m.\u001b[0m\u001b[0mappend\u001b[0m\u001b[1;33m(\u001b[0m\u001b[0mnew_A\u001b[0m\u001b[1;33m)\u001b[0m\u001b[1;33m\u001b[0m\u001b[1;33m\u001b[0m\u001b[0m\n\u001b[0;32m     74\u001b[0m         \u001b[0mv\u001b[0m\u001b[1;33m.\u001b[0m\u001b[0mappend\u001b[0m\u001b[1;33m(\u001b[0m\u001b[0mfind_newv\u001b[0m\u001b[1;33m(\u001b[0m\u001b[0mv\u001b[0m\u001b[1;33m,\u001b[0m \u001b[0mtcon\u001b[0m\u001b[1;33m,\u001b[0m \u001b[0micon\u001b[0m\u001b[1;33m)\u001b[0m\u001b[1;33m)\u001b[0m  \u001b[1;31m# Add the v for the new tensor\u001b[0m\u001b[1;33m\u001b[0m\u001b[1;33m\u001b[0m\u001b[0m\n",
      "\u001b[1;32mC:\\ProgramData\\Anaconda3\\lib\\site-packages\\ncon\\ncon.py\u001b[0m in \u001b[0;36mcon\u001b[1;34m(A, B, inds)\u001b[0m\n\u001b[0;32m    345\u001b[0m \u001b[1;32mdef\u001b[0m \u001b[0mcon\u001b[0m\u001b[1;33m(\u001b[0m\u001b[0mA\u001b[0m\u001b[1;33m,\u001b[0m \u001b[0mB\u001b[0m\u001b[1;33m,\u001b[0m \u001b[0minds\u001b[0m\u001b[1;33m)\u001b[0m\u001b[1;33m:\u001b[0m\u001b[1;33m\u001b[0m\u001b[1;33m\u001b[0m\u001b[0m\n\u001b[0;32m    346\u001b[0m     \u001b[1;32mif\u001b[0m \u001b[0mtype\u001b[0m\u001b[1;33m(\u001b[0m\u001b[0mA\u001b[0m\u001b[1;33m)\u001b[0m \u001b[1;33m==\u001b[0m \u001b[0mtype\u001b[0m\u001b[1;33m(\u001b[0m\u001b[0mB\u001b[0m\u001b[1;33m)\u001b[0m \u001b[1;33m==\u001b[0m \u001b[0mnp\u001b[0m\u001b[1;33m.\u001b[0m\u001b[0mndarray\u001b[0m\u001b[1;33m:\u001b[0m\u001b[1;33m\u001b[0m\u001b[1;33m\u001b[0m\u001b[0m\n\u001b[1;32m--> 347\u001b[1;33m         \u001b[1;32mreturn\u001b[0m \u001b[0mnp\u001b[0m\u001b[1;33m.\u001b[0m\u001b[0mtensordot\u001b[0m\u001b[1;33m(\u001b[0m\u001b[0mA\u001b[0m\u001b[1;33m,\u001b[0m \u001b[0mB\u001b[0m\u001b[1;33m,\u001b[0m \u001b[0minds\u001b[0m\u001b[1;33m)\u001b[0m\u001b[1;33m\u001b[0m\u001b[1;33m\u001b[0m\u001b[0m\n\u001b[0m\u001b[0;32m    348\u001b[0m     \u001b[1;32melse\u001b[0m\u001b[1;33m:\u001b[0m\u001b[1;33m\u001b[0m\u001b[1;33m\u001b[0m\u001b[0m\n\u001b[0;32m    349\u001b[0m         \u001b[1;32mreturn\u001b[0m \u001b[0mA\u001b[0m\u001b[1;33m.\u001b[0m\u001b[0mdot\u001b[0m\u001b[1;33m(\u001b[0m\u001b[0mB\u001b[0m\u001b[1;33m,\u001b[0m \u001b[0minds\u001b[0m\u001b[1;33m)\u001b[0m\u001b[1;33m\u001b[0m\u001b[1;33m\u001b[0m\u001b[0m\n",
      "\u001b[1;32m<__array_function__ internals>\u001b[0m in \u001b[0;36mtensordot\u001b[1;34m(*args, **kwargs)\u001b[0m\n",
      "\u001b[1;32mC:\\ProgramData\\Anaconda3\\lib\\site-packages\\numpy\\core\\numeric.py\u001b[0m in \u001b[0;36mtensordot\u001b[1;34m(a, b, axes)\u001b[0m\n\u001b[0;32m   1136\u001b[0m     \u001b[0mat\u001b[0m \u001b[1;33m=\u001b[0m \u001b[0ma\u001b[0m\u001b[1;33m.\u001b[0m\u001b[0mtranspose\u001b[0m\u001b[1;33m(\u001b[0m\u001b[0mnewaxes_a\u001b[0m\u001b[1;33m)\u001b[0m\u001b[1;33m.\u001b[0m\u001b[0mreshape\u001b[0m\u001b[1;33m(\u001b[0m\u001b[0mnewshape_a\u001b[0m\u001b[1;33m)\u001b[0m\u001b[1;33m\u001b[0m\u001b[1;33m\u001b[0m\u001b[0m\n\u001b[0;32m   1137\u001b[0m     \u001b[0mbt\u001b[0m \u001b[1;33m=\u001b[0m \u001b[0mb\u001b[0m\u001b[1;33m.\u001b[0m\u001b[0mtranspose\u001b[0m\u001b[1;33m(\u001b[0m\u001b[0mnewaxes_b\u001b[0m\u001b[1;33m)\u001b[0m\u001b[1;33m.\u001b[0m\u001b[0mreshape\u001b[0m\u001b[1;33m(\u001b[0m\u001b[0mnewshape_b\u001b[0m\u001b[1;33m)\u001b[0m\u001b[1;33m\u001b[0m\u001b[1;33m\u001b[0m\u001b[0m\n\u001b[1;32m-> 1138\u001b[1;33m     \u001b[0mres\u001b[0m \u001b[1;33m=\u001b[0m \u001b[0mdot\u001b[0m\u001b[1;33m(\u001b[0m\u001b[0mat\u001b[0m\u001b[1;33m,\u001b[0m \u001b[0mbt\u001b[0m\u001b[1;33m)\u001b[0m\u001b[1;33m\u001b[0m\u001b[1;33m\u001b[0m\u001b[0m\n\u001b[0m\u001b[0;32m   1139\u001b[0m     \u001b[1;32mreturn\u001b[0m \u001b[0mres\u001b[0m\u001b[1;33m.\u001b[0m\u001b[0mreshape\u001b[0m\u001b[1;33m(\u001b[0m\u001b[0molda\u001b[0m \u001b[1;33m+\u001b[0m \u001b[0moldb\u001b[0m\u001b[1;33m)\u001b[0m\u001b[1;33m\u001b[0m\u001b[1;33m\u001b[0m\u001b[0m\n\u001b[0;32m   1140\u001b[0m \u001b[1;33m\u001b[0m\u001b[0m\n",
      "\u001b[1;32m<__array_function__ internals>\u001b[0m in \u001b[0;36mdot\u001b[1;34m(*args, **kwargs)\u001b[0m\n",
      "\u001b[1;31mKeyboardInterrupt\u001b[0m: "
     ]
    }
   ],
   "source": [
    "L = 256\n",
    "\n",
    "h = 0.\n",
    "J = 1.\n",
    "H = SS1d.IsingMPO(L,h=h,J=J)\n",
    "\n",
    "time_engine = tdvp.TDVP2(MPS.getAllUp(L),H)\n",
    "\n",
    "#mz_list = []\n",
    "t_list = []\n",
    "Mz_list = []\n",
    "#ent_ent = []\n",
    "\n",
    "MzMPO = MPO.getMzMPO(L)\n",
    "\n",
    "dt = 1\n",
    "k  = 10\n",
    "#t_list.append(0.)\n",
    "\n",
    "file_MPS = h5py.File(r\"Evolutions/1d_%d_Floquet_eps0.1_chi64.h5\"%(L),\"w\")\n",
    "\n",
    "#mz_list.append(MPO.return_LocalMz(time_engine.MPS).real)\n",
    "Mz_list.append(MzMPO.contractMPOMPS(time_engine.MPS).real)\n",
    "t_list.append(0.)\n",
    "#ent_ent.append(time_engine.MPS.compute_EntEntropy())\n",
    "\n",
    "time_engine.MPS.save_hdf5(file_MPS,0)\n",
    "for j in range(101):\n",
    "    print('j: ',j,' Mz: ',np.abs(Mz_list[j].real))\n",
    "    if j<2:\n",
    "        time_engine.truncate_info = False\n",
    "        time_engine.chi_MAX = 32\n",
    "    else:\n",
    "        time_engine.truncate_info = True\n",
    "        time_engine.chi_MAX = 64\n",
    "    time_engine.initialize()\n",
    "\n",
    "    # Evolve the state of t1->t2, t2-t1=0.5\n",
    "    for _ in range(k):\n",
    "        time_engine.time_step(dt/k,1e-10)#1e-10)\n",
    "\n",
    "    apply_flip(time_engine.MPS.M, 0.1)\n",
    "\n",
    "    time_engine.MPS.save_hdf5(file_MPS,j+1)\n",
    "    #if time_engine.end_max:\n",
    "    #    break\n",
    "    t_list.append((j+1)*dt)\n",
    "    #mz_list.append(MPO.return_LocalMz(time_engine.MPS).real)\n",
    "    Mz_list.append(MzMPO.contractMPOMPS(time_engine.MPS).real)\n",
    "    #ent_ent.append(time_engine.MPS.compute_EntEntropy())\n",
    "file_MPS.close()"
   ]
  },
  {
   "cell_type": "code",
   "execution_count": 39,
   "id": "167230dc",
   "metadata": {},
   "outputs": [],
   "source": [
    "file_MPS.close()"
   ]
  },
  {
   "cell_type": "code",
   "execution_count": 37,
   "id": "85cf9b06",
   "metadata": {},
   "outputs": [],
   "source": [
    "mz25 = np.abs(Mz_list)/L"
   ]
  },
  {
   "cell_type": "code",
   "execution_count": 38,
   "id": "00a0f92a",
   "metadata": {},
   "outputs": [
    {
     "data": {
      "text/plain": [
       "[<matplotlib.lines.Line2D at 0x233a2ec58b0>]"
      ]
     },
     "execution_count": 38,
     "metadata": {},
     "output_type": "execute_result"
    },
    {
     "data": {
      "image/png": "[encoded data removed]",
      "text/plain": [
       "<Figure size 432x288 with 1 Axes>"
      ]
     },
     "metadata": {
      "needs_background": "light"
     },
     "output_type": "display_data"
    }
   ],
   "source": [
    "plt.plot(mz16)\n",
    "plt.plot(mz25)\n",
    "#plt.plot(np.abs(Mz_list)/L)"
   ]
  },
  {
   "cell_type": "code",
   "execution_count": 33,
   "id": "b8a24200",
   "metadata": {},
   "outputs": [
    {
     "data": {
      "text/plain": [
       "<matplotlib.colorbar.Colorbar at 0x25fe4a51e80>"
      ]
     },
     "execution_count": 33,
     "metadata": {},
     "output_type": "execute_result"
    },
    {
     "data": {
      "image/png": "[encoded data removed]",
      "text/plain": [
       "<Figure size 432x288 with 2 Axes>"
      ]
     },
     "metadata": {
      "needs_background": "light"
     },
     "output_type": "display_data"
    }
   ],
   "source": [
    "mz_ = np.array(mz_list).reshape(len(mz_list),Lx,Ly)\n",
    "\n",
    "list_ = []\n",
    "for x in time_engine.MPS.M:\n",
    "    list_.append(np.max(x.shape))\n",
    "\n",
    "plt.imshow(np.array(list_).reshape(Lx,Ly))\n",
    "plt.title(\"Bond dimension\",fontsize=30)\n",
    "plt.colorbar()"
   ]
  },
  {
   "cell_type": "code",
   "execution_count": 34,
   "id": "f01d947d",
   "metadata": {},
   "outputs": [
    {
     "data": {
      "text/plain": [
       "<matplotlib.colorbar.Colorbar at 0x25fe3a1e220>"
      ]
     },
     "execution_count": 34,
     "metadata": {},
     "output_type": "execute_result"
    },
    {
     "data": {
      "image/png": "[encoded data removed]",
      "text/plain": [
       "<Figure size 720x504 with 8 Axes>"
      ]
     },
     "metadata": {
      "needs_background": "light"
     },
     "output_type": "display_data"
    }
   ],
   "source": [
    "plt.figure(figsize=(10,7))\n",
    "plt.subplot(221)\n",
    "plt.imshow(np.abs(mz_[0,:,:].real))\n",
    "plt.colorbar()\n",
    "plt.subplot(222)\n",
    "plt.imshow(np.abs(mz_[2,:,:].real))\n",
    "plt.colorbar()\n",
    "plt.subplot(223)\n",
    "plt.imshow(np.abs(mz_[0,:,:].real))\n",
    "plt.colorbar()\n",
    "plt.subplot(224)\n",
    "plt.imshow(np.abs(mz_[-1,:,:].real))\n",
    "plt.colorbar()"
   ]
  },
  {
   "cell_type": "code",
   "execution_count": 4,
   "id": "1537946e",
   "metadata": {},
   "outputs": [
    {
     "ename": "NameError",
     "evalue": "name 't_list' is not defined",
     "output_type": "error",
     "traceback": [
      "\u001b[1;31m---------------------------------------------------------------------------\u001b[0m",
      "\u001b[1;31mNameError\u001b[0m                                 Traceback (most recent call last)",
      "\u001b[1;32m<ipython-input-4-286053de461b>\u001b[0m in \u001b[0;36m<module>\u001b[1;34m\u001b[0m\n\u001b[0;32m      1\u001b[0m \u001b[0mplt\u001b[0m\u001b[1;33m.\u001b[0m\u001b[0mrc\u001b[0m\u001b[1;33m(\u001b[0m\u001b[1;34m'text'\u001b[0m\u001b[1;33m,\u001b[0m\u001b[0musetex\u001b[0m\u001b[1;33m=\u001b[0m\u001b[1;32mTrue\u001b[0m\u001b[1;33m)\u001b[0m\u001b[1;33m\u001b[0m\u001b[1;33m\u001b[0m\u001b[0m\n\u001b[1;32m----> 2\u001b[1;33m \u001b[0mplt\u001b[0m\u001b[1;33m.\u001b[0m\u001b[0mplot\u001b[0m\u001b[1;33m(\u001b[0m\u001b[0mt_list\u001b[0m\u001b[1;33m,\u001b[0m\u001b[0mnp\u001b[0m\u001b[1;33m.\u001b[0m\u001b[0mabs\u001b[0m\u001b[1;33m(\u001b[0m\u001b[0mnp\u001b[0m\u001b[1;33m.\u001b[0m\u001b[0mreal\u001b[0m\u001b[1;33m(\u001b[0m\u001b[0mMz_list\u001b[0m\u001b[1;33m)\u001b[0m\u001b[1;33m/\u001b[0m\u001b[0mL\u001b[0m\u001b[1;33m)\u001b[0m\u001b[1;33m,\u001b[0m\u001b[1;34m'-o'\u001b[0m\u001b[1;33m,\u001b[0m\u001b[0mmarkersize\u001b[0m\u001b[1;33m=\u001b[0m\u001b[1;36m4\u001b[0m\u001b[1;33m)\u001b[0m\u001b[1;33m\u001b[0m\u001b[1;33m\u001b[0m\u001b[0m\n\u001b[0m\u001b[0;32m      3\u001b[0m \u001b[0mplt\u001b[0m\u001b[1;33m.\u001b[0m\u001b[0mylabel\u001b[0m\u001b[1;33m(\u001b[0m\u001b[1;34mr\"$\\langle S_z\\rangle$\"\u001b[0m\u001b[1;33m,\u001b[0m\u001b[0mfontsize\u001b[0m\u001b[1;33m=\u001b[0m\u001b[1;36m22\u001b[0m\u001b[1;33m)\u001b[0m\u001b[1;33m\u001b[0m\u001b[1;33m\u001b[0m\u001b[0m\n\u001b[0;32m      4\u001b[0m \u001b[0mplt\u001b[0m\u001b[1;33m.\u001b[0m\u001b[0mxlabel\u001b[0m\u001b[1;33m(\u001b[0m\u001b[1;34mr\"$n$\"\u001b[0m\u001b[1;33m,\u001b[0m\u001b[0mfontsize\u001b[0m\u001b[1;33m=\u001b[0m\u001b[1;36m22\u001b[0m\u001b[1;33m)\u001b[0m\u001b[1;33m\u001b[0m\u001b[1;33m\u001b[0m\u001b[0m\n\u001b[0;32m      5\u001b[0m \u001b[0mplt\u001b[0m\u001b[1;33m.\u001b[0m\u001b[0mtick_params\u001b[0m\u001b[1;33m(\u001b[0m\u001b[0mlabelsize\u001b[0m\u001b[1;33m=\u001b[0m\u001b[1;36m18\u001b[0m\u001b[1;33m)\u001b[0m\u001b[1;33m\u001b[0m\u001b[1;33m\u001b[0m\u001b[0m\n",
      "\u001b[1;31mNameError\u001b[0m: name 't_list' is not defined"
     ]
    }
   ],
   "source": [
    "plt.rc('text',usetex=True)\n",
    "plt.plot(t_list,np.abs(np.real(Mz_list)/L),'-o',markersize=4)\n",
    "plt.ylabel(r\"$\\langle S_z\\rangle$\",fontsize=22)\n",
    "plt.xlabel(r\"$n$\",fontsize=22)\n",
    "plt.tick_params(labelsize=18)"
   ]
  },
  {
   "cell_type": "code",
   "execution_count": 18,
   "id": "88577b7f",
   "metadata": {},
   "outputs": [
    {
     "data": {
      "text/plain": [
       "-0.9851187591563005"
      ]
     },
     "execution_count": 18,
     "metadata": {},
     "output_type": "execute_result"
    }
   ],
   "source": [
    "mz_[-1,:,:].sum()/L"
   ]
  },
  {
   "cell_type": "code",
   "execution_count": 19,
   "id": "fe344e99",
   "metadata": {},
   "outputs": [],
   "source": [
    "ent_ent = np.array(ent_ent)"
   ]
  },
  {
   "cell_type": "code",
   "execution_count": 20,
   "id": "2a1c1421",
   "metadata": {
    "scrolled": true
   },
   "outputs": [
    {
     "data": {
      "image/png": "[encoded data removed]",
      "text/plain": [
       "<Figure size 432x288 with 1 Axes>"
      ]
     },
     "metadata": {
      "needs_background": "light"
     },
     "output_type": "display_data"
    }
   ],
   "source": [
    "for x in range(11,21):\n",
    "    plt.plot(ent_ent[0,x])"
   ]
  },
  {
   "cell_type": "code",
   "execution_count": 21,
   "id": "1b9e8abc",
   "metadata": {},
   "outputs": [
    {
     "data": {
      "text/plain": [
       "[<matplotlib.lines.Line2D at 0x1be005059a0>]"
      ]
     },
     "execution_count": 21,
     "metadata": {},
     "output_type": "execute_result"
    },
    {
     "data": {
      "image/png": "[encoded data removed]",
      "text/plain": [
       "<Figure size 432x288 with 1 Axes>"
      ]
     },
     "metadata": {
      "needs_background": "light"
     },
     "output_type": "display_data"
    }
   ],
   "source": [
    "plt.plot(np.array(ent_ent)[:,10])"
   ]
  },
  {
   "cell_type": "code",
   "execution_count": 40,
   "id": "e913997e",
   "metadata": {},
   "outputs": [
    {
     "data": {
      "image/png": "[encoded data removed]",
      "text/plain": [
       "<Figure size 720x360 with 2 Axes>"
      ]
     },
     "metadata": {
      "needs_background": "light"
     },
     "output_type": "display_data"
    }
   ],
   "source": [
    "plt.figure(figsize=(10,5))\n",
    "plt.imshow(ent_ent,origin='lower',aspect='auto',cmap=sns.color_palette('magma',as_cmap=True),norm=mpl.colors.LogNorm(vmin=1e-5,vmax=np.max(ent_ent)))\n",
    "cb = plt.colorbar()\n"
   ]
  },
  {
   "cell_type": "code",
   "execution_count": 41,
   "id": "609f7b3c",
   "metadata": {},
   "outputs": [
    {
     "data": {
      "text/plain": [
       "[<matplotlib.lines.Line2D at 0x25fdf765e20>]"
      ]
     },
     "execution_count": 41,
     "metadata": {},
     "output_type": "execute_result"
    },
    {
     "data": {
      "image/png": "[encoded data removed]",
      "text/plain": [
       "<Figure size 432x288 with 1 Axes>"
      ]
     },
     "metadata": {
      "needs_background": "light"
     },
     "output_type": "display_data"
    }
   ],
   "source": [
    "plt.plot([ent_ent[j][49//2] for j in range(len(t_list)) ])"
   ]
  },
  {
   "cell_type": "code",
   "execution_count": 23,
   "id": "10018347",
   "metadata": {},
   "outputs": [
    {
     "name": "stdout",
     "output_type": "stream",
     "text": [
      "(1, 2, 2)\n",
      "(2, 2, 4)\n",
      "(4, 2, 7)\n",
      "(7, 2, 7)\n",
      "(7, 2, 7)\n",
      "(7, 2, 7)\n",
      "(7, 2, 7)\n",
      "(7, 2, 7)\n",
      "(7, 2, 7)\n",
      "(7, 2, 7)\n",
      "(7, 2, 7)\n",
      "(7, 2, 7)\n",
      "(7, 2, 4)\n",
      "(4, 2, 2)\n",
      "(2, 2, 1)\n",
      "(1, 2, 2)\n",
      "(2, 2, 4)\n",
      "(4, 2, 4)\n",
      "(4, 2, 4)\n",
      "(4, 2, 4)\n",
      "(4, 2, 4)\n",
      "(4, 2, 4)\n",
      "(4, 2, 4)\n",
      "(4, 2, 4)\n",
      "(4, 2, 4)\n",
      "(4, 2, 4)\n",
      "(4, 2, 4)\n",
      "(4, 2, 4)\n",
      "(4, 2, 2)\n",
      "(2, 2, 1)\n",
      "(1, 2, 2)\n",
      "(2, 2, 4)\n",
      "(4, 2, 5)\n",
      "(5, 2, 5)\n",
      "(5, 2, 5)\n",
      "(5, 2, 5)\n",
      "(5, 2, 5)\n",
      "(5, 2, 5)\n",
      "(5, 2, 5)\n",
      "(5, 2, 5)\n",
      "(5, 2, 5)\n",
      "(5, 2, 5)\n",
      "(5, 2, 4)\n",
      "(4, 2, 2)\n",
      "(2, 2, 1)\n",
      "(1, 2, 2)\n",
      "(2, 2, 4)\n",
      "(4, 2, 5)\n",
      "(5, 2, 5)\n",
      "(5, 2, 5)\n",
      "(5, 2, 5)\n",
      "(5, 2, 5)\n",
      "(5, 2, 5)\n",
      "(5, 2, 5)\n",
      "(5, 2, 5)\n",
      "(5, 2, 5)\n",
      "(5, 2, 5)\n",
      "(5, 2, 4)\n",
      "(4, 2, 2)\n",
      "(2, 2, 1)\n",
      "(1, 2, 2)\n",
      "(2, 2, 4)\n",
      "(4, 2, 5)\n",
      "(5, 2, 5)\n",
      "(5, 2, 5)\n",
      "(5, 2, 5)\n",
      "(5, 2, 5)\n",
      "(5, 2, 5)\n",
      "(5, 2, 5)\n",
      "(5, 2, 5)\n",
      "(5, 2, 5)\n",
      "(5, 2, 5)\n",
      "(5, 2, 4)\n",
      "(4, 2, 2)\n",
      "(2, 2, 1)\n",
      "(1, 2, 2)\n",
      "(2, 2, 4)\n",
      "(4, 2, 5)\n",
      "(5, 2, 5)\n",
      "(5, 2, 5)\n",
      "(5, 2, 5)\n",
      "(5, 2, 5)\n",
      "(5, 2, 5)\n",
      "(5, 2, 5)\n",
      "(5, 2, 5)\n",
      "(5, 2, 5)\n",
      "(5, 2, 5)\n",
      "(5, 2, 4)\n",
      "(4, 2, 2)\n",
      "(2, 2, 1)\n",
      "(1, 2, 2)\n",
      "(2, 2, 4)\n",
      "(4, 2, 5)\n",
      "(5, 2, 5)\n",
      "(5, 2, 5)\n",
      "(5, 2, 5)\n",
      "(5, 2, 5)\n",
      "(5, 2, 5)\n",
      "(5, 2, 5)\n",
      "(5, 2, 5)\n",
      "(5, 2, 5)\n",
      "(5, 2, 5)\n",
      "(5, 2, 4)\n",
      "(4, 2, 2)\n",
      "(2, 2, 1)\n",
      "(1, 2, 2)\n",
      "(2, 2, 4)\n",
      "(4, 2, 5)\n",
      "(5, 2, 5)\n",
      "(5, 2, 5)\n",
      "(5, 2, 5)\n",
      "(5, 2, 5)\n",
      "(5, 2, 5)\n",
      "(5, 2, 5)\n",
      "(5, 2, 5)\n",
      "(5, 2, 5)\n",
      "(5, 2, 5)\n",
      "(5, 2, 4)\n",
      "(4, 2, 2)\n",
      "(2, 2, 1)\n",
      "(1, 2, 2)\n",
      "(2, 2, 4)\n",
      "(4, 2, 5)\n",
      "(5, 2, 5)\n",
      "(5, 2, 5)\n",
      "(5, 2, 5)\n",
      "(5, 2, 5)\n",
      "(5, 2, 5)\n",
      "(5, 2, 5)\n",
      "(5, 2, 5)\n",
      "(5, 2, 5)\n",
      "(5, 2, 5)\n",
      "(5, 2, 4)\n",
      "(4, 2, 2)\n",
      "(2, 2, 1)\n",
      "(1, 2, 2)\n",
      "(2, 2, 4)\n",
      "(4, 2, 5)\n",
      "(5, 2, 5)\n",
      "(5, 2, 5)\n",
      "(5, 2, 5)\n",
      "(5, 2, 5)\n",
      "(5, 2, 5)\n",
      "(5, 2, 5)\n",
      "(5, 2, 5)\n",
      "(5, 2, 5)\n",
      "(5, 2, 5)\n",
      "(5, 2, 4)\n",
      "(4, 2, 2)\n",
      "(2, 2, 1)\n",
      "(1, 2, 2)\n",
      "(2, 2, 4)\n",
      "(4, 2, 5)\n",
      "(5, 2, 5)\n",
      "(5, 2, 5)\n",
      "(5, 2, 5)\n",
      "(5, 2, 5)\n",
      "(5, 2, 5)\n",
      "(5, 2, 5)\n",
      "(5, 2, 5)\n",
      "(5, 2, 5)\n",
      "(5, 2, 5)\n",
      "(5, 2, 4)\n",
      "(4, 2, 2)\n",
      "(2, 2, 1)\n",
      "(1, 2, 2)\n",
      "(2, 2, 4)\n",
      "(4, 2, 5)\n",
      "(5, 2, 5)\n",
      "(5, 2, 5)\n",
      "(5, 2, 5)\n",
      "(5, 2, 5)\n",
      "(5, 2, 5)\n",
      "(5, 2, 5)\n",
      "(5, 2, 5)\n",
      "(5, 2, 5)\n",
      "(5, 2, 5)\n",
      "(5, 2, 4)\n",
      "(4, 2, 2)\n",
      "(2, 2, 1)\n",
      "(1, 2, 2)\n",
      "(2, 2, 4)\n",
      "(4, 2, 5)\n",
      "(5, 2, 5)\n",
      "(5, 2, 5)\n",
      "(5, 2, 5)\n",
      "(5, 2, 5)\n",
      "(5, 2, 5)\n",
      "(5, 2, 5)\n",
      "(5, 2, 5)\n",
      "(5, 2, 5)\n",
      "(5, 2, 5)\n",
      "(5, 2, 4)\n",
      "(4, 2, 2)\n",
      "(2, 2, 1)\n",
      "(1, 2, 2)\n",
      "(2, 2, 4)\n",
      "(4, 2, 4)\n",
      "(4, 2, 4)\n",
      "(4, 2, 4)\n",
      "(4, 2, 4)\n",
      "(4, 2, 4)\n",
      "(4, 2, 4)\n",
      "(4, 2, 4)\n",
      "(4, 2, 4)\n",
      "(4, 2, 4)\n",
      "(4, 2, 4)\n",
      "(4, 2, 4)\n",
      "(4, 2, 2)\n",
      "(2, 2, 1)\n",
      "(1, 2, 2)\n",
      "(2, 2, 4)\n",
      "(4, 2, 7)\n",
      "(7, 2, 7)\n",
      "(7, 2, 7)\n",
      "(7, 2, 7)\n",
      "(7, 2, 7)\n",
      "(7, 2, 7)\n",
      "(7, 2, 7)\n",
      "(7, 2, 7)\n",
      "(7, 2, 7)\n",
      "(7, 2, 7)\n",
      "(7, 2, 4)\n",
      "(4, 2, 2)\n",
      "(2, 2, 1)\n"
     ]
    }
   ],
   "source": [
    "for x in time_engine.MPS.M:\n",
    "    print(x.shape)"
   ]
  },
  {
   "cell_type": "code",
   "execution_count": 25,
   "id": "5f06d4a5",
   "metadata": {},
   "outputs": [
    {
     "ename": "NameError",
     "evalue": "name 'mz_list' is not defined",
     "output_type": "error",
     "traceback": [
      "\u001b[1;31m---------------------------------------------------------------------------\u001b[0m",
      "\u001b[1;31mNameError\u001b[0m                                 Traceback (most recent call last)",
      "\u001b[1;32m<ipython-input-25-e7a6ce387285>\u001b[0m in \u001b[0;36m<module>\u001b[1;34m\u001b[0m\n\u001b[0;32m      1\u001b[0m \u001b[0mplt\u001b[0m\u001b[1;33m.\u001b[0m\u001b[0mfigure\u001b[0m\u001b[1;33m(\u001b[0m\u001b[0mfigsize\u001b[0m\u001b[1;33m=\u001b[0m\u001b[1;33m(\u001b[0m\u001b[1;36m6\u001b[0m\u001b[1;33m,\u001b[0m\u001b[1;36m7\u001b[0m\u001b[1;33m)\u001b[0m\u001b[1;33m)\u001b[0m\u001b[1;33m\u001b[0m\u001b[1;33m\u001b[0m\u001b[0m\n\u001b[1;32m----> 2\u001b[1;33m \u001b[0mplt\u001b[0m\u001b[1;33m.\u001b[0m\u001b[0mimshow\u001b[0m\u001b[1;33m(\u001b[0m\u001b[0mnp\u001b[0m\u001b[1;33m.\u001b[0m\u001b[0mabs\u001b[0m\u001b[1;33m(\u001b[0m\u001b[0mnp\u001b[0m\u001b[1;33m.\u001b[0m\u001b[0marray\u001b[0m\u001b[1;33m(\u001b[0m\u001b[0mmz_list\u001b[0m\u001b[1;33m)\u001b[0m\u001b[1;33m)\u001b[0m\u001b[1;33m-\u001b[0m\u001b[0mnp\u001b[0m\u001b[1;33m.\u001b[0m\u001b[0mmean\u001b[0m\u001b[1;33m(\u001b[0m\u001b[0mnp\u001b[0m\u001b[1;33m.\u001b[0m\u001b[0mabs\u001b[0m\u001b[1;33m(\u001b[0m\u001b[0mnp\u001b[0m\u001b[1;33m.\u001b[0m\u001b[0marray\u001b[0m\u001b[1;33m(\u001b[0m\u001b[0mmz_list\u001b[0m\u001b[1;33m)\u001b[0m\u001b[1;33m)\u001b[0m\u001b[1;33m,\u001b[0m\u001b[0maxis\u001b[0m\u001b[1;33m=\u001b[0m\u001b[1;36m0\u001b[0m\u001b[1;33m)\u001b[0m\u001b[1;33m,\u001b[0m\u001b[0morigin\u001b[0m\u001b[1;33m=\u001b[0m\u001b[1;34m'lower'\u001b[0m\u001b[1;33m,\u001b[0m\u001b[0maspect\u001b[0m\u001b[1;33m=\u001b[0m\u001b[1;34m'auto'\u001b[0m\u001b[1;33m,\u001b[0m\u001b[0mcmap\u001b[0m \u001b[1;33m=\u001b[0m \u001b[0msns\u001b[0m\u001b[1;33m.\u001b[0m\u001b[0mcolor_palette\u001b[0m\u001b[1;33m(\u001b[0m\u001b[1;34m'icefire'\u001b[0m\u001b[1;33m,\u001b[0m\u001b[0mas_cmap\u001b[0m\u001b[1;33m=\u001b[0m\u001b[1;32mTrue\u001b[0m\u001b[1;33m)\u001b[0m\u001b[1;33m,\u001b[0m\u001b[0mnorm\u001b[0m \u001b[1;33m=\u001b[0m \u001b[0mmpl\u001b[0m\u001b[1;33m.\u001b[0m\u001b[0mcolors\u001b[0m\u001b[1;33m.\u001b[0m\u001b[0mSymLogNorm\u001b[0m\u001b[1;33m(\u001b[0m\u001b[1;36m1e-4\u001b[0m\u001b[1;33m,\u001b[0m\u001b[0mvmin\u001b[0m\u001b[1;33m=\u001b[0m\u001b[1;33m-\u001b[0m\u001b[1;36m0.01\u001b[0m\u001b[1;33m,\u001b[0m\u001b[0mvmax\u001b[0m\u001b[1;33m=\u001b[0m\u001b[1;36m0.01\u001b[0m\u001b[1;33m)\u001b[0m\u001b[1;33m)\u001b[0m\u001b[1;33m\u001b[0m\u001b[1;33m\u001b[0m\u001b[0m\n\u001b[0m\u001b[0;32m      3\u001b[0m \u001b[0mplt\u001b[0m\u001b[1;33m.\u001b[0m\u001b[0mtick_params\u001b[0m\u001b[1;33m(\u001b[0m\u001b[0mlabelsize\u001b[0m\u001b[1;33m=\u001b[0m\u001b[1;36m18\u001b[0m\u001b[1;33m)\u001b[0m\u001b[1;33m\u001b[0m\u001b[1;33m\u001b[0m\u001b[0m\n\u001b[0;32m      4\u001b[0m \u001b[0mplt\u001b[0m\u001b[1;33m.\u001b[0m\u001b[0mxlabel\u001b[0m\u001b[1;33m(\u001b[0m\u001b[1;34m\"$j$\"\u001b[0m\u001b[1;33m,\u001b[0m\u001b[0mfontsize\u001b[0m\u001b[1;33m=\u001b[0m\u001b[1;36m22\u001b[0m\u001b[1;33m)\u001b[0m\u001b[1;33m\u001b[0m\u001b[1;33m\u001b[0m\u001b[0m\n\u001b[0;32m      5\u001b[0m \u001b[0mplt\u001b[0m\u001b[1;33m.\u001b[0m\u001b[0mylabel\u001b[0m\u001b[1;33m(\u001b[0m\u001b[1;34m\"$t$\"\u001b[0m\u001b[1;33m,\u001b[0m\u001b[0mfontsize\u001b[0m\u001b[1;33m=\u001b[0m\u001b[1;36m22\u001b[0m\u001b[1;33m)\u001b[0m\u001b[1;33m\u001b[0m\u001b[1;33m\u001b[0m\u001b[0m\n",
      "\u001b[1;31mNameError\u001b[0m: name 'mz_list' is not defined"
     ]
    },
    {
     "data": {
      "text/plain": [
       "<Figure size 432x504 with 0 Axes>"
      ]
     },
     "metadata": {},
     "output_type": "display_data"
    }
   ],
   "source": [
    "plt.figure(figsize=(6,7))\n",
    "plt.imshow(np.abs(np.array(mz_list))-np.mean(np.abs(np.array(mz_list)),axis=0),origin='lower',aspect='auto',cmap = sns.color_palette('icefire',as_cmap=True),norm = mpl.colors.SymLogNorm(1e-4,vmin=-0.01,vmax=0.01))\n",
    "plt.tick_params(labelsize=18)\n",
    "plt.xlabel(\"$j$\",fontsize=22)\n",
    "plt.ylabel(\"$t$\",fontsize=22)\n",
    "plt.colorbar()"
   ]
  },
  {
   "cell_type": "code",
   "execution_count": 117,
   "id": "b4577d62",
   "metadata": {},
   "outputs": [
    {
     "ename": "TypeError",
     "evalue": "imshow() missing 1 required positional argument: 'X'",
     "output_type": "error",
     "traceback": [
      "\u001b[1;31m---------------------------------------------------------------------------\u001b[0m",
      "\u001b[1;31mTypeError\u001b[0m                                 Traceback (most recent call last)",
      "\u001b[1;32m<ipython-input-117-e2a04aff946b>\u001b[0m in \u001b[0;36m<module>\u001b[1;34m\u001b[0m\n\u001b[1;32m----> 1\u001b[1;33m \u001b[0mplt\u001b[0m\u001b[1;33m.\u001b[0m\u001b[0mimshow\u001b[0m\u001b[1;33m(\u001b[0m\u001b[1;33m)\u001b[0m\u001b[1;33m\u001b[0m\u001b[1;33m\u001b[0m\u001b[0m\n\u001b[0m",
      "\u001b[1;31mTypeError\u001b[0m: imshow() missing 1 required positional argument: 'X'"
     ]
    }
   ],
   "source": [
    "plt.imshow()"
   ]
  },
  {
   "cell_type": "code",
   "execution_count": 48,
   "id": "7b2ba0de",
   "metadata": {},
   "outputs": [
    {
     "ename": "TypeError",
     "evalue": "list indices must be integers or slices, not tuple",
     "output_type": "error",
     "traceback": [
      "\u001b[1;31m---------------------------------------------------------------------------\u001b[0m",
      "\u001b[1;31mTypeError\u001b[0m                                 Traceback (most recent call last)",
      "\u001b[1;32m<ipython-input-48-cef913ede92a>\u001b[0m in \u001b[0;36m<module>\u001b[1;34m\u001b[0m\n\u001b[1;32m----> 1\u001b[1;33m \u001b[0mplt\u001b[0m\u001b[1;33m.\u001b[0m\u001b[0mplot\u001b[0m\u001b[1;33m(\u001b[0m\u001b[0ment_ent\u001b[0m\u001b[1;33m[\u001b[0m\u001b[1;33m-\u001b[0m\u001b[1;36m1\u001b[0m\u001b[1;33m,\u001b[0m\u001b[1;33m:\u001b[0m\u001b[1;33m]\u001b[0m\u001b[1;33m)\u001b[0m\u001b[1;33m\u001b[0m\u001b[1;33m\u001b[0m\u001b[0m\n\u001b[0m",
      "\u001b[1;31mTypeError\u001b[0m: list indices must be integers or slices, not tuple"
     ]
    }
   ],
   "source": [
    "plt.plot(ent_ent[-1,:])"
   ]
  },
  {
   "cell_type": "code",
   "execution_count": 68,
   "id": "e3fdd785",
   "metadata": {},
   "outputs": [
    {
     "data": {
      "text/plain": [
       "array([[0.        , 0.        , 0.        , ..., 0.        , 0.        ,\n",
       "        0.        ],\n",
       "       [0.        , 0.        , 0.        , ..., 0.        , 0.        ,\n",
       "        0.        ],\n",
       "       [0.00770112, 0.00770112, 0.00770112, ..., 0.00770112, 0.00770112,\n",
       "        0.00770112],\n",
       "       ...,\n",
       "       [0.22306054, 0.37085024, 0.56722266, ..., 0.46155493, 0.28967795,\n",
       "        0.21820891],\n",
       "       [0.2282159 , 0.54783419, 0.93432461, ..., 1.00782288, 0.58742455,\n",
       "        0.28187099],\n",
       "       [0.13193247, 0.41482046, 0.67173215, ..., 0.56859648, 0.38136214,\n",
       "        0.25776068]])"
      ]
     },
     "execution_count": 68,
     "metadata": {},
     "output_type": "execute_result"
    }
   ],
   "source": [
    "ent_ent"
   ]
  },
  {
   "cell_type": "code",
   "execution_count": 10,
   "id": "93fa2b4f",
   "metadata": {},
   "outputs": [
    {
     "data": {
      "image/png": "[encoded data removed]",
      "text/plain": [
       "<Figure size 864x720 with 8 Axes>"
      ]
     },
     "metadata": {
      "needs_background": "light"
     },
     "output_type": "display_data"
    }
   ],
   "source": [
    "# import seaborn as sns\n",
    "\n",
    "plt.rc('text',usetex=True)\n",
    "plt.figure(figsize=(12,10))\n",
    "\n",
    "plt.subplot(221)\n",
    "plt.imshow(np.abs(mz_[:,:,0]),origin='lower',cmap=sns.color_palette('icefire',as_cmap=True),aspect='auto')\n",
    "cb = plt.colorbar()\n",
    "cb.ax.tick_params(labelsize=18)\n",
    "cb.set_label(r\"$|m_z|$\",fontsize=22)\n",
    "plt.ylabel(\"$t$\",fontsize=22)\n",
    "plt.xlabel(\"$j$\",fontsize=22)\n",
    "plt.tick_params(labelsize=18)\n",
    "plt.xticks(np.arange(Lx))\n",
    "\n",
    "plt.subplot(222)\n",
    "plt.imshow(np.abs(mz_[:,:,-1]),origin='lower',cmap=sns.color_palette('icefire',as_cmap=True),aspect='auto')\n",
    "cb = plt.colorbar()\n",
    "cb.ax.tick_params(labelsize=18)\n",
    "cb.set_label(r\"$|m_z|$\",fontsize=22)\n",
    "plt.xticks(np.arange(Lx))\n",
    "\n",
    "plt.ylabel(\"$t$\",fontsize=22)\n",
    "plt.xlabel(\"$j$\",fontsize=22)\n",
    "plt.tick_params(labelsize=18)\n",
    "\n",
    "plt.subplot(223)\n",
    "plt.imshow(np.abs(mz_[:,0,:]),origin='lower',cmap=sns.color_palette('icefire',as_cmap=True),aspect='auto')\n",
    "cb = plt.colorbar()\n",
    "cb.ax.tick_params(labelsize=18)\n",
    "cb.set_label(r\"$|m_z|$\",fontsize=22)\n",
    "plt.ylabel(\"$t$\",fontsize=22)\n",
    "plt.xlabel(\"$j$\",fontsize=22)\n",
    "plt.tick_params(labelsize=18)\n",
    "plt.xticks(np.arange(Lx))\n",
    "\n",
    "plt.subplot(224)\n",
    "plt.imshow(np.abs(mz_[:,-1,:]),origin='lower',cmap=sns.color_palette('icefire',as_cmap=True),aspect='auto')\n",
    "cb = plt.colorbar()\n",
    "cb.ax.tick_params(labelsize=18)\n",
    "cb.set_label(r\"$|m_z|$\",fontsize=22)\n",
    "plt.xticks(np.arange(Lx))\n",
    "\n",
    "plt.clim(min(np.abs(mz_[:,0,:]).flatten()),max(np.abs(mz_[:,0,:]).flatten()))\n",
    "plt.ylabel(\"$t$\",fontsize=22)\n",
    "plt.xlabel(\"$j$\",fontsize=22)\n",
    "plt.tick_params(labelsize=18)\n",
    "\n",
    "plt.tight_layout()\n",
    "\n",
    "plt.savefig(\"pm.png\")"
   ]
  },
  {
   "cell_type": "code",
   "execution_count": 24,
   "id": "e80462c9",
   "metadata": {},
   "outputs": [
    {
     "data": {
      "image/png": "[encoded data removed]",
      "text/plain": [
       "<Figure size 720x504 with 2 Axes>"
      ]
     },
     "metadata": {
      "needs_background": "light"
     },
     "output_type": "display_data"
    }
   ],
   "source": [
    "### MPO Plot ###\n",
    "plt.figure(figsize=(10,7))\n",
    "k = 4\n",
    "shpW = H.W[k].shape\n",
    "plt.imshow(H.W[k].transpose(0,2,1,3).reshape(shpW[0]*shpW[2],shpW[1]*shpW[3]))\n",
    "if k == 0:\n",
    "    plt.colorbar(orientation='horizontal')\n",
    "else:\n",
    "    plt.colorbar()"
   ]
  },
  {
   "cell_type": "code",
   "execution_count": null,
   "id": "2ef6ba3e",
   "metadata": {},
   "outputs": [],
   "source": []
  },
  {
   "cell_type": "code",
   "execution_count": 2,
   "id": "86432d08",
   "metadata": {},
   "outputs": [
    {
     "ename": "NameError",
     "evalue": "name 'H' is not defined",
     "output_type": "error",
     "traceback": [
      "\u001b[1;31m---------------------------------------------------------------------------\u001b[0m",
      "\u001b[1;31mNameError\u001b[0m                                 Traceback (most recent call last)",
      "\u001b[1;32m<ipython-input-2-42b026cc19fe>\u001b[0m in \u001b[0;36m<module>\u001b[1;34m\u001b[0m\n\u001b[1;32m----> 1\u001b[1;33m \u001b[0mH\u001b[0m\u001b[1;33m.\u001b[0m\u001b[0mW\u001b[0m\u001b[1;33m[\u001b[0m\u001b[1;36m3\u001b[0m\u001b[1;33m]\u001b[0m\u001b[1;33m[\u001b[0m\u001b[1;36m0\u001b[0m\u001b[1;33m,\u001b[0m\u001b[1;36m0\u001b[0m\u001b[1;33m,\u001b[0m\u001b[1;33m:\u001b[0m\u001b[1;33m,\u001b[0m\u001b[1;33m:\u001b[0m\u001b[1;33m]\u001b[0m\u001b[1;33m\u001b[0m\u001b[1;33m\u001b[0m\u001b[0m\n\u001b[0m",
      "\u001b[1;31mNameError\u001b[0m: name 'H' is not defined"
     ]
    }
   ],
   "source": [
    "H.W[3][0,0,:,:]"
   ]
  },
  {
   "cell_type": "code",
   "execution_count": 29,
   "id": "d9175ecc",
   "metadata": {
    "scrolled": true
   },
   "outputs": [
    {
     "data": {
      "text/plain": [
       "array([[[ 1.00000000e+00+5.55111512e-17j,\n",
       "          4.85722573e-17-2.35922393e-16j,\n",
       "          1.14491749e-16-6.93889390e-18j,\n",
       "          6.50521303e-17-5.81132364e-17j,\n",
       "          2.76471554e-17+4.55364912e-18j],\n",
       "        [-9.73322216e-01-8.32667268e-17j,\n",
       "         -2.08049580e-01+5.40804580e-02j,\n",
       "         -7.41442302e-02-2.93927120e-02j,\n",
       "         -3.76168240e-03+5.07750016e-03j,\n",
       "          1.84309332e-03+1.39351525e-03j],\n",
       "        [-9.66447581e-01+2.77555756e-17j,\n",
       "          8.18237411e-02-4.17222700e-02j,\n",
       "         -2.32224682e-01-3.66765988e-02j,\n",
       "          4.59968589e-03+1.75659151e-02j,\n",
       "         -6.83000980e-03-1.41625505e-02j],\n",
       "        [-9.56180616e-01-2.77555756e-17j,\n",
       "          5.93771241e-03+1.15637594e-02j,\n",
       "          3.09461433e-03-3.57193878e-02j,\n",
       "         -3.96833474e-03+3.71554589e-03j,\n",
       "         -1.56610995e-01+7.71073709e-02j],\n",
       "        [-9.95103013e-01+1.38777878e-16j,\n",
       "          2.91992136e-03+1.69947105e-03j,\n",
       "         -3.48661884e-03-9.06951258e-03j,\n",
       "          3.93423399e-04+1.87332723e-03j,\n",
       "          3.31183749e-02+1.95652206e-02j],\n",
       "        [-9.68509896e-01+0.00000000e+00j,\n",
       "         -5.89805982e-17+1.94289029e-16j,\n",
       "         -1.21430643e-16+1.73472348e-17j,\n",
       "         -6.28837260e-17+5.59448321e-17j,\n",
       "         -2.38524478e-17-5.58364119e-18j],\n",
       "        [-9.98015135e-01+0.00000000e+00j,\n",
       "         -5.55111512e-17+2.22044605e-16j,\n",
       "         -9.71445147e-17+3.46944695e-18j,\n",
       "         -6.72205347e-17+5.46437895e-17j,\n",
       "         -3.01408204e-17-1.08420217e-19j],\n",
       "        [-9.98089717e-01+2.77555756e-17j,\n",
       "         -5.20417043e-17+1.52655666e-16j,\n",
       "         -1.38777878e-16+2.08166817e-17j,\n",
       "         -6.89552582e-17+5.72458747e-17j,\n",
       "         -1.76724954e-17-6.50521303e-19j],\n",
       "        [-7.62037824e+01-2.13162821e-14j,\n",
       "         -1.52330964e-01+1.77875839e-02j,\n",
       "         -8.35101633e-01-2.76053299e-01j,\n",
       "         -3.38509259e-04+5.95880107e-02j,\n",
       "         -4.84931572e-01+1.92557956e-01j]],\n",
       "\n",
       "       [[ 5.55111512e-17+2.35922393e-16j,\n",
       "          1.00000000e+00+1.11022302e-16j,\n",
       "          0.00000000e+00+0.00000000e+00j,\n",
       "         -1.63064007e-16+1.68268177e-16j,\n",
       "          1.17093835e-17-4.85722573e-17j],\n",
       "        [-2.08049580e-01-5.40804580e-02j,\n",
       "          7.33413503e-01+1.11022302e-16j,\n",
       "          5.15678056e-01+3.81802070e-01j,\n",
       "         -4.61078835e-03-3.56956426e-02j,\n",
       "         -1.82817552e-02-1.24356446e-02j],\n",
       "        [ 8.18237411e-02+4.17222700e-02j,\n",
       "         -7.45935990e-01+1.11022302e-16j,\n",
       "         -5.25284201e-01-3.80384587e-01j,\n",
       "         -3.79608540e-03-1.89856185e-02j,\n",
       "         -2.93851680e-03-4.24780898e-02j],\n",
       "        [ 5.93771241e-03-1.15637594e-02j,\n",
       "         -9.45429393e-01-1.11022302e-16j,\n",
       "         -1.46424760e-02+6.09326219e-03j,\n",
       "         -1.02772875e-02-1.73714478e-02j,\n",
       "          1.89500789e-02+1.13667265e-01j],\n",
       "        [ 2.91992136e-03-1.69947105e-03j,\n",
       "         -9.89152104e-01+0.00000000e+00j,\n",
       "         -1.03499742e-02-3.19955305e-03j,\n",
       "          1.25224136e-03-6.20539199e-03j,\n",
       "         -1.94912555e-02-1.81404484e-02j],\n",
       "        [-6.59194921e-17-2.08166817e-16j,\n",
       "         -9.68509896e-01+0.00000000e+00j,\n",
       "         -8.32667268e-17+1.66533454e-16j,\n",
       "          1.24900090e-16-1.83013327e-16j,\n",
       "         -3.46944695e-17+5.03069808e-17j],\n",
       "        [-7.97972799e-17-2.22044605e-16j,\n",
       "         -9.98015135e-01-5.55111512e-17j,\n",
       "          5.55111512e-17+1.11022302e-16j,\n",
       "          1.64798730e-16-1.50487262e-16j,\n",
       "         -2.42861287e-17+5.20417043e-17j],\n",
       "        [-4.16333634e-17-1.66533454e-16j,\n",
       "         -9.98089717e-01+0.00000000e+00j,\n",
       "          1.38777878e-17+1.11022302e-16j,\n",
       "          1.63064007e-16-1.79543880e-16j,\n",
       "         -2.86229374e-17+4.16333634e-17j],\n",
       "        [-1.52330964e-01-1.77875839e-02j,\n",
       "         -7.21043319e+01-3.19744231e-14j,\n",
       "         -5.81220998e-01-3.56746392e-01j,\n",
       "         -3.57917709e-02-7.56647807e-02j,\n",
       "          2.94060468e-02+1.81729263e-01j]],\n",
       "\n",
       "       [[ 1.28369537e-16+6.93889390e-18j,\n",
       "          4.16333634e-17+5.55111512e-17j,\n",
       "          1.00000000e+00-3.12250226e-17j,\n",
       "         -7.02563008e-17-5.81132364e-17j,\n",
       "         -5.33427469e-17+8.32667268e-17j],\n",
       "        [-7.41442302e-02+2.93927120e-02j,\n",
       "          5.15678056e-01-3.81802070e-01j,\n",
       "         -7.42593696e-01+5.55111512e-17j,\n",
       "          6.59224900e-02+7.12012681e-02j,\n",
       "          4.69424790e-02-7.10683345e-03j],\n",
       "        [-2.32224682e-01+3.66765988e-02j,\n",
       "         -5.25284201e-01+3.80384587e-01j,\n",
       "          6.58862475e-01-5.55111512e-17j,\n",
       "         -1.86620456e-04-1.00224428e-02j,\n",
       "          8.55389136e-02+9.20447102e-02j],\n",
       "        [ 3.09461433e-03+3.57193878e-02j,\n",
       "         -1.46424760e-02-6.09326219e-03j,\n",
       "         -9.49483462e-01+0.00000000e+00j,\n",
       "         -1.46967290e-02-2.26696002e-03j,\n",
       "         -6.08409110e-02-6.01431702e-02j],\n",
       "        [-3.48661884e-03+9.06951258e-03j,\n",
       "         -1.03499742e-02+3.19955305e-03j,\n",
       "         -9.75037131e-01+1.04083409e-17j,\n",
       "         -5.61212613e-03+1.89956895e-03j,\n",
       "         -3.18432661e-02+6.62438295e-02j],\n",
       "        [-1.21430643e-16-2.08166817e-17j,\n",
       "         -5.55111512e-17-1.66533454e-16j,\n",
       "         -9.68509896e-01-1.38777878e-17j,\n",
       "          6.76542156e-17+5.16080234e-17j,\n",
       "          7.45931095e-17-1.11022302e-16j],\n",
       "        [-1.07552856e-16-1.04083409e-17j,\n",
       "          2.77555756e-17-1.11022302e-16j,\n",
       "         -9.98015135e-01+3.81639165e-17j,\n",
       "          7.45931095e-17+6.80878964e-17j,\n",
       "          8.19656842e-17-9.71445147e-17j],\n",
       "        [-1.38777878e-16-1.38777878e-17j,\n",
       "          1.38777878e-17-5.55111512e-17j,\n",
       "         -9.98089717e-01-3.46944695e-18j,\n",
       "          8.58688121e-17+5.94142791e-17j,\n",
       "          6.11490025e-17-9.71445147e-17j],\n",
       "        [-8.35101633e-01+2.76053299e-01j,\n",
       "         -5.81220998e-01+3.56746392e-01j,\n",
       "         -7.08717365e+01-1.42108547e-14j,\n",
       "         -3.08479070e-02+9.43696892e-03j,\n",
       "          7.74500490e-02+8.28127622e-02j]],\n",
       "\n",
       "       [[ 6.85215773e-17+5.46437895e-17j,\n",
       "         -1.70002901e-16-1.50920942e-16j,\n",
       "         -8.67361738e-17+6.24500451e-17j,\n",
       "          1.00000000e+00+0.00000000e+00j,\n",
       "          1.32706346e-16-8.58688121e-17j],\n",
       "        [-3.76168240e-03-5.07750016e-03j,\n",
       "         -4.61078835e-03+3.56956426e-02j,\n",
       "          6.59224900e-02-7.12012681e-02j,\n",
       "          9.93837974e-01+0.00000000e+00j,\n",
       "         -2.94501181e-02+1.23431212e-02j],\n",
       "        [ 4.59968589e-03-1.75659151e-02j,\n",
       "         -3.79608540e-03+1.89856185e-02j,\n",
       "         -1.86620456e-04+1.00224428e-02j,\n",
       "          9.82263844e-01+5.55111512e-17j,\n",
       "         -1.19386248e-02+6.12965609e-02j],\n",
       "        [-3.96833474e-03-3.71554589e-03j,\n",
       "         -1.02772875e-02+1.73714478e-02j,\n",
       "         -1.46967290e-02+2.26696002e-03j,\n",
       "         -9.69195442e-01+0.00000000e+00j,\n",
       "         -2.00239199e-03-1.64208749e-02j],\n",
       "        [ 3.93423399e-04-1.87332723e-03j,\n",
       "          1.25224136e-03+6.20539199e-03j,\n",
       "         -5.61212613e-03-1.89956895e-03j,\n",
       "         -9.87950750e-01+1.11022302e-16j,\n",
       "          2.55265371e-02-4.15840154e-02j],\n",
       "        [-6.28837260e-17-5.68121938e-17j,\n",
       "          1.40512602e-16+1.89952221e-16j,\n",
       "          6.59194921e-17-5.76795556e-17j,\n",
       "         -9.68509896e-01-5.55111512e-17j,\n",
       "         -1.51788304e-16+8.41340886e-17j],\n",
       "        [-6.98226199e-17-5.42101086e-17j,\n",
       "          1.64798730e-16+1.62630326e-16j,\n",
       "          8.23993651e-17-7.15573434e-17j,\n",
       "         -9.98015135e-01-5.55111512e-17j,\n",
       "         -1.70436582e-16+6.72205347e-17j],\n",
       "        [-7.02563008e-17-5.81132364e-17j,\n",
       "          2.01227923e-16+1.77809156e-16j,\n",
       "          8.50014503e-17-5.63785130e-17j,\n",
       "         -9.98089717e-01+0.00000000e+00j,\n",
       "         -1.24032729e-16+1.01481323e-16j],\n",
       "        [-3.38509259e-04-5.95880107e-02j,\n",
       "         -3.57917709e-02+7.56647807e-02j,\n",
       "         -3.08479070e-02-9.43696892e-03j,\n",
       "         -7.04526981e+01-7.10542736e-15j,\n",
       "         -5.89440927e-02-5.68358331e-02j]],\n",
       "\n",
       "       [[ 1.70219741e-17-8.67361738e-18j,\n",
       "          4.77048956e-18+6.24500451e-17j,\n",
       "         -2.64545330e-17-9.71445147e-17j,\n",
       "          1.51354623e-16+6.89552582e-17j,\n",
       "          1.00000000e+00+5.55111512e-17j],\n",
       "        [ 1.84309332e-03-1.39351525e-03j,\n",
       "         -1.82817552e-02+1.24356446e-02j,\n",
       "          4.69424790e-02+7.10683345e-03j,\n",
       "         -2.94501181e-02-1.23431212e-02j,\n",
       "         -1.99083350e-01-2.77555756e-17j],\n",
       "        [-6.83000980e-03+1.41625505e-02j,\n",
       "         -2.93851680e-03+4.24780898e-02j,\n",
       "          8.55389136e-02-9.20447102e-02j,\n",
       "         -1.19386248e-02-6.12965609e-02j,\n",
       "         -8.09182019e-01-2.77555756e-17j],\n",
       "        [-1.56610995e-01-7.71073709e-02j,\n",
       "          1.89500789e-02-1.13667265e-01j,\n",
       "         -6.08409110e-02+6.01431702e-02j,\n",
       "         -2.00239199e-03+1.64208749e-02j,\n",
       "          9.63058712e-01+5.55111512e-17j],\n",
       "        [ 3.31183749e-02-1.95652206e-02j,\n",
       "         -1.94912555e-02+1.81404484e-02j,\n",
       "         -3.18432661e-02-6.62438295e-02j,\n",
       "          2.55265371e-02+4.15840154e-02j,\n",
       "         -3.26514249e-01-1.38777878e-17j],\n",
       "        [-2.05998413e-17+3.90312782e-18j,\n",
       "         -2.38524478e-17-5.37764278e-17j,\n",
       "          6.11490025e-17+1.24900090e-16j,\n",
       "         -1.67834496e-16-1.01047642e-16j,\n",
       "         -9.68509896e-01+0.00000000e+00j],\n",
       "        [-2.51534904e-17+7.64362532e-18j,\n",
       "         -2.51534904e-17-4.51028104e-17j,\n",
       "          6.59194921e-17+1.04083409e-16j,\n",
       "         -1.60028241e-16-8.02309608e-17j,\n",
       "         -9.98015135e-01+2.77555756e-17j],\n",
       "        [-1.92987987e-17+1.57209315e-18j,\n",
       "         -1.04083409e-17-4.16333634e-17j,\n",
       "          3.42607887e-17+9.02056208e-17j,\n",
       "         -1.41813644e-16-7.97972799e-17j,\n",
       "         -9.98089717e-01-5.55111512e-17j],\n",
       "        [-4.84931572e-01-1.92557956e-01j,\n",
       "          2.94060468e-02-1.81729263e-01j,\n",
       "          7.74500490e-02-8.28127622e-02j,\n",
       "         -5.89440927e-02+5.68358331e-02j,\n",
       "         -6.91424734e+01-1.42108547e-14j]]])"
      ]
     },
     "execution_count": 29,
     "metadata": {},
     "output_type": "execute_result"
    }
   ],
   "source": [
    "time_engine.RT[3]"
   ]
  },
  {
   "cell_type": "markdown",
   "id": "576c29e6",
   "metadata": {},
   "source": [
    "<h1> Check Exact Diagonalization !!!</h1>"
   ]
  },
  {
   "cell_type": "code",
   "execution_count": 11,
   "id": "526754da",
   "metadata": {},
   "outputs": [
    {
     "data": {
      "text/plain": [
       "8.016408454281459e-13"
      ]
     },
     "execution_count": 11,
     "metadata": {},
     "output_type": "execute_result"
    }
   ],
   "source": [
    "Lx = 3\n",
    "Ly = 3\n",
    "\n",
    "L = Lx*Ly\n",
    "\n",
    "h = .2\n",
    "J_val = 1\n",
    "H = SS2d.IsingMPO_2D(Lx,Ly,h,J_val)\n",
    "H.compressMPO(err=1e-6)\n",
    "\n",
    "H_ = H.W[0]\n",
    "for x in range(1,L):\n",
    "    shpH = H_.shape\n",
    "    shpHW = H.W[x].shape\n",
    "    H_ = ncon([H_,H.W[x]],[[-1,1,-3,-5],[1,-2,-4,-6]]).reshape(shpH[0],shpHW[1],shpH[2]*shpHW[2],shpH[3]*shpHW[3])\n",
    "\n",
    "H_ = H_.reshape(2**L,2**L)\n",
    "\n",
    "import scipy.sparse as sps\n",
    "from functools import reduce\n",
    "\n",
    "def nested_tensor(lst):\n",
    "    return reduce(sps.kron,lst)\n",
    "\n",
    "def spin1_op_construct(sigma, h, j, L):\n",
    "    list_tensor = []\n",
    "    list_tensor += [sps.eye(2) for _ in range(j)] \n",
    "    list_tensor += [h*sigma] \n",
    "    list_tensor += [sps.eye(2) for _ in range(j+1,L)] \n",
    "    return nested_tensor( list_tensor )\n",
    "\n",
    "def spin2_op_construct(sigmai, sigmaj, J, i, j, L):\n",
    "    if i == j:\n",
    "        return J*sps.eye(2**L)\n",
    "    list_tensor = []\n",
    "    i,j = np.min([i,j]),np.max([i,j])\n",
    "    list_tensor += [sps.eye(2) for _ in range(i)] \n",
    "    list_tensor += [J*sigmai] \n",
    "    list_tensor += [sps.eye(2) for _ in range(i+1,j)] \n",
    "    list_tensor += [sigmaj]\n",
    "    list_tensor += [sps.eye(2) for _ in range(j+1,L)]\n",
    "    return nested_tensor(list_tensor)\n",
    "\n",
    "J = 1\n",
    "H_real = 0\n",
    "\n",
    "sigma_z = np.array([[1,0],[0,-1]])\n",
    "sigma_x = np.array([[0,1],[1,0]])\n",
    "\n",
    "for i in range(L-1):\n",
    "    if (i+1)%Ly != 0:\n",
    "        H_real += spin2_op_construct(sigma_z,sigma_z,-J,i,i+1,L)\n",
    "    if (i+Ly)<(L):\n",
    "        H_real += spin2_op_construct(sigma_z,sigma_z,-J,i,i+Ly,L)\n",
    "\n",
    "for i in range(L):\n",
    "    H_real += spin1_op_construct(sigma_x,-h,i,L)\n",
    "\n",
    "e,w = np.linalg.eigh(H_real.toarray())\n",
    "\n",
    "\n",
    "(H_real.toarray()-H_).sum()"
   ]
  },
  {
   "cell_type": "code",
   "execution_count": 13,
   "id": "4b291f7c",
   "metadata": {},
   "outputs": [
    {
     "name": "stdout",
     "output_type": "stream",
     "text": [
      "(1, 3, 2, 2)\n",
      "(3, 4, 2, 2)\n",
      "(4, 5, 2, 2)\n",
      "(5, 5, 2, 2)\n",
      "(5, 5, 2, 2)\n",
      "(5, 5, 2, 2)\n",
      "(5, 4, 2, 2)\n",
      "(4, 3, 2, 2)\n",
      "(3, 1, 2, 2)\n"
     ]
    }
   ],
   "source": [
    "for x in H.W:\n",
    "    print(x.shape)"
   ]
  },
  {
   "cell_type": "code",
   "execution_count": 28,
   "id": "f74cc2ce",
   "metadata": {},
   "outputs": [
    {
     "data": {
      "text/plain": [
       "1"
      ]
     },
     "execution_count": 28,
     "metadata": {},
     "output_type": "execute_result"
    }
   ],
   "source": [
    "J"
   ]
  },
  {
   "cell_type": "code",
   "execution_count": 26,
   "id": "eca26bfc",
   "metadata": {},
   "outputs": [
    {
     "data": {
      "text/plain": [
       "array([[-12. ,  -0.2,  -0.2, ...,   0. ,   0. ,   0. ],\n",
       "       [ -0.2,  -8. ,   0. , ...,   0. ,   0. ,   0. ],\n",
       "       [ -0.2,   0. ,  -6. , ...,   0. ,   0. ,   0. ],\n",
       "       ...,\n",
       "       [  0. ,   0. ,   0. , ...,  -6. ,   0. ,  -0.2],\n",
       "       [  0. ,   0. ,   0. , ...,   0. ,  -8. ,  -0.2],\n",
       "       [  0. ,   0. ,   0. , ...,  -0.2,  -0.2, -12. ]])"
      ]
     },
     "execution_count": 26,
     "metadata": {},
     "output_type": "execute_result"
    }
   ],
   "source": [
    "H_real.toarray()"
   ]
  },
  {
   "cell_type": "code",
   "execution_count": 16,
   "id": "3467b1dc",
   "metadata": {},
   "outputs": [
    {
     "data": {
      "text/plain": [
       "(512, 512)"
      ]
     },
     "execution_count": 16,
     "metadata": {},
     "output_type": "execute_result"
    }
   ],
   "source": [
    "H_.shape"
   ]
  },
  {
   "cell_type": "code",
   "execution_count": 7,
   "id": "7a445d1c",
   "metadata": {},
   "outputs": [
    {
     "data": {
      "text/plain": [
       "<matplotlib.image.AxesImage at 0x2d255810fa0>"
      ]
     },
     "execution_count": 7,
     "metadata": {},
     "output_type": "execute_result"
    },
    {
     "data": {
      "image/png": "[encoded data removed]",
      "text/plain": [
       "<Figure size 432x288 with 1 Axes>"
      ]
     },
     "metadata": {
      "needs_background": "light"
     },
     "output_type": "display_data"
    }
   ],
   "source": [
    "plt.imshow(H_)"
   ]
  },
  {
   "cell_type": "code",
   "execution_count": 31,
   "id": "b04eb2d5",
   "metadata": {},
   "outputs": [
    {
     "data": {
      "text/plain": [
       "[<matplotlib.lines.Line2D at 0x2595a2caca0>]"
      ]
     },
     "execution_count": 31,
     "metadata": {},
     "output_type": "execute_result"
    },
    {
     "data": {
      "image/png": "[encoded data removed]",
      "text/plain": [
       "<Figure size 432x288 with 1 Axes>"
      ]
     },
     "metadata": {
      "needs_background": "light"
     },
     "output_type": "display_data"
    }
   ],
   "source": [
    "plt.plot(MPO.return_LocalMz(engine.MPS).real)"
   ]
  },
  {
   "cell_type": "code",
   "execution_count": null,
   "id": "f1b88b7a",
   "metadata": {},
   "outputs": [],
   "source": []
  }
 ],
 "metadata": {
  "kernelspec": {
   "display_name": "Python 3",
   "language": "python",
   "name": "python3"
  },
  "language_info": {
   "codemirror_mode": {
    "name": "ipython",
    "version": 3
   },
   "file_extension": ".py",
   "mimetype": "text/x-python",
   "name": "python",
   "nbconvert_exporter": "python",
   "pygments_lexer": "ipython3",
   "version": "3.8.8"
  }
 },
 "nbformat": 4,
 "nbformat_minor": 5
}
