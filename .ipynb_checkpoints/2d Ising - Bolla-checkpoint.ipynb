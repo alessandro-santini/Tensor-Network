{
 "cells": [
  {
   "cell_type": "code",
   "execution_count": 23,
   "id": "9ca3f875",
   "metadata": {},
   "outputs": [],
   "source": [
    "import dmrg2 as dmrg\n",
    "import SpinSystems_2d as SS2d\n",
    "import numpy as np\n",
    "import matplotlib.pyplot as plt\n",
    "from ncon import ncon\n",
    "import MPO_class as MPO\n",
    "import MPS_class as MPS\n",
    "import seaborn as sns\n",
    "import tdvp2 as tdvp\n",
    "import matplotlib as mpl\n",
    "#%matplotlib notebook "
   ]
  },
  {
   "cell_type": "code",
   "execution_count": 24,
   "id": "c0d96938",
   "metadata": {},
   "outputs": [],
   "source": [
    "Lx = 15\n",
    "Ly = 15\n",
    "\n",
    "L = Lx*Ly\n",
    "\n",
    "h = 0.1\n",
    "J = 1.\n",
    "H = SS2d.IsingMPO_2D(Lx,Ly,h,J)"
   ]
  },
  {
   "cell_type": "code",
   "execution_count": 25,
   "id": "b4346834",
   "metadata": {},
   "outputs": [],
   "source": [
    "def get_index(i,j,Ly):\n",
    "    return i+j*Ly"
   ]
  },
  {
   "cell_type": "code",
   "execution_count": 26,
   "id": "ef66c284",
   "metadata": {},
   "outputs": [
    {
     "name": "stdout",
     "output_type": "stream",
     "text": [
      "0\n",
      "1\n",
      "2\n",
      "3\n",
      "4\n",
      "5\n",
      "6\n",
      "7\n",
      "8\n",
      "9\n",
      "10\n",
      "11\n",
      "12\n",
      "13\n",
      "14\n",
      "15\n",
      "16\n",
      "17\n",
      "18\n",
      "19\n",
      "20\n",
      "21\n",
      "22\n",
      "23\n",
      "24\n",
      "25\n",
      "26\n",
      "27\n",
      "28\n",
      "29\n",
      "30\n",
      "31\n",
      "32\n",
      "33\n",
      "34\n",
      "35\n",
      "36\n",
      "37\n",
      "38\n",
      "39\n",
      "40\n",
      "41\n",
      "42\n",
      "43\n",
      "44\n",
      "45\n",
      "46\n",
      "47\n",
      "48\n",
      "49\n",
      "50\n",
      "51\n",
      "52\n",
      "53\n",
      "54\n",
      "55\n",
      "56\n",
      "57\n",
      "58\n",
      "59\n",
      "60\n",
      "61\n",
      "62\n",
      "63\n",
      "64\n",
      "65\n",
      "66\n",
      "67\n",
      "68\n",
      "69\n",
      "70\n",
      "71\n",
      "72\n",
      "73\n",
      "74\n",
      "75\n",
      "76\n",
      "77\n",
      "78\n",
      "79\n",
      "80\n",
      "81\n",
      "82\n",
      "83\n",
      "84\n",
      "85\n",
      "86\n",
      "87\n",
      "88\n",
      "89\n",
      "90\n",
      "91\n",
      "92\n",
      "93\n",
      "94\n",
      "95\n",
      "96\n",
      "97\n",
      "98\n",
      "99\n",
      "100\n",
      "101\n",
      "102\n",
      "103\n",
      "104\n",
      "105\n",
      "106\n",
      "107\n",
      "108\n",
      "109\n",
      "110\n",
      "111\n",
      "112\n",
      "113\n",
      "114\n",
      "115\n",
      "116\n",
      "117\n",
      "118\n",
      "119\n",
      "120\n",
      "121\n",
      "122\n",
      "123\n",
      "124\n",
      "125\n",
      "126\n",
      "127\n",
      "128\n",
      "129\n",
      "130\n",
      "131\n",
      "132\n",
      "133\n",
      "134\n",
      "135\n",
      "136\n",
      "137\n",
      "138\n",
      "139\n",
      "140\n",
      "141\n",
      "142\n",
      "143\n",
      "144\n",
      "145\n",
      "146\n",
      "147\n",
      "148\n",
      "149\n",
      "150\n",
      "151\n",
      "152\n",
      "153\n",
      "154\n",
      "155\n",
      "156\n",
      "157\n",
      "158\n",
      "159\n",
      "160\n",
      "161\n",
      "162\n",
      "163\n",
      "164\n",
      "165\n",
      "166\n",
      "167\n",
      "168\n",
      "169\n",
      "170\n",
      "171\n",
      "172\n",
      "173\n",
      "174\n",
      "175\n",
      "176\n",
      "177\n",
      "178\n",
      "179\n",
      "180\n",
      "181\n",
      "182\n",
      "183\n",
      "184\n",
      "185\n",
      "186\n",
      "187\n",
      "188\n",
      "189\n",
      "190\n",
      "191\n",
      "192\n",
      "193\n",
      "194\n",
      "195\n",
      "196\n",
      "197\n",
      "198\n",
      "199\n",
      "200\n"
     ]
    }
   ],
   "source": [
    "time_engine = tdvp.TDVP2(MPS.getAllUp(L),H,chi_MAX=128)\n",
    "\n",
    "mz_list = []\n",
    "t_list = []\n",
    "Mz_list = []\n",
    "ent_ent = []\n",
    "\n",
    "MzMPO = MPO.getMzMPO(L)\n",
    "\n",
    "dt = 1\n",
    "k  = 10\n",
    "t_list.append(0.)\n",
    "\n",
    "delta_x = 2\n",
    "delta_y = 2\n",
    "for i in range(Lx//2-delta_x,Lx//2+delta_x+1):\n",
    "    for j in range(Ly//2-delta_y,Ly//2+delta_y+1):\n",
    "        n = get_index(i,j,Ly)\n",
    "        time_engine.MPS.M[n] = ncon([time_engine.MPS.M[n],np.array([[0,1],[1,0]])],[[-1,1,-3],[1,-2]])\n",
    "\n",
    "mz_list.append(MPO.return_LocalMz(time_engine.MPS).real)\n",
    "Mz_list.append(MzMPO.contractMPOMPS(time_engine.MPS).real)\n",
    "ent_ent.append(time_engine.MPS.compute_EntEntropy())\n",
    "\n",
    "for j in range(201):\n",
    "    print(j)\n",
    "    time_engine.initialize()\n",
    "\n",
    "    # Evolve the state of t1->t2, t2-t1=0.5\n",
    "    for _ in range(k):\n",
    "        time_engine.time_step(dt/k,1e-12)#1e-10)\n",
    "        \n",
    "    if time_engine.end_max:\n",
    "        break\n",
    "    t_list.append((j+1)*dt)\n",
    "    mz_list.append(MPO.return_LocalMz(time_engine.MPS).real)\n",
    "    Mz_list.append(MzMPO.contractMPOMPS(time_engine.MPS).real)\n",
    "    ent_ent.append(time_engine.MPS.compute_EntEntropy())"
   ]
  },
  {
   "cell_type": "code",
   "execution_count": 27,
   "id": "89c6be9c",
   "metadata": {},
   "outputs": [
    {
     "data": {
      "text/plain": [
       "<matplotlib.colorbar.Colorbar at 0x28e722358e0>"
      ]
     },
     "execution_count": 27,
     "metadata": {},
     "output_type": "execute_result"
    },
    {
     "data": {
      "image/png": "[encoded data removed]",
      "text/plain": [
       "<Figure size 432x288 with 2 Axes>"
      ]
     },
     "metadata": {
      "needs_background": "light"
     },
     "output_type": "display_data"
    }
   ],
   "source": [
    "mz_ = np.array(mz_list).reshape(len(mz_list),Lx,Ly)\n",
    "\n",
    "list_ = []\n",
    "for x in time_engine.MPS.M:\n",
    "    list_.append(np.max(x.shape))\n",
    "\n",
    "plt.imshow(np.array(list_).reshape(Lx,Ly))\n",
    "plt.title(\"Bond dimension\",fontsize=30)\n",
    "plt.colorbar()"
   ]
  },
  {
   "cell_type": "code",
   "execution_count": 36,
   "id": "b43e0f6c",
   "metadata": {},
   "outputs": [
    {
     "data": {
      "image/png": "[encoded data removed]",
      "text/plain": [
       "<Figure size 720x504 with 8 Axes>"
      ]
     },
     "metadata": {
      "needs_background": "light"
     },
     "output_type": "display_data"
    }
   ],
   "source": [
    "plt.figure(figsize=(10,7))\n",
    "plt.subplot(221)\n",
    "plt.imshow((mz_[0,:,:].real),cmap=sns.color_palette(\"icefire\",as_cmap=True))\n",
    "plt.colorbar()\n",
    "plt.clim([.9,1])\n",
    "plt.subplot(222)\n",
    "plt.imshow((mz_[20,:,:].real),cmap=sns.color_palette(\"icefire\",as_cmap=True))\n",
    "plt.colorbar()\n",
    "plt.clim([.9,1])\n",
    "plt.subplot(223)\n",
    "plt.imshow((mz_[0,:,:].real),cmap=sns.color_palette(\"icefire\",as_cmap=True))\n",
    "plt.colorbar()\n",
    "plt.clim([.9,1])\n",
    "plt.subplot(224)\n",
    "plt.imshow((mz_[-1,:,:].real),cmap=sns.color_palette(\"icefire\",as_cmap=True))\n",
    "plt.colorbar()\n",
    "plt.clim([.9,1])"
   ]
  },
  {
   "cell_type": "code",
   "execution_count": 32,
   "id": "c5262ccf",
   "metadata": {},
   "outputs": [
    {
     "data": {
      "image/png": "[encoded data removed]",
      "text/plain": [
       "<Figure size 720x504 with 2 Axes>"
      ]
     },
     "metadata": {
      "needs_background": "light"
     },
     "output_type": "display_data"
    }
   ],
   "source": [
    "plt.figure(figsize=(10,7))\n",
    "plt.rc('text',usetex=True)\n",
    "for i in (t_list):\n",
    "    plt.clf()\n",
    "    plt.title(\"$t: %d$\"%(int(i)),fontsize=40)\n",
    "    plt.imshow((mz_[int(i),:,:].real),cmap=sns.color_palette(\"icefire\",as_cmap=True))\n",
    "    plt.xticks(np.arange(0,15,1))\n",
    "    plt.yticks(np.arange(0,15,1))\n",
    "    cb = plt.colorbar()\n",
    "    plt.clim(-1,1)\n",
    "    cb.ax.tick_params(labelsize=18)\n",
    "    cb.set_label(r\"$m_z$\",fontsize=32)\n",
    "    plt.tick_params(labelsize=18)\n",
    "    plt.savefig(f\"figure/{i}.png\",format='png',dpi=400)"
   ]
  },
  {
   "cell_type": "code",
   "execution_count": 43,
   "id": "d452d8de",
   "metadata": {},
   "outputs": [
    {
     "data": {
      "text/plain": [
       "[<matplotlib.lines.Line2D at 0x28e71bc77f0>]"
      ]
     },
     "execution_count": 43,
     "metadata": {},
     "output_type": "execute_result"
    },
    {
     "data": {
      "image/png": "[encoded data removed]",
      "text/plain": [
       "<Figure size 432x288 with 1 Axes>"
      ]
     },
     "metadata": {
      "needs_background": "light"
     },
     "output_type": "display_data"
    }
   ],
   "source": [
    "plt.plot(mz_[:,9,5])\n",
    "plt.plot(mz_[:,9,5])\n"
   ]
  },
  {
   "cell_type": "code",
   "execution_count": 34,
   "id": "12ebbe94",
   "metadata": {},
   "outputs": [
    {
     "data": {
      "text/plain": [
       "[<matplotlib.lines.Line2D at 0x28e7168d790>]"
      ]
     },
     "execution_count": 34,
     "metadata": {},
     "output_type": "execute_result"
    },
    {
     "data": {
      "image/png": "[encoded data removed]",
      "text/plain": [
       "<Figure size 432x288 with 1 Axes>"
      ]
     },
     "metadata": {
      "needs_background": "light"
     },
     "output_type": "display_data"
    }
   ],
   "source": [
    "plt.plot(np.array(Mz_list)/L)"
   ]
  }
 ],
 "metadata": {
  "kernelspec": {
   "display_name": "Python 3",
   "language": "python",
   "name": "python3"
  },
  "language_info": {
   "codemirror_mode": {
    "name": "ipython",
    "version": 3
   },
   "file_extension": ".py",
   "mimetype": "text/x-python",
   "name": "python",
   "nbconvert_exporter": "python",
   "pygments_lexer": "ipython3",
   "version": "3.8.8"
  }
 },
 "nbformat": 4,
 "nbformat_minor": 5
}
