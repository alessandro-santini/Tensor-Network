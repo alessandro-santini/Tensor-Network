{
 "cells": [
  {
   "cell_type": "code",
   "execution_count": 1,
   "id": "3fccd045",
   "metadata": {},
   "outputs": [
    {
     "data": {
      "text/plain": [
       "Plots.PyPlotBackend()"
      ]
     },
     "execution_count": 1,
     "metadata": {},
     "output_type": "execute_result"
    }
   ],
   "source": [
    "using ITensors\n",
    "using PyCall\n",
    "\n",
    "np = pyimport(\"numpy\")\n",
    "\n",
    "using Plots\n",
    "pyplot()"
   ]
  },
  {
   "cell_type": "markdown",
   "id": "e1a94dbf",
   "metadata": {},
   "source": [
    "<h1> TDVP Routine </h1>"
   ]
  },
  {
   "cell_type": "code",
   "execution_count": 2,
   "id": "2cbd3251",
   "metadata": {},
   "outputs": [],
   "source": [
    "using TimeEvoMPS: tdvp!"
   ]
  },
  {
   "cell_type": "markdown",
   "id": "b31f6132",
   "metadata": {},
   "source": [
    "<h1> Define the hamiltonian </h1>"
   ]
  },
  {
   "cell_type": "code",
   "execution_count": 43,
   "id": "b02f9b93",
   "metadata": {},
   "outputs": [
    {
     "name": "stdout",
     "output_type": "stream",
     "text": [
      "After sweep 1 energy=-59.999926193003 maxlinkdim=10 maxerr=2.15E-07 time=0.088\n",
      "After sweep 2 energy=-59.999999999626 maxlinkdim=6 maxerr=1.00E-15 time=0.085\n",
      "After sweep 3 energy=-60.000000000000 maxlinkdim=1 maxerr=4.80E-16 time=0.027\n",
      "After sweep 4 energy=-60.000000000000 maxlinkdim=1 maxerr=1.93E-38 time=0.023\n",
      "After sweep 5 energy=-60.000000000000 maxlinkdim=1 maxerr=1.93E-40 time=0.030\n",
      "After sweep 6 energy=-60.000000000000 maxlinkdim=1 maxerr=1.35E-79 time=0.014\n",
      "After sweep 7 energy=-60.000000000000 maxlinkdim=1 maxerr=0.00E+00 time=0.014\n",
      "Final energy = -60.00000000000003\n"
     ]
    }
   ],
   "source": [
    "h = 0.\n",
    "J = 1\n",
    "\n",
    "Lx = 6\n",
    "Ly = 6\n",
    "\n",
    "L  = Lx*Ly\n",
    "\n",
    "sites = siteinds(\"S=1/2\",L)\n",
    "psi0 = randomMPS(sites)\n",
    "ampo = OpSum()\n",
    "\n",
    "for i=1:L\n",
    "    val = mod(i,Ly)\n",
    "    if mod(i,Ly) != 0\n",
    "        if i != L\n",
    "            ampo += -4*J,\"Sz\",i,\"Sz\",i+1\n",
    "        end\n",
    "    end\n",
    "    if i <= (Lx-1)*Ly\n",
    "        val = i + Ly\n",
    "        ampo += -4*J,\"Sz\",i,\"Sz\",i+Ly\n",
    "    end\n",
    "    ampo += -2*h,\"Sx\",i\n",
    "end\n",
    "\n",
    "H = MPO(ampo,sites)\n",
    "\n",
    "sweeps = Sweeps(7)\n",
    "setmaxdim!(sweeps, 10,20,100,200,300,300,400)\n",
    "setnoise!(sweeps,1e-5,1e-6,1e-8,1e-8,1e-10,0.0,0.0)\n",
    "setcutoff!(sweeps, 1E-15)\n",
    "#@show sweeps\n",
    "\n",
    "#z_observer = DMRGObserver([\"Sz\"],sites,energy_tol=1E-12)\n",
    "\n",
    "energy, psi = dmrg(H, psi0, sweeps)#,observer=Sz_observer)\n",
    "println(\"Final energy = $energy\")"
   ]
  },
  {
   "cell_type": "code",
   "execution_count": null,
   "id": "cbd87078",
   "metadata": {},
   "outputs": [],
   "source": [
    "psi = productMPS(sites, fill(\"↑\",L))\n",
    "T  = 0.5\n",
    "dt = 0.05\n",
    "cb = LocalMeasurementCallback([\"Sz\"], sites, T)\n",
    "tdvp!(psi,H,dt,T,maxdim=30,callback=cb)"
   ]
  }
 ],
 "metadata": {
  "kernelspec": {
   "display_name": "Julia 1.5.3",
   "language": "julia",
   "name": "julia-1.5"
  },
  "language_info": {
   "file_extension": ".jl",
   "mimetype": "application/julia",
   "name": "julia",
   "version": "1.5.3"
  }
 },
 "nbformat": 4,
 "nbformat_minor": 5
}
