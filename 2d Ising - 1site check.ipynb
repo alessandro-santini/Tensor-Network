{
 "cells": [
  {
   "cell_type": "code",
   "execution_count": 1,
   "id": "91564615",
   "metadata": {},
   "outputs": [],
   "source": [
    "import dmrg1 as dmrg1\n",
    "import SpinSystems_2d as SS2d\n",
    "import numpy as np\n",
    "import matplotlib.pyplot as plt\n",
    "from ncon import ncon\n",
    "import MPO_class as MPO\n",
    "import MPS_class as MPS\n",
    "import seaborn as sns\n",
    "import tdvp as tdvp1\n",
    "\n"
   ]
  },
  {
   "cell_type": "code",
   "execution_count": 2,
   "id": "f65a1e9b",
   "metadata": {},
   "outputs": [],
   "source": [
    "Lx = 7\n",
    "Ly = 7\n",
    "\n",
    "L = Lx*Ly"
   ]
  },
  {
   "cell_type": "code",
   "execution_count": 3,
   "id": "29605184",
   "metadata": {},
   "outputs": [
    {
     "name": "stderr",
     "output_type": "stream",
     "text": [
      "C:\\Users\\asant\\Documents\\GitHub\\Tensor-Network\\LanczosRoutines.py:38: RuntimeWarning: beta[0] ~= 0 encountered during Lanczos iteration.\n",
      "  warnings.warn(\n"
     ]
    },
    {
     "name": "stdout",
     "output_type": "stream",
     "text": [
      "energy -84.00000000000001 theo -84\n"
     ]
    }
   ],
   "source": [
    "h = 0\n",
    "J = 1.\n",
    "H = SS2d.IsingMPO_2D(Lx,Ly,h,J)\n",
    "\n",
    "engine = dmrg1.DMRG1(H)\n",
    "engine.initialize(64)\n",
    "\n",
    "for i in range(20):\n",
    "    engine.dmrg_step()#1e-12)\n",
    "\n",
    "print('energy', engine.E, 'theo', -(2*Lx*Ly-Lx-Ly))"
   ]
  },
  {
   "cell_type": "code",
   "execution_count": 4,
   "id": "28675f14",
   "metadata": {},
   "outputs": [],
   "source": [
    "time_engine = tdvp1.TDVP(engine.MPS,H)\n",
    "\n",
    "def apply_flip(M,epsilon):\n",
    "    theta = np.pi-epsilon\n",
    "    flip = np.eye(2)*np.cos(theta/2) - 1j*np.sin(theta/2)*np.array([[0,1],[1,0]])\n",
    "    for i in range(len(M)):\n",
    "        M[i] = ncon([M[i],flip],[[-1,1,-3],[1,-2]])"
   ]
  },
  {
   "cell_type": "code",
   "execution_count": 5,
   "id": "718bf553",
   "metadata": {},
   "outputs": [
    {
     "name": "stdout",
     "output_type": "stream",
     "text": [
      "0  mz:  (-1+0j)\n",
      "1  mz:  (0.9950041652780258+0j)\n",
      "2  mz:  (-0.9934421620435067+0j)\n",
      "3  mz:  (0.9887324504062311+0j)\n",
      "4  mz:  (-0.9919213465699823+0j)\n",
      "5  mz:  (0.9864497257006801+0j)\n",
      "6  mz:  (-0.9902644046358372+0j)\n",
      "7  mz:  (0.984891339406228+0j)\n",
      "8  mz:  (-0.981568170061236+0j)\n",
      "9  mz:  (0.9887647725925679+0j)\n",
      "10  mz:  (-0.9856170007370904+0j)\n",
      "11  mz:  (0.9918832300337388+0j)\n",
      "12  mz:  (-0.993181867234383+0j)\n",
      "13  mz:  (0.9924282157934807+0j)\n",
      "14  mz:  (-0.9889184288548207+0j)\n",
      "15  mz:  (0.9921372816699083+0j)\n",
      "16  mz:  (-0.9891443565694716+0j)\n",
      "17  mz:  (0.9900867988592683+0j)\n",
      "18  mz:  (-0.9899173047951603+0j)\n",
      "19  mz:  (0.9906794600025646+0j)\n",
      "20  mz:  (-0.9886500924162251+0j)\n",
      "21  mz:  (0.9902438640027761+0j)\n",
      "22  mz:  (-0.9874667866359903+0j)\n",
      "23  mz:  (0.9909194649306822+0j)\n",
      "24  mz:  (-0.983670300441713+0j)\n",
      "25  mz:  (0.9880052843395257+0j)\n",
      "26  mz:  (-0.9907087390746946+0j)\n",
      "27  mz:  (0.9861436454211537+0j)\n",
      "28  mz:  (-0.9873986829822203+0j)\n",
      "29  mz:  (0.9883756819895027+0j)\n",
      "30  mz:  (-0.991336844757992+0j)\n",
      "31  mz:  (0.9881497193995404+0j)\n",
      "32  mz:  (-0.9873230196728491+0j)\n",
      "33  mz:  (0.988325509631058+0j)\n",
      "34  mz:  (-0.9867900099606361+0j)\n",
      "35  mz:  (0.9926963800285493+0j)\n",
      "36  mz:  (-0.9925150341335665+0j)\n",
      "37  mz:  (0.9917552544017042+0j)\n",
      "38  mz:  (-0.9922255260496209+0j)\n",
      "39  mz:  (0.985467922236558+0j)\n",
      "40  mz:  (-0.9870206546989128+0j)\n",
      "41  mz:  (0.9903860205562375+0j)\n",
      "42  mz:  (-0.9882388655121106+0j)\n",
      "43  mz:  (0.9908169457450741+0j)\n",
      "44  mz:  (-0.9881617620612261+0j)\n",
      "45  mz:  (0.9901162927145833+0j)\n",
      "46  mz:  (-0.9915097965849671+0j)\n",
      "47  mz:  (0.9930723474290735+0j)\n",
      "48  mz:  (-0.990233071176593+0j)\n",
      "49  mz:  (0.9924589803961299+0j)\n",
      "50  mz:  (-0.9912836211911132+0j)\n",
      "51  mz:  (0.9930339867183609+0j)\n",
      "52  mz:  (-0.9913777710018191+0j)\n",
      "53  mz:  (0.9904629957405088+0j)\n",
      "54  mz:  (-0.9897944929201642+0j)\n",
      "55  mz:  (0.9877301210465642+0j)\n",
      "56  mz:  (-0.9901960662391109+0j)\n",
      "57  mz:  (0.9892605230191729+0j)\n",
      "58  mz:  (-0.9891781118883871+0j)\n",
      "59  mz:  (0.9870035872522833+0j)\n",
      "60  mz:  (-0.9909325104376576+0j)\n",
      "61  mz:  (0.9907894303923545+0j)\n",
      "62  mz:  (-0.9862563751395248+0j)\n"
     ]
    },
    {
     "ename": "KeyboardInterrupt",
     "evalue": "",
     "output_type": "error",
     "traceback": [
      "\u001b[1;31m---------------------------------------------------------------------------\u001b[0m",
      "\u001b[1;31mKeyboardInterrupt\u001b[0m                         Traceback (most recent call last)",
      "\u001b[1;32m<ipython-input-5-63e35841e8a4>\u001b[0m in \u001b[0;36m<module>\u001b[1;34m\u001b[0m\n\u001b[0;32m     15\u001b[0m     \u001b[1;31m# Evolve the state of t1->t2, t2-t1=0.5\u001b[0m\u001b[1;33m\u001b[0m\u001b[1;33m\u001b[0m\u001b[1;33m\u001b[0m\u001b[0m\n\u001b[0;32m     16\u001b[0m     \u001b[1;32mfor\u001b[0m \u001b[0m_\u001b[0m \u001b[1;32min\u001b[0m \u001b[0mrange\u001b[0m\u001b[1;33m(\u001b[0m\u001b[0mk\u001b[0m\u001b[1;33m)\u001b[0m\u001b[1;33m:\u001b[0m\u001b[1;33m\u001b[0m\u001b[1;33m\u001b[0m\u001b[0m\n\u001b[1;32m---> 17\u001b[1;33m         \u001b[0mtime_engine\u001b[0m\u001b[1;33m.\u001b[0m\u001b[0mtime_step\u001b[0m\u001b[1;33m(\u001b[0m\u001b[0mdt\u001b[0m\u001b[1;33m/\u001b[0m\u001b[0mk\u001b[0m\u001b[1;33m)\u001b[0m\u001b[1;31m#,1e-10)\u001b[0m\u001b[1;33m\u001b[0m\u001b[1;33m\u001b[0m\u001b[0m\n\u001b[0m\u001b[0;32m     18\u001b[0m     \u001b[0mapply_flip\u001b[0m\u001b[1;33m(\u001b[0m\u001b[0mtime_engine\u001b[0m\u001b[1;33m.\u001b[0m\u001b[0mMPS\u001b[0m\u001b[1;33m.\u001b[0m\u001b[0mM\u001b[0m\u001b[1;33m,\u001b[0m \u001b[1;36m0.1\u001b[0m\u001b[1;33m)\u001b[0m\u001b[1;33m\u001b[0m\u001b[1;33m\u001b[0m\u001b[0m\n\u001b[0;32m     19\u001b[0m     \u001b[0mt_list\u001b[0m\u001b[1;33m.\u001b[0m\u001b[0mappend\u001b[0m\u001b[1;33m(\u001b[0m\u001b[1;33m(\u001b[0m\u001b[0mj\u001b[0m\u001b[1;33m+\u001b[0m\u001b[1;36m1\u001b[0m\u001b[1;33m)\u001b[0m\u001b[1;33m*\u001b[0m\u001b[0mdt\u001b[0m\u001b[1;33m)\u001b[0m\u001b[1;33m\u001b[0m\u001b[1;33m\u001b[0m\u001b[0m\n",
      "\u001b[1;32m~\\Documents\\GitHub\\Tensor-Network\\tdvp.py\u001b[0m in \u001b[0;36mtime_step\u001b[1;34m(self, delta)\u001b[0m\n\u001b[0;32m     90\u001b[0m     \u001b[1;32mdef\u001b[0m \u001b[0mtime_step\u001b[0m\u001b[1;33m(\u001b[0m\u001b[0mself\u001b[0m\u001b[1;33m,\u001b[0m\u001b[0mdelta\u001b[0m\u001b[1;33m)\u001b[0m\u001b[1;33m:\u001b[0m\u001b[1;33m\u001b[0m\u001b[1;33m\u001b[0m\u001b[0m\n\u001b[0;32m     91\u001b[0m         \u001b[0mself\u001b[0m\u001b[1;33m.\u001b[0m\u001b[0mright_sweep\u001b[0m\u001b[1;33m(\u001b[0m\u001b[0mdelta\u001b[0m\u001b[1;33m)\u001b[0m\u001b[1;33m\u001b[0m\u001b[1;33m\u001b[0m\u001b[0m\n\u001b[1;32m---> 92\u001b[1;33m         \u001b[0mself\u001b[0m\u001b[1;33m.\u001b[0m\u001b[0mleft_sweep\u001b[0m\u001b[1;33m(\u001b[0m\u001b[0mdelta\u001b[0m\u001b[1;33m)\u001b[0m\u001b[1;33m\u001b[0m\u001b[1;33m\u001b[0m\u001b[0m\n\u001b[0m",
      "\u001b[1;32m~\\Documents\\GitHub\\Tensor-Network\\tdvp.py\u001b[0m in \u001b[0;36mleft_sweep\u001b[1;34m(self, delta)\u001b[0m\n\u001b[0;32m     84\u001b[0m             \u001b[1;32mif\u001b[0m \u001b[0mi\u001b[0m \u001b[1;33m!=\u001b[0m \u001b[1;36m0\u001b[0m\u001b[1;33m:\u001b[0m\u001b[1;33m\u001b[0m\u001b[1;33m\u001b[0m\u001b[0m\n\u001b[0;32m     85\u001b[0m                 \u001b[0mC\u001b[0m \u001b[1;33m=\u001b[0m \u001b[0mU\u001b[0m\u001b[1;33m@\u001b[0m\u001b[0mnp\u001b[0m\u001b[1;33m.\u001b[0m\u001b[0mdiag\u001b[0m\u001b[1;33m(\u001b[0m\u001b[0mS\u001b[0m\u001b[1;33m)\u001b[0m\u001b[1;33m\u001b[0m\u001b[1;33m\u001b[0m\u001b[0m\n\u001b[1;32m---> 86\u001b[1;33m                 \u001b[0mpsi\u001b[0m   \u001b[1;33m=\u001b[0m \u001b[0mlocal_exponentiation\u001b[0m\u001b[1;33m(\u001b[0m\u001b[1;34m'Hfree'\u001b[0m\u001b[1;33m,\u001b[0m\u001b[0mC\u001b[0m\u001b[1;33m,\u001b[0m \u001b[0mself\u001b[0m\u001b[1;33m.\u001b[0m\u001b[0mLT\u001b[0m\u001b[1;33m[\u001b[0m\u001b[0mi\u001b[0m\u001b[1;33m-\u001b[0m\u001b[1;36m1\u001b[0m\u001b[1;33m]\u001b[0m\u001b[1;33m,\u001b[0m\u001b[1;34m' '\u001b[0m\u001b[1;33m,\u001b[0m \u001b[0mself\u001b[0m\u001b[1;33m.\u001b[0m\u001b[0mRT\u001b[0m\u001b[1;33m[\u001b[0m\u001b[0mi\u001b[0m\u001b[1;33m]\u001b[0m\u001b[1;33m,\u001b[0m\u001b[1;33m-\u001b[0m\u001b[0mdelta\u001b[0m\u001b[1;33m)\u001b[0m\u001b[1;33m\u001b[0m\u001b[1;33m\u001b[0m\u001b[0m\n\u001b[0m\u001b[0;32m     87\u001b[0m                 \u001b[0mC\u001b[0m \u001b[1;33m=\u001b[0m \u001b[0mpsi\u001b[0m\u001b[1;33m.\u001b[0m\u001b[0mreshape\u001b[0m\u001b[1;33m(\u001b[0m\u001b[0mC\u001b[0m\u001b[1;33m.\u001b[0m\u001b[0mshape\u001b[0m\u001b[1;33m)\u001b[0m\u001b[1;33m\u001b[0m\u001b[1;33m\u001b[0m\u001b[0m\n\u001b[0;32m     88\u001b[0m                 \u001b[0mself\u001b[0m\u001b[1;33m.\u001b[0m\u001b[0mMPS\u001b[0m\u001b[1;33m.\u001b[0m\u001b[0mM\u001b[0m\u001b[1;33m[\u001b[0m\u001b[0mi\u001b[0m\u001b[1;33m-\u001b[0m\u001b[1;36m1\u001b[0m\u001b[1;33m]\u001b[0m \u001b[1;33m=\u001b[0m \u001b[0mncon\u001b[0m\u001b[1;33m(\u001b[0m\u001b[1;33m[\u001b[0m\u001b[0mself\u001b[0m\u001b[1;33m.\u001b[0m\u001b[0mMPS\u001b[0m\u001b[1;33m.\u001b[0m\u001b[0mM\u001b[0m\u001b[1;33m[\u001b[0m\u001b[0mi\u001b[0m\u001b[1;33m-\u001b[0m\u001b[1;36m1\u001b[0m\u001b[1;33m]\u001b[0m\u001b[1;33m,\u001b[0m\u001b[0mC\u001b[0m\u001b[1;33m]\u001b[0m\u001b[1;33m,\u001b[0m\u001b[1;33m[\u001b[0m\u001b[1;33m[\u001b[0m\u001b[1;33m-\u001b[0m\u001b[1;36m1\u001b[0m\u001b[1;33m,\u001b[0m\u001b[1;33m-\u001b[0m\u001b[1;36m2\u001b[0m\u001b[1;33m,\u001b[0m\u001b[1;36m1\u001b[0m\u001b[1;33m]\u001b[0m\u001b[1;33m,\u001b[0m\u001b[1;33m[\u001b[0m\u001b[1;36m1\u001b[0m\u001b[1;33m,\u001b[0m\u001b[1;33m-\u001b[0m\u001b[1;36m3\u001b[0m\u001b[1;33m]\u001b[0m\u001b[1;33m]\u001b[0m\u001b[1;33m)\u001b[0m\u001b[1;33m\u001b[0m\u001b[1;33m\u001b[0m\u001b[0m\n",
      "\u001b[1;32m~\\Documents\\GitHub\\Tensor-Network\\tdvp.py\u001b[0m in \u001b[0;36mlocal_exponentiation\u001b[1;34m(method, M, L, H, R, delta, maxit)\u001b[0m\n\u001b[0;32m     24\u001b[0m     \u001b[1;32mif\u001b[0m \u001b[0mmethod\u001b[0m \u001b[1;33m==\u001b[0m \u001b[1;34m'Hfree'\u001b[0m\u001b[1;33m:\u001b[0m\u001b[1;33m\u001b[0m\u001b[1;33m\u001b[0m\u001b[0m\n\u001b[0;32m     25\u001b[0m             \u001b[0mAfunc\u001b[0m \u001b[1;33m=\u001b[0m \u001b[1;32mlambda\u001b[0m \u001b[0mx\u001b[0m\u001b[1;33m:\u001b[0m \u001b[0mapply_Hfree\u001b[0m\u001b[1;33m(\u001b[0m\u001b[0mL\u001b[0m\u001b[1;33m,\u001b[0m \u001b[0mR\u001b[0m\u001b[1;33m,\u001b[0m \u001b[0mx\u001b[0m\u001b[1;33m.\u001b[0m\u001b[0mreshape\u001b[0m\u001b[1;33m(\u001b[0m\u001b[0mM\u001b[0m\u001b[1;33m.\u001b[0m\u001b[0mshape\u001b[0m\u001b[1;33m)\u001b[0m\u001b[1;33m)\u001b[0m\u001b[1;33m.\u001b[0m\u001b[0mravel\u001b[0m\u001b[1;33m(\u001b[0m\u001b[1;33m)\u001b[0m\u001b[1;33m\u001b[0m\u001b[1;33m\u001b[0m\u001b[0m\n\u001b[1;32m---> 26\u001b[1;33m     \u001b[0mv\u001b[0m \u001b[1;33m=\u001b[0m \u001b[0mexpm_krylov_lanczos\u001b[0m\u001b[1;33m(\u001b[0m\u001b[0mAfunc\u001b[0m\u001b[1;33m,\u001b[0m \u001b[0mM\u001b[0m\u001b[1;33m.\u001b[0m\u001b[0mravel\u001b[0m\u001b[1;33m(\u001b[0m\u001b[1;33m)\u001b[0m\u001b[1;33m,\u001b[0m \u001b[1;36m1j\u001b[0m\u001b[1;33m*\u001b[0m\u001b[0mdelta\u001b[0m\u001b[1;33m/\u001b[0m\u001b[1;36m2\u001b[0m\u001b[1;33m,\u001b[0m \u001b[0mmaxit\u001b[0m\u001b[1;33m)\u001b[0m\u001b[1;33m\u001b[0m\u001b[1;33m\u001b[0m\u001b[0m\n\u001b[0m\u001b[0;32m     27\u001b[0m     \u001b[1;32mreturn\u001b[0m \u001b[0mv\u001b[0m\u001b[1;33m/\u001b[0m\u001b[0mLA\u001b[0m\u001b[1;33m.\u001b[0m\u001b[0mnorm\u001b[0m\u001b[1;33m(\u001b[0m\u001b[0mv\u001b[0m\u001b[1;33m)\u001b[0m\u001b[1;33m\u001b[0m\u001b[1;33m\u001b[0m\u001b[0m\n\u001b[0;32m     28\u001b[0m \u001b[1;33m\u001b[0m\u001b[0m\n",
      "\u001b[1;32m~\\Documents\\GitHub\\Tensor-Network\\LanczosRoutines.py\u001b[0m in \u001b[0;36mexpm_krylov_lanczos\u001b[1;34m(Afunc, v, dt, numiter)\u001b[0m\n\u001b[0;32m     65\u001b[0m \u001b[1;33m\u001b[0m\u001b[0m\n\u001b[0;32m     66\u001b[0m     \u001b[1;31m# diagonalize Hessenberg matrix\u001b[0m\u001b[1;33m\u001b[0m\u001b[1;33m\u001b[0m\u001b[1;33m\u001b[0m\u001b[0m\n\u001b[1;32m---> 67\u001b[1;33m     \u001b[0mw_hess\u001b[0m\u001b[1;33m,\u001b[0m \u001b[0mu_hess\u001b[0m \u001b[1;33m=\u001b[0m \u001b[0mnp\u001b[0m\u001b[1;33m.\u001b[0m\u001b[0mlinalg\u001b[0m\u001b[1;33m.\u001b[0m\u001b[0meigh\u001b[0m\u001b[1;33m(\u001b[0m\u001b[0mnp\u001b[0m\u001b[1;33m.\u001b[0m\u001b[0mdiag\u001b[0m\u001b[1;33m(\u001b[0m\u001b[0malpha\u001b[0m\u001b[1;33m)\u001b[0m \u001b[1;33m+\u001b[0m \u001b[0mnp\u001b[0m\u001b[1;33m.\u001b[0m\u001b[0mdiag\u001b[0m\u001b[1;33m(\u001b[0m\u001b[0mbeta\u001b[0m\u001b[1;33m,\u001b[0m\u001b[1;36m1\u001b[0m\u001b[1;33m)\u001b[0m \u001b[1;33m+\u001b[0m \u001b[0mnp\u001b[0m\u001b[1;33m.\u001b[0m\u001b[0mdiag\u001b[0m\u001b[1;33m(\u001b[0m\u001b[0mbeta\u001b[0m\u001b[1;33m,\u001b[0m\u001b[1;33m-\u001b[0m\u001b[1;36m1\u001b[0m\u001b[1;33m)\u001b[0m\u001b[1;33m)\u001b[0m\u001b[1;33m\u001b[0m\u001b[1;33m\u001b[0m\u001b[0m\n\u001b[0m\u001b[0;32m     68\u001b[0m \u001b[1;33m\u001b[0m\u001b[0m\n\u001b[0;32m     69\u001b[0m     \u001b[1;32mreturn\u001b[0m \u001b[0mnp\u001b[0m\u001b[1;33m.\u001b[0m\u001b[0mdot\u001b[0m\u001b[1;33m(\u001b[0m\u001b[0mV\u001b[0m\u001b[1;33m,\u001b[0m \u001b[0mnp\u001b[0m\u001b[1;33m.\u001b[0m\u001b[0mdot\u001b[0m\u001b[1;33m(\u001b[0m\u001b[0mu_hess\u001b[0m\u001b[1;33m,\u001b[0m \u001b[0mnp\u001b[0m\u001b[1;33m.\u001b[0m\u001b[0mlinalg\u001b[0m\u001b[1;33m.\u001b[0m\u001b[0mnorm\u001b[0m\u001b[1;33m(\u001b[0m\u001b[0mv\u001b[0m\u001b[1;33m)\u001b[0m \u001b[1;33m*\u001b[0m \u001b[0mnp\u001b[0m\u001b[1;33m.\u001b[0m\u001b[0mexp\u001b[0m\u001b[1;33m(\u001b[0m\u001b[0mdt\u001b[0m\u001b[1;33m*\u001b[0m\u001b[0mw_hess\u001b[0m\u001b[1;33m)\u001b[0m \u001b[1;33m*\u001b[0m \u001b[0mu_hess\u001b[0m\u001b[1;33m[\u001b[0m\u001b[1;36m0\u001b[0m\u001b[1;33m]\u001b[0m\u001b[1;33m)\u001b[0m\u001b[1;33m)\u001b[0m\u001b[1;33m\u001b[0m\u001b[1;33m\u001b[0m\u001b[0m\n",
      "\u001b[1;32m<__array_function__ internals>\u001b[0m in \u001b[0;36meigh\u001b[1;34m(*args, **kwargs)\u001b[0m\n",
      "\u001b[1;32mC:\\ProgramData\\Anaconda3\\lib\\site-packages\\numpy\\linalg\\linalg.py\u001b[0m in \u001b[0;36meigh\u001b[1;34m(a, UPLO)\u001b[0m\n\u001b[0;32m   1468\u001b[0m \u001b[1;33m\u001b[0m\u001b[0m\n\u001b[0;32m   1469\u001b[0m     \u001b[0msignature\u001b[0m \u001b[1;33m=\u001b[0m \u001b[1;34m'D->dD'\u001b[0m \u001b[1;32mif\u001b[0m \u001b[0misComplexType\u001b[0m\u001b[1;33m(\u001b[0m\u001b[0mt\u001b[0m\u001b[1;33m)\u001b[0m \u001b[1;32melse\u001b[0m \u001b[1;34m'd->dd'\u001b[0m\u001b[1;33m\u001b[0m\u001b[1;33m\u001b[0m\u001b[0m\n\u001b[1;32m-> 1470\u001b[1;33m     \u001b[0mw\u001b[0m\u001b[1;33m,\u001b[0m \u001b[0mvt\u001b[0m \u001b[1;33m=\u001b[0m \u001b[0mgufunc\u001b[0m\u001b[1;33m(\u001b[0m\u001b[0ma\u001b[0m\u001b[1;33m,\u001b[0m \u001b[0msignature\u001b[0m\u001b[1;33m=\u001b[0m\u001b[0msignature\u001b[0m\u001b[1;33m,\u001b[0m \u001b[0mextobj\u001b[0m\u001b[1;33m=\u001b[0m\u001b[0mextobj\u001b[0m\u001b[1;33m)\u001b[0m\u001b[1;33m\u001b[0m\u001b[1;33m\u001b[0m\u001b[0m\n\u001b[0m\u001b[0;32m   1471\u001b[0m     \u001b[0mw\u001b[0m \u001b[1;33m=\u001b[0m \u001b[0mw\u001b[0m\u001b[1;33m.\u001b[0m\u001b[0mastype\u001b[0m\u001b[1;33m(\u001b[0m\u001b[0m_realType\u001b[0m\u001b[1;33m(\u001b[0m\u001b[0mresult_t\u001b[0m\u001b[1;33m)\u001b[0m\u001b[1;33m,\u001b[0m \u001b[0mcopy\u001b[0m\u001b[1;33m=\u001b[0m\u001b[1;32mFalse\u001b[0m\u001b[1;33m)\u001b[0m\u001b[1;33m\u001b[0m\u001b[1;33m\u001b[0m\u001b[0m\n\u001b[0;32m   1472\u001b[0m     \u001b[0mvt\u001b[0m \u001b[1;33m=\u001b[0m \u001b[0mvt\u001b[0m\u001b[1;33m.\u001b[0m\u001b[0mastype\u001b[0m\u001b[1;33m(\u001b[0m\u001b[0mresult_t\u001b[0m\u001b[1;33m,\u001b[0m \u001b[0mcopy\u001b[0m\u001b[1;33m=\u001b[0m\u001b[1;32mFalse\u001b[0m\u001b[1;33m)\u001b[0m\u001b[1;33m\u001b[0m\u001b[1;33m\u001b[0m\u001b[0m\n",
      "\u001b[1;31mKeyboardInterrupt\u001b[0m: "
     ]
    }
   ],
   "source": [
    "mz_list = []\n",
    "t_list = []\n",
    "\n",
    "dt = 1.\n",
    "k  = 1\n",
    "t_list.append(0.)\n",
    "\n",
    "time_engine.MPS.M[Lx//2*Ly+Ly//2] = ncon([time_engine.MPS.M[Lx//2*Ly+Ly//2],np.array([[0,1],[1,0]])],[[-1,1,-3],[1,-2]])\n",
    "mz_list.append(MPO.return_LocalMz(time_engine.MPS))#.real.reshape(Lx,Ly))\n",
    "#time_engine.initialize()\n",
    "for j in range(101):\n",
    "    print(j,' mz: ',mz_list[j][14])\n",
    "    time_engine.initialize()\n",
    "\n",
    "    # Evolve the state of t1->t2, t2-t1=0.5\n",
    "    for _ in range(k):\n",
    "        time_engine.time_step(dt/k)#,1e-10)\n",
    "    apply_flip(time_engine.MPS.M, 0.1)\n",
    "    t_list.append((j+1)*dt)\n",
    "    mz_list.append(MPO.return_LocalMz(time_engine.MPS))#.real.reshape(Lx,Ly))\n",
    "    \n"
   ]
  },
  {
   "cell_type": "code",
   "execution_count": 7,
   "id": "91e5baba",
   "metadata": {},
   "outputs": [],
   "source": [
    "mz_ = np.array(mz_list).reshape(len(mz_list),Lx,Ly)"
   ]
  },
  {
   "cell_type": "code",
   "execution_count": 8,
   "id": "7764dde3",
   "metadata": {},
   "outputs": [
    {
     "data": {
      "image/png": "[encoded data removed]",
      "text/plain": [
       "<Figure size 864x720 with 8 Axes>"
      ]
     },
     "metadata": {
      "needs_background": "light"
     },
     "output_type": "display_data"
    }
   ],
   "source": [
    "import seaborn as sns\n",
    "\n",
    "plt.rc('text',usetex=True)\n",
    "plt.figure(figsize=(12,10))\n",
    "\n",
    "plt.subplot(221)\n",
    "plt.imshow(np.abs(mz_[:,:,0]),origin='lower',cmap=sns.color_palette('icefire',as_cmap=True),aspect='auto')\n",
    "cb = plt.colorbar()\n",
    "cb.ax.tick_params(labelsize=18)\n",
    "cb.set_label(r\"$|m_z|$\",fontsize=22)\n",
    "plt.ylabel(\"$t$\",fontsize=22)\n",
    "plt.xlabel(\"$j$\",fontsize=22)\n",
    "plt.tick_params(labelsize=18)\n",
    "plt.xticks(np.arange(Lx))\n",
    "\n",
    "plt.subplot(222)\n",
    "plt.imshow(np.abs(mz_[:,:,-1]),origin='lower',cmap=sns.color_palette('icefire',as_cmap=True),aspect='auto')\n",
    "cb = plt.colorbar()\n",
    "cb.ax.tick_params(labelsize=18)\n",
    "cb.set_label(r\"$|m_z|$\",fontsize=22)\n",
    "plt.xticks(np.arange(Lx))\n",
    "\n",
    "plt.ylabel(\"$t$\",fontsize=22)\n",
    "plt.xlabel(\"$j$\",fontsize=22)\n",
    "plt.tick_params(labelsize=18)\n",
    "\n",
    "plt.subplot(223)\n",
    "plt.imshow(np.abs(mz_[:,0,:]),origin='lower',cmap=sns.color_palette('icefire',as_cmap=True),aspect='auto')\n",
    "cb = plt.colorbar()\n",
    "cb.ax.tick_params(labelsize=18)\n",
    "cb.set_label(r\"$|m_z|$\",fontsize=22)\n",
    "plt.ylabel(\"$t$\",fontsize=22)\n",
    "plt.xlabel(\"$j$\",fontsize=22)\n",
    "plt.tick_params(labelsize=18)\n",
    "plt.xticks(np.arange(Lx))\n",
    "\n",
    "plt.subplot(224)\n",
    "plt.imshow(np.abs(mz_[:,-1,:]),origin='lower',cmap=sns.color_palette('icefire',as_cmap=True),aspect='auto')\n",
    "cb = plt.colorbar()\n",
    "cb.ax.tick_params(labelsize=18)\n",
    "cb.set_label(r\"$|m_z|$\",fontsize=22)\n",
    "plt.xticks(np.arange(Lx))\n",
    "\n",
    "plt.clim(min(np.abs(mz_[:,0,:]).flatten()),max(np.abs(mz_[:,0,:]).flatten()))\n",
    "plt.ylabel(\"$t$\",fontsize=22)\n",
    "plt.xlabel(\"$j$\",fontsize=22)\n",
    "plt.tick_params(labelsize=18)\n",
    "\n",
    "plt.tight_layout()\n",
    "\n",
    "plt.savefig(\"pm.png\")"
   ]
  },
  {
   "cell_type": "code",
   "execution_count": 17,
   "id": "74973489",
   "metadata": {},
   "outputs": [
    {
     "data": {
      "image/png": "[encoded data removed]",
      "text/plain": [
       "<Figure size 432x288 with 2 Axes>"
      ]
     },
     "metadata": {
      "needs_background": "light"
     },
     "output_type": "display_data"
    }
   ],
   "source": [
    "plt.imshow(np.abs(mz_[50].real),cmap=sns.color_palette('icefire',as_cmap=True))\n",
    "plt.colorbar()\n",
    "\n",
    "plt.savefig(\"perche.png\")\n",
    "#H.contractMPOMPS(time_engine.MPS)"
   ]
  }
 ],
 "metadata": {
  "kernelspec": {
   "display_name": "Python 3",
   "language": "python",
   "name": "python3"
  },
  "language_info": {
   "codemirror_mode": {
    "name": "ipython",
    "version": 3
   },
   "file_extension": ".py",
   "mimetype": "text/x-python",
   "name": "python",
   "nbconvert_exporter": "python",
   "pygments_lexer": "ipython3",
   "version": "3.8.8"
  }
 },
 "nbformat": 4,
 "nbformat_minor": 5
}
