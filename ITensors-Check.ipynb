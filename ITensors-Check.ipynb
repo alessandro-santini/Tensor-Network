{
 "cells": [
  {
   "cell_type": "code",
   "execution_count": 1,
   "id": "bf9da26e",
   "metadata": {},
   "outputs": [
    {
     "data": {
      "text/plain": [
       "Plots.PyPlotBackend()"
      ]
     },
     "execution_count": 1,
     "metadata": {},
     "output_type": "execute_result"
    }
   ],
   "source": [
    "using ITensors\n",
    "using PyCall\n",
    "\n",
    "np = pyimport(\"numpy\")\n",
    "\n",
    "using Plots\n",
    "pyplot()"
   ]
  },
  {
   "cell_type": "code",
   "execution_count": 47,
   "id": "3f5ca6df",
   "metadata": {},
   "outputs": [
    {
     "name": "stdout",
     "output_type": "stream",
     "text": [
      "1 4\n",
      "2 5\n",
      "3 6\n",
      "4 7\n",
      "5 8\n",
      "6 9\n",
      "sweeps = Sweeps\n",
      "1 cutoff=1.0E-17, maxdim=10, mindim=1, noise=0.0E+00\n",
      "2 cutoff=1.0E-17, maxdim=20, mindim=1, noise=0.0E+00\n",
      "3 cutoff=1.0E-17, maxdim=100, mindim=1, noise=0.0E+00\n",
      "4 cutoff=1.0E-17, maxdim=200, mindim=1, noise=0.0E+00\n",
      "5 cutoff=1.0E-17, maxdim=300, mindim=1, noise=0.0E+00\n",
      "6 cutoff=1.0E-17, maxdim=300, mindim=1, noise=0.0E+00\n",
      "7 cutoff=1.0E-17, maxdim=400, mindim=1, noise=0.0E+00\n",
      "8 cutoff=1.0E-17, maxdim=500, mindim=1, noise=0.0E+00\n",
      "9 cutoff=1.0E-17, maxdim=600, mindim=1, noise=0.0E+00\n",
      "10 cutoff=1.0E-17, maxdim=1000, mindim=1, noise=0.0E+00\n",
      "\n",
      "After sweep 1 energy=-13.764411239928 maxlinkdim=4 maxerr=0.00E+00 time=0.006\n",
      "After sweep 2 energy=-13.813534889499 maxlinkdim=16 maxerr=0.00E+00 time=0.007\n",
      "After sweep 3 energy=-13.814889727919 maxlinkdim=16 maxerr=0.00E+00 time=0.023\n",
      "After sweep 4 energy=-13.816868706038 maxlinkdim=16 maxerr=0.00E+00 time=0.009\n",
      "After sweep 5 energy=-13.818383858397 maxlinkdim=16 maxerr=0.00E+00 time=0.007\n",
      "After sweep 6 energy=-13.819450307434 maxlinkdim=16 maxerr=0.00E+00 time=0.010\n",
      "After sweep 7 energy=-13.820150309801 maxlinkdim=16 maxerr=0.00E+00 time=0.008\n",
      "After sweep 8 energy=-13.820489980825 maxlinkdim=16 maxerr=0.00E+00 time=0.008\n",
      "After sweep 9 energy=-13.820621613692 maxlinkdim=16 maxerr=0.00E+00 time=0.010\n",
      "After sweep 10 energy=-13.820701482024 maxlinkdim=16 maxerr=0.00E+00 time=0.009\n",
      "Final energy = -13.820701482023942\n"
     ]
    }
   ],
   "source": [
    "h = 1.\n",
    "J = 1\n",
    "\n",
    "Lx = 3\n",
    "Ly = 3\n",
    "\n",
    "L  = Lx*Ly\n",
    "\n",
    "sites = siteinds(\"S=1/2\",L)\n",
    "psi0 = randomMPS(sites)\n",
    "ampo = OpSum()\n",
    "\n",
    "for i=1:L\n",
    "    val = mod(i,Ly)\n",
    "    if mod(i,Ly) != 0\n",
    "        #println(\"$i $val\")\n",
    "        if i != L\n",
    "            ampo += -4*J,\"Sz\",i,\"Sz\",i+1\n",
    "        end\n",
    "    end\n",
    "    if i <= (Lx-1)*Ly\n",
    "        val = i + Ly\n",
    "        println(\"$i $val\")\n",
    "        ampo += -4*J,\"Sz\",i,\"Sz\",i+Ly\n",
    "    end\n",
    "    ampo += -2*h,\"Sx\",i\n",
    "end\n",
    "\n",
    "H = MPO(ampo,sites)\n",
    "\n",
    "sweeps = Sweeps(10)\n",
    "setmaxdim!(sweeps, 10,20,100,200,300,300,400,500,600,1000)\n",
    "setcutoff!(sweeps, 1E-17)\n",
    "\n",
    "@show sweeps\n",
    "\n",
    "#z_observer = DMRGObserver([\"Sz\",\"Sx\"],sites,energy_tol=1E-12)\n",
    "\n",
    "energy, psi = dmrg(H, psi0, sweeps)#,observer=Sz_observer)\n",
    "println(\"Final energy = $energy\")"
   ]
  },
  {
   "cell_type": "code",
   "execution_count": 41,
   "id": "57a62bd4",
   "metadata": {},
   "outputs": [
    {
     "data": {
      "text/plain": [
       "12×12×2×2 Array{Float64,4}:\n",
       "[:, :, 1, 1] =\n",
       "  1.0       0.0   0.0        0.0  0.0  …  0.0  0.0  0.0   0.0        0.0\n",
       "  0.0       1.0  -2.75276    0.0  0.0     0.0  0.0  0.0   0.0       -0.649839\n",
       "  0.425325  0.0   0.0        0.0  0.0     0.0  0.0  0.0  -0.525731   0.0\n",
       "  0.0       0.0   0.850651   0.0  0.0     0.0  0.0  0.0   0.0       -0.525731\n",
       "  0.0       0.0   0.0       -1.0  0.0     0.0  0.0  0.0   0.0        0.0\n",
       "  0.0       0.0   0.0        0.0  1.0  …  0.0  0.0  0.0   0.0        0.0\n",
       "  0.0       0.0   0.0        0.0  0.0     0.0  0.0  0.0   0.0        0.0\n",
       "  0.0       0.0   0.0        0.0  0.0     0.0  0.0  0.0   0.0        0.0\n",
       "  0.0       0.0   0.0        0.0  0.0     1.0  0.0  0.0   0.0        0.0\n",
       "  0.0       0.0   0.0        0.0  0.0     0.0  1.0  0.0   0.0        0.0\n",
       "  0.0       0.0   0.0        0.0  0.0  …  0.0  0.0  1.0   0.0        0.0\n",
       " -0.262866  0.0   0.0        0.0  0.0     0.0  0.0  0.0  -0.850651   0.0\n",
       "\n",
       "[:, :, 2, 1] =\n",
       " 0.0  0.0  0.0  0.0  0.0  0.0  0.0  0.0  0.0  0.0  0.0  0.0\n",
       " 0.0  0.0  0.0  0.0  0.0  0.0  0.0  0.0  0.0  0.0  0.0  0.0\n",
       " 0.0  0.0  0.0  0.0  0.0  0.0  0.0  0.0  0.0  0.0  0.0  0.0\n",
       " 0.0  0.0  0.0  0.0  0.0  0.0  0.0  0.0  0.0  0.0  0.0  0.0\n",
       " 0.0  0.0  0.0  0.0  0.0  0.0  0.0  0.0  0.0  0.0  0.0  0.0\n",
       " 0.0  0.0  0.0  0.0  0.0  0.0  0.0  0.0  0.0  0.0  0.0  0.0\n",
       " 0.0  0.0  0.0  0.0  0.0  0.0  0.0  0.0  0.0  0.0  0.0  0.0\n",
       " 0.0  0.0  0.0  0.0  0.0  0.0  0.0  0.0  0.0  0.0  0.0  0.0\n",
       " 0.0  0.0  0.0  0.0  0.0  0.0  0.0  0.0  0.0  0.0  0.0  0.0\n",
       " 0.0  0.0  0.0  0.0  0.0  0.0  0.0  0.0  0.0  0.0  0.0  0.0\n",
       " 0.0  0.0  0.0  0.0  0.0  0.0  0.0  0.0  0.0  0.0  0.0  0.0\n",
       " 0.0  0.0  0.0  0.0  0.0  0.0  0.0  0.0  0.0  0.0  0.0  0.0\n",
       "\n",
       "[:, :, 1, 2] =\n",
       " 0.0  0.0  0.0  0.0  0.0  0.0  0.0  0.0  0.0  0.0  0.0  0.0\n",
       " 0.0  0.0  0.0  0.0  0.0  0.0  0.0  0.0  0.0  0.0  0.0  0.0\n",
       " 0.0  0.0  0.0  0.0  0.0  0.0  0.0  0.0  0.0  0.0  0.0  0.0\n",
       " 0.0  0.0  0.0  0.0  0.0  0.0  0.0  0.0  0.0  0.0  0.0  0.0\n",
       " 0.0  0.0  0.0  0.0  0.0  0.0  0.0  0.0  0.0  0.0  0.0  0.0\n",
       " 0.0  0.0  0.0  0.0  0.0  0.0  0.0  0.0  0.0  0.0  0.0  0.0\n",
       " 0.0  0.0  0.0  0.0  0.0  0.0  0.0  0.0  0.0  0.0  0.0  0.0\n",
       " 0.0  0.0  0.0  0.0  0.0  0.0  0.0  0.0  0.0  0.0  0.0  0.0\n",
       " 0.0  0.0  0.0  0.0  0.0  0.0  0.0  0.0  0.0  0.0  0.0  0.0\n",
       " 0.0  0.0  0.0  0.0  0.0  0.0  0.0  0.0  0.0  0.0  0.0  0.0\n",
       " 0.0  0.0  0.0  0.0  0.0  0.0  0.0  0.0  0.0  0.0  0.0  0.0\n",
       " 0.0  0.0  0.0  0.0  0.0  0.0  0.0  0.0  0.0  0.0  0.0  0.0\n",
       "\n",
       "[:, :, 2, 2] =\n",
       "  1.0       0.0  0.0        0.0  0.0  …  0.0  0.0  0.0   0.0        0.0\n",
       "  0.0       1.0  2.75276    0.0  0.0     0.0  0.0  0.0   0.0        0.649839\n",
       " -0.425325  0.0  0.0        0.0  0.0     0.0  0.0  0.0  -0.525731   0.0\n",
       "  0.0       0.0  0.850651   0.0  0.0     0.0  0.0  0.0   0.0       -0.525731\n",
       "  0.0       0.0  0.0       -1.0  0.0     0.0  0.0  0.0   0.0        0.0\n",
       "  0.0       0.0  0.0        0.0  1.0  …  0.0  0.0  0.0   0.0        0.0\n",
       "  0.0       0.0  0.0        0.0  0.0     0.0  0.0  0.0   0.0        0.0\n",
       "  0.0       0.0  0.0        0.0  0.0     0.0  0.0  0.0   0.0        0.0\n",
       "  0.0       0.0  0.0        0.0  0.0     1.0  0.0  0.0   0.0        0.0\n",
       "  0.0       0.0  0.0        0.0  0.0     0.0  1.0  0.0   0.0        0.0\n",
       "  0.0       0.0  0.0        0.0  0.0  …  0.0  0.0  1.0   0.0        0.0\n",
       "  0.262866  0.0  0.0        0.0  0.0     0.0  0.0  0.0  -0.850651   0.0"
      ]
     },
     "execution_count": 41,
     "metadata": {},
     "output_type": "execute_result"
    }
   ],
   "source": [
    "np.array(H.data[26].tensor)"
   ]
  },
  {
   "cell_type": "code",
   "execution_count": 51,
   "id": "d21c0e95",
   "metadata": {},
   "outputs": [
    {
     "name": "stderr",
     "output_type": "stream",
     "text": [
      "┌ Info: Precompiling TimeEvoMPS [1bec0e0a-d6ff-11e9-2fd9-7928ca571592]\n",
      "└ @ Base loading.jl:1278\n"
     ]
    }
   ],
   "source": [
    "using TimeEvoMPS"
   ]
  },
  {
   "cell_type": "code",
   "execution_count": 55,
   "id": "94718aa7",
   "metadata": {},
   "outputs": [
    {
     "name": "stderr",
     "output_type": "stream",
     "text": [
      "┌ Warning: ProgressMeter by default refresh meters with additional information in IJulia via `IJulia.clear_output`, which clears all outputs in the cell. \n",
      "│  - To prevent this behaviour, do `ProgressMeter.ijulia_behavior(:append)`. \n",
      "│  - To disable this warning message, do `ProgressMeter.ijulia_behavior(:clear)`.\n",
      "└ @ ProgressMeter C:\\Users\\asant\\.julia\\packages\\ProgressMeter\\Vf8un\\src\\ProgressMeter.jl:620\n",
      "\r",
      "\u001b[32mEvolving state... 100%|█████████████████████████████████| Time: 0:01:49\u001b[39m\r\n",
      "\u001b[34m  t:             5.0\u001b[39m\r\n",
      "\u001b[34m  dt step time:  1.854\u001b[39m\r\n",
      "\u001b[34m  Max bond-dim:  30\u001b[39m\n"
     ]
    }
   ],
   "source": [
    "N = L\n",
    "psi = productMPS(sites, fill(\"↑\",N))\n",
    "cb = LocalMeasurementCallback([\"Sz\",\"Sx\",\"Sy\"], sites, 0.2)\n",
    "tdvp!(psi,H,0.1,5,maxdim=30,callback=cb)"
   ]
  },
  {
   "cell_type": "code",
   "execution_count": null,
   "id": "156fab75",
   "metadata": {},
   "outputs": [],
   "source": [
    "dag(psi)*H*psi"
   ]
  }
 ],
 "metadata": {
  "kernelspec": {
   "display_name": "Julia 1.5.3",
   "language": "julia",
   "name": "julia-1.5"
  },
  "language_info": {
   "file_extension": ".jl",
   "mimetype": "application/julia",
   "name": "julia",
   "version": "1.5.3"
  }
 },
 "nbformat": 4,
 "nbformat_minor": 5
}
