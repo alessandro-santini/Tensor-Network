{
 "cells": [
  {
   "cell_type": "code",
   "execution_count": 1,
   "id": "34dec9c8",
   "metadata": {},
   "outputs": [],
   "source": [
    "import dmrg2 as dmrg\n",
    "import dmrg1 as dmrg1\n",
    "import SpinSystems_1d as SS1d\n",
    "import numpy as np\n",
    "import matplotlib.pyplot as plt\n",
    "from ncon import ncon\n",
    "import MPO_class as MPO\n",
    "import MPS_class as MPS\n",
    "import seaborn as sns\n",
    "\n",
    "import tdvp2 as tdvp\n",
    "import MPS_class as MPS\n",
    "import tdvp as tdvp1\n",
    "\n",
    "#%matplotlib notebook \n"
   ]
  },
  {
   "cell_type": "code",
   "execution_count": 2,
   "id": "30699af7",
   "metadata": {},
   "outputs": [],
   "source": [
    "# 0.5, 0.2, 0.1"
   ]
  },
  {
   "cell_type": "code",
   "execution_count": 3,
   "id": "70214c79",
   "metadata": {},
   "outputs": [],
   "source": [
    "h = 0\n",
    "J = 1\n",
    "\n",
    "def apply_flip(M,epsilon):\n",
    "    theta = np.pi+2*epsilon\n",
    "    flip = np.eye(2)*np.cos(theta/2) - 1j*np.sin(theta/2)*np.array([[0,1],[1,0]])\n",
    "    for i in range(len(M)):\n",
    "        M[i] = ncon([M[i],flip],[[-1,1,-3],[1,-2]])"
   ]
  },
  {
   "cell_type": "code",
   "execution_count": 4,
   "id": "e3448b03",
   "metadata": {},
   "outputs": [
    {
     "name": "stdout",
     "output_type": "stream",
     "text": [
      "epsilon 0.1 step 0 Border, \\Delta mz:  0.0\n"
     ]
    },
    {
     "name": "stderr",
     "output_type": "stream",
     "text": [
      "C:\\Users\\asant\\Documents\\GitHub\\Tensor-Network\\LanczosRoutines.py:38: RuntimeWarning: beta[0] ~= 0 encountered during Lanczos iteration.\n",
      "  warnings.warn(\n",
      "C:\\Users\\asant\\Documents\\GitHub\\Tensor-Network\\LanczosRoutines.py:38: RuntimeWarning: beta[1] ~= 0 encountered during Lanczos iteration.\n",
      "  warnings.warn(\n",
      "C:\\Users\\asant\\Documents\\GitHub\\Tensor-Network\\LanczosRoutines.py:38: RuntimeWarning: beta[3] ~= 0 encountered during Lanczos iteration.\n",
      "  warnings.warn(\n",
      "C:\\Users\\asant\\Documents\\GitHub\\Tensor-Network\\LanczosRoutines.py:38: RuntimeWarning: beta[2] ~= 0 encountered during Lanczos iteration.\n",
      "  warnings.warn(\n",
      "C:\\Users\\asant\\Documents\\GitHub\\Tensor-Network\\LanczosRoutines.py:38: RuntimeWarning: beta[5] ~= 0 encountered during Lanczos iteration.\n",
      "  warnings.warn(\n"
     ]
    },
    {
     "name": "stdout",
     "output_type": "stream",
     "text": [
      "epsilon 0.1 step 1 Border, \\Delta mz:  -2.220446049250313e-16\n",
      "epsilon 0.1 step 2 Border, \\Delta mz:  -9.992007221626409e-16\n",
      "epsilon 0.1 step 3 Border, \\Delta mz:  -2.220446049250313e-16\n",
      "epsilon 0.1 step 4 Border, \\Delta mz:  1.7763568394002505e-14\n",
      "epsilon 0.1 step 5 Border, \\Delta mz:  1.3511414209688155e-13\n",
      "epsilon 0.1 step 6 Border, \\Delta mz:  5.4289905904170155e-14\n",
      "epsilon 0.1 step 7 Border, \\Delta mz:  -2.662203790748663e-12\n",
      "epsilon 0.1 step 8 Border, \\Delta mz:  2.6643132144954507e-12\n",
      "epsilon 0.1 step 9 Border, \\Delta mz:  9.900413822094833e-12\n",
      "epsilon 0.1 step 10 Border, \\Delta mz:  8.662293105032859e-12\n",
      "epsilon 0.1 step 11 Border, \\Delta mz:  -1.3829937195453113e-11\n",
      "epsilon 0.1 step 12 Border, \\Delta mz:  -3.645339585744978e-11\n",
      "epsilon 0.1 step 13 Border, \\Delta mz:  -1.5729084701376905e-11\n",
      "epsilon 0.1 step 14 Border, \\Delta mz:  4.4386494479908833e-11\n",
      "epsilon 0.1 step 15 Border, \\Delta mz:  7.846312488624108e-11\n",
      "epsilon 0.1 step 16 Border, \\Delta mz:  1.030586727068794e-11\n",
      "epsilon 0.1 step 17 Border, \\Delta mz:  -1.0470757594305269e-10\n",
      "epsilon 0.1 step 18 Border, \\Delta mz:  -1.285254125349411e-10\n",
      "epsilon 0.1 step 19 Border, \\Delta mz:  2.8635649407249275e-11\n",
      "epsilon 0.1 step 20 Border, \\Delta mz:  1.8731205475575052e-10\n",
      "epsilon 0.2 step 0 Border, \\Delta mz:  0.0\n",
      "epsilon 0.2 step 1 Border, \\Delta mz:  -1.1102230246251565e-16\n",
      "epsilon 0.2 step 2 Border, \\Delta mz:  -4.551914400963142e-15\n",
      "epsilon 0.2 step 3 Border, \\Delta mz:  -1.5543122344752192e-15\n",
      "epsilon 0.2 step 4 Border, \\Delta mz:  -3.6126657221302594e-13\n",
      "epsilon 0.2 step 5 Border, \\Delta mz:  3.2391866966463567e-12\n",
      "epsilon 0.2 step 6 Border, \\Delta mz:  -5.14392972661426e-11\n",
      "epsilon 0.2 step 7 Border, \\Delta mz:  -7.78535014234194e-11\n",
      "epsilon 0.2 step 8 Border, \\Delta mz:  5.5644266971910383e-11\n",
      "epsilon 0.2 step 9 Border, \\Delta mz:  2.5733237762892713e-10\n",
      "epsilon 0.2 step 10 Border, \\Delta mz:  1.4956413885158781e-10\n",
      "epsilon 0.2 step 11 Border, \\Delta mz:  -1.5446122159090692e-10\n",
      "epsilon 0.2 step 12 Border, \\Delta mz:  -3.721741803630607e-10\n",
      "epsilon 0.2 step 13 Border, \\Delta mz:  -1.247469905152343e-10\n",
      "epsilon 0.2 step 14 Border, \\Delta mz:  1.1486145368166945e-10\n",
      "epsilon 0.2 step 15 Border, \\Delta mz:  1.467166388380292e-10\n",
      "epsilon 0.2 step 16 Border, \\Delta mz:  1.865112508880884e-10\n",
      "epsilon 0.2 step 17 Border, \\Delta mz:  1.872134669511638e-10\n",
      "epsilon 0.2 step 18 Border, \\Delta mz:  -1.4677548065833435e-10\n",
      "epsilon 0.2 step 19 Border, \\Delta mz:  -6.322514733980711e-10\n",
      "epsilon 0.2 step 20 Border, \\Delta mz:  -2.4733526338138745e-10\n",
      "epsilon 0.3 step 0 Border, \\Delta mz:  0.0\n",
      "epsilon 0.3 step 1 Border, \\Delta mz:  -1.1102230246251565e-16\n",
      "epsilon 0.3 step 2 Border, \\Delta mz:  -1.199040866595169e-14\n",
      "epsilon 0.3 step 3 Border, \\Delta mz:  6.661338147750939e-16\n",
      "epsilon 0.3 step 4 Border, \\Delta mz:  -2.5479618415147343e-13\n",
      "epsilon 0.3 step 5 Border, \\Delta mz:  -2.105871033108997e-12\n",
      "epsilon 0.3 step 6 Border, \\Delta mz:  1.1209810857337743e-11\n",
      "epsilon 0.3 step 7 Border, \\Delta mz:  -1.1834311308689394e-11\n",
      "epsilon 0.3 step 8 Border, \\Delta mz:  -1.0955347740093657e-11\n",
      "epsilon 0.3 step 9 Border, \\Delta mz:  -7.569100901605452e-11\n",
      "epsilon 0.3 step 10 Border, \\Delta mz:  -8.653300298533395e-12\n",
      "epsilon 0.3 step 11 Border, \\Delta mz:  -9.675893419824888e-11\n",
      "epsilon 0.3 step 12 Border, \\Delta mz:  -2.7004032343569406e-10\n",
      "epsilon 0.3 step 13 Border, \\Delta mz:  -7.254029599224054e-10\n",
      "epsilon 0.3 step 14 Border, \\Delta mz:  1.0955425011616171e-08\n",
      "epsilon 0.3 step 15 Border, \\Delta mz:  -8.052657363144533e-08\n",
      "epsilon 0.3 step 16 Border, \\Delta mz:  1.8024143300099382e-07\n",
      "epsilon 0.3 step 17 Border, \\Delta mz:  3.033455097112281e-07\n",
      "epsilon 0.3 step 18 Border, \\Delta mz:  8.297325493344943e-08\n",
      "epsilon 0.3 step 19 Border, \\Delta mz:  2.3346396671453107e-07\n",
      "epsilon 0.3 step 20 Border, \\Delta mz:  -1.0285227136641595e-06\n",
      "epsilon 0.4 step 0 Border, \\Delta mz:  0.0\n",
      "epsilon 0.4 step 1 Border, \\Delta mz:  -1.1102230246251565e-16\n",
      "epsilon 0.4 step 2 Border, \\Delta mz:  1.2323475573339238e-14\n",
      "epsilon 0.4 step 3 Border, \\Delta mz:  3.6637359812630166e-15\n",
      "epsilon 0.4 step 4 Border, \\Delta mz:  4.6629367034256575e-15\n",
      "epsilon 0.4 step 5 Border, \\Delta mz:  3.6637359812630166e-14\n",
      "epsilon 0.4 step 6 Border, \\Delta mz:  5.2337911782274205e-11\n",
      "epsilon 0.4 step 7 Border, \\Delta mz:  -7.650491351540722e-11\n",
      "epsilon 0.4 step 8 Border, \\Delta mz:  8.152001296224398e-11\n",
      "epsilon 0.4 step 9 Border, \\Delta mz:  -1.8434920256993337e-10\n",
      "epsilon 0.4 step 10 Border, \\Delta mz:  7.186385930779693e-10\n",
      "epsilon 0.4 step 11 Border, \\Delta mz:  -2.2646933954817428e-06\n",
      "epsilon 0.4 step 12 Border, \\Delta mz:  3.716763945393886e-06\n",
      "epsilon 0.4 step 13 Border, \\Delta mz:  -2.726473732828083e-05\n",
      "epsilon 0.4 step 14 Border, \\Delta mz:  8.101165546314792e-05\n",
      "epsilon 0.4 step 15 Border, \\Delta mz:  -0.00010663085381912296\n",
      "epsilon 0.4 step 16 Border, \\Delta mz:  0.00011398220437530693\n",
      "epsilon 0.4 step 17 Border, \\Delta mz:  -0.00011193622063399022\n",
      "epsilon 0.4 step 18 Border, \\Delta mz:  6.411677611539712e-05\n",
      "epsilon 0.4 step 19 Border, \\Delta mz:  -2.297701677989039e-05\n",
      "epsilon 0.4 step 20 Border, \\Delta mz:  0.00018169156428737843\n",
      "epsilon 0.5 step 0 Border, \\Delta mz:  0.0\n",
      "epsilon 0.5 step 1 Border, \\Delta mz:  -2.220446049250313e-16\n"
     ]
    },
    {
     "name": "stderr",
     "output_type": "stream",
     "text": [
      "C:\\Users\\asant\\Documents\\GitHub\\Tensor-Network\\LanczosRoutines.py:38: RuntimeWarning: beta[4] ~= 0 encountered during Lanczos iteration.\n",
      "  warnings.warn(\n",
      "C:\\Users\\asant\\Documents\\GitHub\\Tensor-Network\\LanczosRoutines.py:38: RuntimeWarning: beta[7] ~= 0 encountered during Lanczos iteration.\n",
      "  warnings.warn(\n"
     ]
    },
    {
     "name": "stdout",
     "output_type": "stream",
     "text": [
      "epsilon 0.5 step 2 Border, \\Delta mz:  -1.6653345369377348e-15\n",
      "epsilon 0.5 step 3 Border, \\Delta mz:  -1.4432899320127035e-15\n",
      "epsilon 0.5 step 4 Border, \\Delta mz:  1.6653345369377348e-15\n",
      "epsilon 0.5 step 5 Border, \\Delta mz:  -2.142730437526552e-14\n",
      "epsilon 0.5 step 6 Border, \\Delta mz:  -4.96713781217295e-13\n",
      "epsilon 0.5 step 7 Border, \\Delta mz:  -3.4597102960276516e-11\n",
      "epsilon 0.5 step 8 Border, \\Delta mz:  5.968747718299028e-11\n",
      "epsilon 0.5 step 9 Border, \\Delta mz:  -9.647033634152535e-07\n",
      "epsilon 0.5 step 10 Border, \\Delta mz:  -1.1543489979670696e-05\n",
      "epsilon 0.5 step 11 Border, \\Delta mz:  -0.00011748904377872904\n",
      "epsilon 0.5 step 12 Border, \\Delta mz:  8.547308811501786e-05\n",
      "epsilon 0.5 step 13 Border, \\Delta mz:  9.954239971965428e-06\n",
      "epsilon 0.5 step 14 Border, \\Delta mz:  -6.366892815001801e-05\n",
      "epsilon 0.5 step 15 Border, \\Delta mz:  0.00012322056202274112\n",
      "epsilon 0.5 step 16 Border, \\Delta mz:  -0.00019826704600356404\n",
      "epsilon 0.5 step 17 Border, \\Delta mz:  0.00025647544258566857\n",
      "epsilon 0.5 step 18 Border, \\Delta mz:  -0.0008664787535044294\n",
      "epsilon 0.5 step 19 Border, \\Delta mz:  -0.0008562792766640959\n",
      "epsilon 0.5 step 20 Border, \\Delta mz:  -0.001113914621416634\n"
     ]
    }
   ],
   "source": [
    "dt = 1\n",
    "k  = 6\n",
    "\n",
    "Mz_eps =[]\n",
    "ent_eps = []\n",
    "\n",
    "L = 121\n",
    "MzMPO = MPO.getMzMPO(L)\n",
    "\n",
    "for epsilon in [0.1,0.2,0.3,0.4,0.5]:\n",
    "    H = SS1d.IsingMPO(L,h,J)\n",
    "    time_engine = tdvp.TDVP2(MPS.getAllUp(L),H,64)\n",
    "\n",
    "    mz_list = []\n",
    "    t_list = []\n",
    "    Mz_list = []\n",
    "    ent_  = []  \n",
    "    t_list.append(0.)\n",
    "    \n",
    "    mz_list.append(MPO.return_LocalMz(time_engine.MPS))#.real.reshape(Lx,Ly))\n",
    "    Mz_list.append(MzMPO.contractMPOMPS(time_engine.MPS).real)\n",
    "    ent_.append(time_engine.MPS.compute_EntEntropy())\n",
    "\n",
    "    for j in range(21):\n",
    "        print('epsilon',epsilon,'step',j,r'Border, \\Delta mz: ',mz_list[j][0].real-mz_list[j][-1].real)\n",
    "        time_engine.initialize()\n",
    "\n",
    "        # Evolve the state of t1->t2, t2-t1=0.5\n",
    "        for _ in range(k):\n",
    "            time_engine.time_step(dt/k,1e-9)\n",
    "\n",
    "        apply_flip(time_engine.MPS.M, epsilon)\n",
    "\n",
    "        t_list.append((j+1)*dt)\n",
    "        mz_list.append(MPO.return_LocalMz(time_engine.MPS))#.real.reshape(Lx,Ly))\n",
    "        Mz_list.append(MzMPO.contractMPOMPS(time_engine.MPS))\n",
    "        ent_.append(time_engine.MPS.compute_EntEntropy())\n",
    "    \n",
    "    Mz_eps.append(Mz_list)\n",
    "    ent_eps.append(ent_)"
   ]
  },
  {
   "cell_type": "code",
   "execution_count": 5,
   "id": "0a068cbd",
   "metadata": {},
   "outputs": [],
   "source": [
    "Mz = np.array(Mz_list).real"
   ]
  },
  {
   "cell_type": "code",
   "execution_count": 6,
   "id": "c1af6136",
   "metadata": {},
   "outputs": [
    {
     "ename": "NameError",
     "evalue": "name 'mz_' is not defined",
     "output_type": "error",
     "traceback": [
      "\u001b[1;31m---------------------------------------------------------------------------\u001b[0m",
      "\u001b[1;31mNameError\u001b[0m                                 Traceback (most recent call last)",
      "\u001b[1;32m<ipython-input-6-8ebeff011ba3>\u001b[0m in \u001b[0;36m<module>\u001b[1;34m\u001b[0m\n\u001b[1;32m----> 1\u001b[1;33m \u001b[0mnp\u001b[0m\u001b[1;33m.\u001b[0m\u001b[0mallclose\u001b[0m\u001b[1;33m(\u001b[0m\u001b[0mMz\u001b[0m\u001b[1;33m,\u001b[0m\u001b[0mmz_\u001b[0m\u001b[1;33m.\u001b[0m\u001b[0msum\u001b[0m\u001b[1;33m(\u001b[0m\u001b[0maxis\u001b[0m\u001b[1;33m=\u001b[0m\u001b[1;36m1\u001b[0m\u001b[1;33m)\u001b[0m\u001b[1;33m)\u001b[0m\u001b[1;33m\u001b[0m\u001b[1;33m\u001b[0m\u001b[0m\n\u001b[0m",
      "\u001b[1;31mNameError\u001b[0m: name 'mz_' is not defined"
     ]
    }
   ],
   "source": [
    "np.allclose(Mz,mz_.sum(axis=1))"
   ]
  },
  {
   "cell_type": "code",
   "execution_count": null,
   "id": "0b7d5624",
   "metadata": {},
   "outputs": [],
   "source": [
    "Mz.shape"
   ]
  },
  {
   "cell_type": "code",
   "execution_count": null,
   "id": "7e5c84b4",
   "metadata": {},
   "outputs": [],
   "source": [
    "for x in time_engine.MPS.M:\n",
    "    print(x.shape)"
   ]
  },
  {
   "cell_type": "code",
   "execution_count": 23,
   "id": "8ca61090",
   "metadata": {},
   "outputs": [],
   "source": [
    "mz_ = np.array(mz_list).reshape(len(mz_list),L).real"
   ]
  },
  {
   "cell_type": "code",
   "execution_count": 24,
   "id": "af232946",
   "metadata": {},
   "outputs": [
    {
     "data": {
      "text/plain": [
       "<matplotlib.colorbar.Colorbar at 0x26fa468cdc0>"
      ]
     },
     "execution_count": 24,
     "metadata": {},
     "output_type": "execute_result"
    },
    {
     "data": {
      "image/png": "[encoded data removed]",
      "text/plain": [
       "<Figure size 432x288 with 2 Axes>"
      ]
     },
     "metadata": {
      "needs_background": "light"
     },
     "output_type": "display_data"
    }
   ],
   "source": [
    "plt.imshow(np.abs(mz_),origin='lower',aspect='auto')\n",
    "plt.colorbar()"
   ]
  },
  {
   "cell_type": "code",
   "execution_count": null,
   "id": "f1dcc8d0",
   "metadata": {},
   "outputs": [],
   "source": []
  },
  {
   "cell_type": "code",
   "execution_count": 8,
   "id": "59210c79",
   "metadata": {},
   "outputs": [
    {
     "ename": "IndexError",
     "evalue": "index 20 is out of bounds for axis 0 with size 19",
     "output_type": "error",
     "traceback": [
      "\u001b[1;31m---------------------------------------------------------------------------\u001b[0m",
      "\u001b[1;31mIndexError\u001b[0m                                Traceback (most recent call last)",
      "\u001b[1;32m<ipython-input-8-c46903578696>\u001b[0m in \u001b[0;36m<module>\u001b[1;34m\u001b[0m\n\u001b[1;32m----> 1\u001b[1;33m \u001b[0mplt\u001b[0m\u001b[1;33m.\u001b[0m\u001b[0mplot\u001b[0m\u001b[1;33m(\u001b[0m\u001b[0mnp\u001b[0m\u001b[1;33m.\u001b[0m\u001b[0mabs\u001b[0m\u001b[1;33m(\u001b[0m\u001b[0mmz_\u001b[0m\u001b[1;33m[\u001b[0m\u001b[1;36m20\u001b[0m\u001b[1;33m,\u001b[0m\u001b[1;33m:\u001b[0m\u001b[1;33m]\u001b[0m\u001b[1;33m)\u001b[0m\u001b[1;33m)\u001b[0m\u001b[1;33m\u001b[0m\u001b[1;33m\u001b[0m\u001b[0m\n\u001b[0m",
      "\u001b[1;31mIndexError\u001b[0m: index 20 is out of bounds for axis 0 with size 19"
     ]
    }
   ],
   "source": [
    "plt.plot(np.abs(mz_[20,:]))"
   ]
  },
  {
   "cell_type": "code",
   "execution_count": 9,
   "id": "fbdca359",
   "metadata": {
    "scrolled": true
   },
   "outputs": [
    {
     "data": {
      "text/plain": [
       "[<matplotlib.lines.Line2D at 0x1c11c081940>]"
      ]
     },
     "execution_count": 9,
     "metadata": {},
     "output_type": "execute_result"
    },
    {
     "data": {
      "image/png": "[encoded data removed]",
      "text/plain": [
       "<Figure size 432x288 with 1 Axes>"
      ]
     },
     "metadata": {
      "needs_background": "light"
     },
     "output_type": "display_data"
    }
   ],
   "source": [
    "plt.plot(mz_[1,:].real)"
   ]
  },
  {
   "cell_type": "code",
   "execution_count": 10,
   "id": "9bc1b217",
   "metadata": {},
   "outputs": [
    {
     "ename": "NameError",
     "evalue": "name 'pcov' is not defined",
     "output_type": "error",
     "traceback": [
      "\u001b[1;31m---------------------------------------------------------------------------\u001b[0m",
      "\u001b[1;31mNameError\u001b[0m                                 Traceback (most recent call last)",
      "\u001b[1;32m<ipython-input-10-b0eb74841062>\u001b[0m in \u001b[0;36m<module>\u001b[1;34m\u001b[0m\n\u001b[1;32m----> 1\u001b[1;33m \u001b[0mpcov\u001b[0m\u001b[1;33m\u001b[0m\u001b[1;33m\u001b[0m\u001b[0m\n\u001b[0m",
      "\u001b[1;31mNameError\u001b[0m: name 'pcov' is not defined"
     ]
    }
   ],
   "source": [
    "pcov"
   ]
  },
  {
   "cell_type": "code",
   "execution_count": 12,
   "id": "3a42b477",
   "metadata": {
    "scrolled": false
   },
   "outputs": [
    {
     "data": {
      "text/plain": [
       "[<matplotlib.lines.Line2D at 0x26fa57e1190>]"
      ]
     },
     "execution_count": 12,
     "metadata": {},
     "output_type": "execute_result"
    },
    {
     "data": {
      "image/png": "[encoded data removed]",
      "text/plain": [
       "<Figure size 432x288 with 1 Axes>"
      ]
     },
     "metadata": {
      "needs_background": "light"
     },
     "output_type": "display_data"
    }
   ],
   "source": [
    "from scipy.optimize import curve_fit\n",
    "\n",
    "def expdecay(t,a):\n",
    "    return np.exp(-t/a)\n",
    "\n",
    "plt.plot(np.abs(np.array(Mz_list).real)/L)\n",
    "\n",
    "popt, pcov = curve_fit(expdecay,t_list,np.abs(np.array(Mz_list).real)/L)\n",
    "plt.plot(t_list,expdecay(np.array(t_list),popt[0]))"
   ]
  },
  {
   "cell_type": "code",
   "execution_count": 22,
   "id": "d61ab19b",
   "metadata": {},
   "outputs": [
    {
     "data": {
      "image/png": "[encoded data removed]",
      "text/plain": [
       "<Figure size 432x288 with 1 Axes>"
      ]
     },
     "metadata": {
      "needs_background": "light"
     },
     "output_type": "display_data"
    }
   ],
   "source": [
    "plt.plot(a_list,'o')\n",
    "plt.xscale('log')\n",
    "plt.yscale('log')"
   ]
  },
  {
   "cell_type": "code",
   "execution_count": 17,
   "id": "c60fa3eb",
   "metadata": {},
   "outputs": [
    {
     "name": "stdout",
     "output_type": "stream",
     "text": [
      "[[283.4454349]]\n",
      "[[1.65959616]]\n",
      "[[0.17037787]]\n",
      "[[0.08486682]]\n",
      "[[0.01928441]]\n"
     ]
    },
    {
     "data": {
      "text/plain": [
       "<matplotlib.legend.Legend at 0x26fa5848f70>"
      ]
     },
     "execution_count": 17,
     "metadata": {},
     "output_type": "execute_result"
    },
    {
     "data": {
      "image/png": "[encoded data removed]",
      "text/plain": [
       "<Figure size 432x288 with 1 Axes>"
      ]
     },
     "metadata": {
      "needs_background": "light"
     },
     "output_type": "display_data"
    }
   ],
   "source": [
    "a_list = []\n",
    "for j,Meps in enumerate(Mz_eps):\n",
    "    plt.plot(t_list,np.abs(np.array(Meps).real)/121,label=r\"$\\epsilon$ = %.2f\"%((j+1)*0.1))\n",
    "    popt, pcov = curve_fit(expdecay,t_list,np.abs(np.array(Meps).real)/L)\n",
    "    a_list.append(popt)\n",
    "    print(pcov)\n",
    "plt.legend()"
   ]
  },
  {
   "cell_type": "code",
   "execution_count": 30,
   "id": "740b376c",
   "metadata": {},
   "outputs": [
    {
     "data": {
      "text/plain": [
       "<matplotlib.image.AxesImage at 0x26fa4420f10>"
      ]
     },
     "execution_count": 30,
     "metadata": {},
     "output_type": "execute_result"
    },
    {
     "data": {
      "image/png": "[encoded data removed]",
      "text/plain": [
       "<Figure size 432x288 with 1 Axes>"
      ]
     },
     "metadata": {
      "needs_background": "light"
     },
     "output_type": "display_data"
    }
   ],
   "source": [
    "plt.imshow(ent_eps[2])"
   ]
  },
  {
   "cell_type": "code",
   "execution_count": 46,
   "id": "562806af",
   "metadata": {},
   "outputs": [
    {
     "data": {
      "text/plain": [
       "[<matplotlib.lines.Line2D at 0x26fa96b3400>]"
      ]
     },
     "execution_count": 46,
     "metadata": {},
     "output_type": "execute_result"
    },
    {
     "data": {
      "image/png": "[encoded data removed]",
      "text/plain": [
       "<Figure size 432x288 with 1 Axes>"
      ]
     },
     "metadata": {
      "needs_background": "light"
     },
     "output_type": "display_data"
    }
   ],
   "source": [
    "plt.plot(np.array(ent_eps)[0][:,L//2])"
   ]
  },
  {
   "cell_type": "code",
   "execution_count": null,
   "id": "6d883dbe",
   "metadata": {},
   "outputs": [],
   "source": []
  },
  {
   "cell_type": "code",
   "execution_count": 8,
   "id": "ead20f57",
   "metadata": {},
   "outputs": [
    {
     "data": {
      "text/plain": [
       "[<matplotlib.lines.Line2D at 0x1ad583fe310>]"
      ]
     },
     "execution_count": 8,
     "metadata": {},
     "output_type": "execute_result"
    },
    {
     "data": {
      "image/png": "[encoded data removed]",
      "text/plain": [
       "<Figure size 432x288 with 1 Axes>"
      ]
     },
     "metadata": {
      "needs_background": "light"
     },
     "output_type": "display_data"
    }
   ],
   "source": [
    "plt.plot(time_engine.MPS.compute_EntEntropy())"
   ]
  },
  {
   "cell_type": "code",
   "execution_count": 13,
   "id": "e6e4b433",
   "metadata": {},
   "outputs": [
    {
     "data": {
      "text/plain": [
       "<matplotlib.image.AxesImage at 0x1ad665a7f70>"
      ]
     },
     "execution_count": 13,
     "metadata": {},
     "output_type": "execute_result"
    },
    {
     "data": {
      "image/png": "[encoded data removed]",
      "text/plain": [
       "<Figure size 432x288 with 1 Axes>"
      ]
     },
     "metadata": {
      "needs_background": "light"
     },
     "output_type": "display_data"
    }
   ],
   "source": [
    "plt.imshow(ent_,origin='lower',aspect='auto')"
   ]
  },
  {
   "cell_type": "code",
   "execution_count": 24,
   "id": "77503508",
   "metadata": {},
   "outputs": [
    {
     "data": {
      "text/plain": [
       "0"
      ]
     },
     "execution_count": 24,
     "metadata": {},
     "output_type": "execute_result"
    }
   ],
   "source": [
    "time_engine.LT[L-2]"
   ]
  },
  {
   "cell_type": "code",
   "execution_count": 14,
   "id": "3c6fa3e1",
   "metadata": {},
   "outputs": [
    {
     "data": {
      "text/plain": [
       "array([[ 1.        +0.00000000e+00j,  1.        +0.00000000e+00j,\n",
       "         1.        +0.00000000e+00j, ...,  1.        +0.00000000e+00j,\n",
       "         1.        +0.00000000e+00j,  1.        +0.00000000e+00j],\n",
       "       [-0.92106099+1.51633289e-18j, -0.92106099+0.00000000e+00j,\n",
       "        -0.92106099+0.00000000e+00j, ..., -0.92106099+0.00000000e+00j,\n",
       "        -0.92106099+0.00000000e+00j, -0.92106099+0.00000000e+00j],\n",
       "       [ 0.91146063+0.00000000e+00j,  0.92846204+0.00000000e+00j,\n",
       "         0.92846204+0.00000000e+00j, ...,  0.92846204+0.00000000e+00j,\n",
       "         0.92846204+0.00000000e+00j,  0.91146063+0.00000000e+00j],\n",
       "       ...,\n",
       "       [ 0.94371211+0.00000000e+00j,  0.87887658+0.00000000e+00j,\n",
       "         0.83648094+0.00000000e+00j, ...,  0.83648094+0.00000000e+00j,\n",
       "         0.87887658+0.00000000e+00j,  0.9437121 +0.00000000e+00j],\n",
       "       [-0.94678837+0.00000000e+00j, -0.87782926+0.00000000e+00j,\n",
       "        -0.83447837+0.00000000e+00j, ..., -0.83447836+0.00000000e+00j,\n",
       "        -0.87782926+0.00000000e+00j, -0.94678837+0.00000000e+00j],\n",
       "       [ 0.94202354+0.00000000e+00j,  0.87779289+0.00000000e+00j,\n",
       "         0.83385262+0.00000000e+00j, ...,  0.83385262+0.00000000e+00j,\n",
       "         0.8777929 +0.00000000e+00j,  0.94202354+0.00000000e+00j]])"
      ]
     },
     "execution_count": 14,
     "metadata": {},
     "output_type": "execute_result"
    }
   ],
   "source": [
    "mz_"
   ]
  }
 ],
 "metadata": {
  "kernelspec": {
   "display_name": "Python 3",
   "language": "python",
   "name": "python3"
  },
  "language_info": {
   "codemirror_mode": {
    "name": "ipython",
    "version": 3
   },
   "file_extension": ".py",
   "mimetype": "text/x-python",
   "name": "python",
   "nbconvert_exporter": "python",
   "pygments_lexer": "ipython3",
   "version": "3.8.8"
  }
 },
 "nbformat": 4,
 "nbformat_minor": 5
}
