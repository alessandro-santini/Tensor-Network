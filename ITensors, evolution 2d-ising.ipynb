{
 "cells": [
  {
   "cell_type": "code",
   "execution_count": 1,
   "id": "3fccd045",
   "metadata": {},
   "outputs": [
    {
     "data": {
      "text/plain": [
       "Plots.PyPlotBackend()"
      ]
     },
     "execution_count": 1,
     "metadata": {},
     "output_type": "execute_result"
    }
   ],
   "source": [
    "using ITensors\n",
    "using PyCall\n",
    "\n",
    "np = pyimport(\"numpy\")\n",
    "\n",
    "using Plots\n",
    "pyplot()"
   ]
  },
  {
   "cell_type": "markdown",
   "id": "b8b7f628",
   "metadata": {},
   "source": [
    "<h1> TDVP Routine </h1>"
   ]
  },
  {
   "cell_type": "code",
   "execution_count": 2,
   "id": "6c49a2ed",
   "metadata": {},
   "outputs": [],
   "source": [
    "using TimeEvoMPS"
   ]
  },
  {
   "cell_type": "markdown",
   "id": "9f7ffcf3",
   "metadata": {},
   "source": [
    "<h1> Define the hamiltonian </h1>"
   ]
  },
  {
   "cell_type": "code",
   "execution_count": 3,
   "id": "c0d6b959",
   "metadata": {},
   "outputs": [
    {
     "name": "stdout",
     "output_type": "stream",
     "text": [
      "After sweep 1 energy=-59.999927122960 maxlinkdim=10 maxerr=1.91E-07 time=16.348\n",
      "After sweep 2 energy=-59.999999999188 maxlinkdim=10 maxerr=1.55E-14 time=0.079\n",
      "After sweep 3 energy=-60.000000000000 maxlinkdim=1 maxerr=3.96E-16 time=0.075\n",
      "After sweep 4 energy=-60.000000000000 maxlinkdim=1 maxerr=5.79E-38 time=0.018\n",
      "After sweep 5 energy=-60.000000000000 maxlinkdim=1 maxerr=5.79E-40 time=0.020\n",
      "After sweep 6 energy=-60.000000000000 maxlinkdim=1 maxerr=8.92E-71 time=4.407\n",
      "After sweep 7 energy=-60.000000000000 maxlinkdim=1 maxerr=3.65E-114 time=0.013\n",
      "Final energy = -60.00000000000003\n"
     ]
    }
   ],
   "source": [
    "h = 0.\n",
    "J = 1\n",
    "\n",
    "Lx = 6\n",
    "Ly = 6\n",
    "\n",
    "L  = Lx*Ly\n",
    "\n",
    "sites = siteinds(\"S=1/2\",L)\n",
    "psi0 = randomMPS(sites)\n",
    "ampo = OpSum()\n",
    "\n",
    "for i=1:L\n",
    "    val = mod(i,Ly)\n",
    "    if mod(i,Ly) != 0\n",
    "        if i != L\n",
    "            ampo += -4*J,\"Sz\",i,\"Sz\",i+1\n",
    "        end\n",
    "    end\n",
    "    if i <= (Lx-1)*Ly\n",
    "        val = i + Ly\n",
    "        ampo += -4*J,\"Sz\",i,\"Sz\",i+Ly\n",
    "    end\n",
    "    ampo += -2*h,\"Sx\",i\n",
    "end\n",
    "\n",
    "H = MPO(ampo,sites)\n",
    "\n",
    "sweeps = Sweeps(7)\n",
    "setmaxdim!(sweeps, 10,20,100,200,300,300,400)\n",
    "setnoise!(sweeps,1e-5,1e-6,1e-8,1e-8,1e-10,0.0,0.0)\n",
    "setcutoff!(sweeps, 1E-15)\n",
    "#@show sweeps\n",
    "\n",
    "#z_observer = DMRGObserver([\"Sz\"],sites,energy_tol=1E-12)\n",
    "\n",
    "energy, psi = dmrg(H, psi0, sweeps)#,observer=Sz_observer)\n",
    "println(\"Final energy = $energy\")"
   ]
  },
  {
   "cell_type": "code",
   "execution_count": null,
   "id": "129198f8",
   "metadata": {},
   "outputs": [
    {
     "name": "stderr",
     "output_type": "stream",
     "text": [
      "┌ Warning: ProgressMeter by default refresh meters with additional information in IJulia via `IJulia.clear_output`, which clears all outputs in the cell. \n",
      "│  - To prevent this behaviour, do `ProgressMeter.ijulia_behavior(:append)`. \n",
      "│  - To disable this warning message, do `ProgressMeter.ijulia_behavior(:clear)`.\n",
      "└ @ ProgressMeter C:\\Users\\asant\\.julia\\packages\\ProgressMeter\\Vf8un\\src\\ProgressMeter.jl:620\n",
      "\r",
      "\u001b[32mEvolving state...  50%|█████████████████                |  ETA: 0:03:52\u001b[39m\r\n",
      "\u001b[34m  t:             0.25\u001b[39m\r\n",
      "\u001b[34m  dt step time:  201.988\u001b[39m\r\n",
      "\u001b[34m  Max bond-dim:  1024\u001b[39m"
     ]
    }
   ],
   "source": [
    "psi = productMPS(sites, fill(\"↑\",L))\n",
    "T  = 0.5\n",
    "dt = 0.05\n",
    "cb = LocalMeasurementCallback([\"Sz\"], sites, T)\n",
    "tdvp!(psi,H,dt,T,callback=cb)"
   ]
  },
  {
   "cell_type": "code",
   "execution_count": null,
   "id": "2ff3a3a7",
   "metadata": {},
   "outputs": [],
   "source": []
  }
 ],
 "metadata": {
  "kernelspec": {
   "display_name": "Julia 1.5.3",
   "language": "julia",
   "name": "julia-1.5"
  },
  "language_info": {
   "file_extension": ".jl",
   "mimetype": "application/julia",
   "name": "julia",
   "version": "1.5.3"
  }
 },
 "nbformat": 4,
 "nbformat_minor": 5
}
